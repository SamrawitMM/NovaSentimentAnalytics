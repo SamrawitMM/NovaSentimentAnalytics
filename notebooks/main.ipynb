{
 "cells": [
  {
   "cell_type": "markdown",
   "metadata": {},
   "source": [
    "Import required libraries"
   ]
  },
  {
   "cell_type": "code",
   "execution_count": 1,
   "metadata": {},
   "outputs": [
    {
     "name": "stdout",
     "output_type": "stream",
     "text": [
      "\u001b[33mWARNING: Ignoring invalid distribution -andas (/home/samrawit/anaconda3/envs/kifiya/lib/python3.9/site-packages)\u001b[0m\u001b[33m\n",
      "\u001b[0mRequirement already satisfied: nltk in /home/samrawit/anaconda3/envs/kifiya/lib/python3.9/site-packages (3.9.1)\n",
      "Requirement already satisfied: click in /home/samrawit/anaconda3/envs/kifiya/lib/python3.9/site-packages (from nltk) (8.1.7)\n",
      "Requirement already satisfied: joblib in /home/samrawit/anaconda3/envs/kifiya/lib/python3.9/site-packages (from nltk) (1.4.2)\n",
      "Requirement already satisfied: regex>=2021.8.3 in /home/samrawit/anaconda3/envs/kifiya/lib/python3.9/site-packages (from nltk) (2024.11.6)\n",
      "Requirement already satisfied: tqdm in /home/samrawit/anaconda3/envs/kifiya/lib/python3.9/site-packages (from nltk) (4.67.1)\n",
      "\u001b[33mWARNING: Ignoring invalid distribution -andas (/home/samrawit/anaconda3/envs/kifiya/lib/python3.9/site-packages)\u001b[0m\u001b[33m\n",
      "\u001b[0m\u001b[33mWARNING: Ignoring invalid distribution -andas (/home/samrawit/anaconda3/envs/kifiya/lib/python3.9/site-packages)\u001b[0m\u001b[33m\n",
      "\u001b[0mNote: you may need to restart the kernel to use updated packages.\n"
     ]
    },
    {
     "name": "stderr",
     "output_type": "stream",
     "text": [
      "[nltk_data] Downloading package stopwords to\n",
      "[nltk_data]     /home/samrawit/nltk_data...\n",
      "[nltk_data]   Package stopwords is already up-to-date!\n",
      "[nltk_data] Downloading package punkt to /home/samrawit/nltk_data...\n",
      "[nltk_data]   Package punkt is already up-to-date!\n",
      "[nltk_data] Downloading package wordnet to /home/samrawit/nltk_data...\n",
      "[nltk_data]   Package wordnet is already up-to-date!\n",
      "[nltk_data] Downloading package words to /home/samrawit/nltk_data...\n",
      "[nltk_data]   Package words is already up-to-date!\n",
      "[nltk_data] Downloading package punkt_tab to\n",
      "[nltk_data]     /home/samrawit/nltk_data...\n",
      "[nltk_data]   Package punkt_tab is already up-to-date!\n"
     ]
    }
   ],
   "source": [
    "# !pip install numpy==1.21.0\n",
    "# !pip install pandas==1.3.5\n",
    "import pandas as pd\n",
    "import os\n",
    "%pip install nltk\n",
    "import nltk\n",
    "nltk.download('stopwords')\n",
    "nltk.download('punkt')\n",
    "nltk.download('wordnet')\n",
    "nltk.download('words')\n",
    "nltk.download('punkt_tab')\n",
    "from nltk.corpus import stopwords\n",
    "from nltk.stem import WordNetLemmatizer\n",
    "from nltk.tokenize import word_tokenize\n",
    "from nltk.corpus import words\n",
    "import string\n",
    "import re\n",
    "import matplotlib.pyplot as plt\n",
    "import sys\n"
   ]
  },
  {
   "cell_type": "code",
   "execution_count": 2,
   "metadata": {},
   "outputs": [
    {
     "name": "stderr",
     "output_type": "stream",
     "text": [
      "[nltk_data] Downloading package words to /home/samrawit/nltk_data...\n",
      "[nltk_data]   Package words is already up-to-date!\n",
      "[nltk_data] Downloading package stopwords to\n",
      "[nltk_data]     /home/samrawit/nltk_data...\n",
      "[nltk_data]   Package stopwords is already up-to-date!\n",
      "[nltk_data] Downloading package punkt to /home/samrawit/nltk_data...\n",
      "[nltk_data]   Package punkt is already up-to-date!\n",
      "[nltk_data] Downloading package wordnet to /home/samrawit/nltk_data...\n",
      "[nltk_data]   Package wordnet is already up-to-date!\n"
     ]
    }
   ],
   "source": [
    "sys.path.append(os.path.abspath('../scripts'))\n",
    "from utility import read_csv_file, clean_text, get_sentiment, sentiment_analysis_parallel, plot_articles_trends, calculate_and_plot, plot_day_month"
   ]
  },
  {
   "cell_type": "markdown",
   "metadata": {},
   "source": [
    "Read dataset"
   ]
  },
  {
   "cell_type": "code",
   "execution_count": 3,
   "metadata": {},
   "outputs": [],
   "source": [
    "all_data_path = '../data/raw_analyst_ratings.csv'\n",
    "text_data = read_csv_file(all_data_path)"
   ]
  },
  {
   "cell_type": "code",
   "execution_count": 4,
   "metadata": {},
   "outputs": [
    {
     "data": {
      "text/html": [
       "<div>\n",
       "<style scoped>\n",
       "    .dataframe tbody tr th:only-of-type {\n",
       "        vertical-align: middle;\n",
       "    }\n",
       "\n",
       "    .dataframe tbody tr th {\n",
       "        vertical-align: top;\n",
       "    }\n",
       "\n",
       "    .dataframe thead th {\n",
       "        text-align: right;\n",
       "    }\n",
       "</style>\n",
       "<table border=\"1\" class=\"dataframe\">\n",
       "  <thead>\n",
       "    <tr style=\"text-align: right;\">\n",
       "      <th></th>\n",
       "      <th>headline</th>\n",
       "      <th>url</th>\n",
       "      <th>publisher</th>\n",
       "      <th>date</th>\n",
       "      <th>stock</th>\n",
       "    </tr>\n",
       "  </thead>\n",
       "  <tbody>\n",
       "    <tr>\n",
       "      <th>0</th>\n",
       "      <td>Stocks That Hit 52-Week Highs On Friday</td>\n",
       "      <td>https://www.benzinga.com/news/20/06/16190091/s...</td>\n",
       "      <td>Benzinga Insights</td>\n",
       "      <td>2020-06-05 10:30:54-04:00</td>\n",
       "      <td>A</td>\n",
       "    </tr>\n",
       "    <tr>\n",
       "      <th>1</th>\n",
       "      <td>Stocks That Hit 52-Week Highs On Wednesday</td>\n",
       "      <td>https://www.benzinga.com/news/20/06/16170189/s...</td>\n",
       "      <td>Benzinga Insights</td>\n",
       "      <td>2020-06-03 10:45:20-04:00</td>\n",
       "      <td>A</td>\n",
       "    </tr>\n",
       "    <tr>\n",
       "      <th>2</th>\n",
       "      <td>71 Biggest Movers From Friday</td>\n",
       "      <td>https://www.benzinga.com/news/20/05/16103463/7...</td>\n",
       "      <td>Lisa Levin</td>\n",
       "      <td>2020-05-26 04:30:07-04:00</td>\n",
       "      <td>A</td>\n",
       "    </tr>\n",
       "    <tr>\n",
       "      <th>3</th>\n",
       "      <td>46 Stocks Moving In Friday's Mid-Day Session</td>\n",
       "      <td>https://www.benzinga.com/news/20/05/16095921/4...</td>\n",
       "      <td>Lisa Levin</td>\n",
       "      <td>2020-05-22 12:45:06-04:00</td>\n",
       "      <td>A</td>\n",
       "    </tr>\n",
       "    <tr>\n",
       "      <th>4</th>\n",
       "      <td>B of A Securities Maintains Neutral on Agilent...</td>\n",
       "      <td>https://www.benzinga.com/news/20/05/16095304/b...</td>\n",
       "      <td>Vick Meyer</td>\n",
       "      <td>2020-05-22 11:38:59-04:00</td>\n",
       "      <td>A</td>\n",
       "    </tr>\n",
       "  </tbody>\n",
       "</table>\n",
       "</div>"
      ],
      "text/plain": [
       "                                            headline  \\\n",
       "0            Stocks That Hit 52-Week Highs On Friday   \n",
       "1         Stocks That Hit 52-Week Highs On Wednesday   \n",
       "2                      71 Biggest Movers From Friday   \n",
       "3       46 Stocks Moving In Friday's Mid-Day Session   \n",
       "4  B of A Securities Maintains Neutral on Agilent...   \n",
       "\n",
       "                                                 url          publisher  \\\n",
       "0  https://www.benzinga.com/news/20/06/16190091/s...  Benzinga Insights   \n",
       "1  https://www.benzinga.com/news/20/06/16170189/s...  Benzinga Insights   \n",
       "2  https://www.benzinga.com/news/20/05/16103463/7...         Lisa Levin   \n",
       "3  https://www.benzinga.com/news/20/05/16095921/4...         Lisa Levin   \n",
       "4  https://www.benzinga.com/news/20/05/16095304/b...         Vick Meyer   \n",
       "\n",
       "                        date stock  \n",
       "0  2020-06-05 10:30:54-04:00     A  \n",
       "1  2020-06-03 10:45:20-04:00     A  \n",
       "2  2020-05-26 04:30:07-04:00     A  \n",
       "3  2020-05-22 12:45:06-04:00     A  \n",
       "4  2020-05-22 11:38:59-04:00     A  "
      ]
     },
     "execution_count": 4,
     "metadata": {},
     "output_type": "execute_result"
    }
   ],
   "source": [
    "text_data = text_data.get(\"data\")\n",
    "text_data.head()"
   ]
  },
  {
   "cell_type": "code",
   "execution_count": 5,
   "metadata": {},
   "outputs": [
    {
     "name": "stdout",
     "output_type": "stream",
     "text": [
      "Processing ../data/yfinance_data/AAPL_historical_data.csv...\n",
      "First 5 rows of AAPL:\n",
      "        Date      Open      High       Low     Close  Adj Close     Volume\n",
      "0 1980-12-12  0.128348  0.128906  0.128348  0.128348   0.098943  469033600\n",
      "1 1980-12-15  0.122210  0.122210  0.121652  0.121652   0.093781  175884800\n",
      "2 1980-12-16  0.113281  0.113281  0.112723  0.112723   0.086898  105728000\n",
      "3 1980-12-17  0.115513  0.116071  0.115513  0.115513   0.089049   86441600\n",
      "4 1980-12-18  0.118862  0.119420  0.118862  0.118862   0.091630   73449600\n",
      "Processing ../data/yfinance_data/AMZN_historical_data.csv...\n",
      "First 5 rows of AMZN:\n",
      "        Date      Open      High       Low     Close  Adj Close      Volume\n",
      "0 1997-05-15  0.121875  0.125000  0.096354  0.097917   0.097917  1443120000\n",
      "1 1997-05-16  0.098438  0.098958  0.085417  0.086458   0.086458   294000000\n",
      "2 1997-05-19  0.088021  0.088542  0.081250  0.085417   0.085417   122136000\n",
      "3 1997-05-20  0.086458  0.087500  0.081771  0.081771   0.081771   109344000\n",
      "4 1997-05-21  0.081771  0.082292  0.068750  0.071354   0.071354   377064000\n",
      "Processing ../data/yfinance_data/GOOG_historical_data.csv...\n",
      "First 5 rows of GOOG:\n",
      "        Date      Open      High       Low     Close  Adj Close     Volume\n",
      "0 2004-08-19  2.490664  2.591785  2.390042  2.499133   2.496292  897427216\n",
      "1 2004-08-20  2.515820  2.716817  2.503118  2.697639   2.694573  458857488\n",
      "2 2004-08-23  2.758411  2.826406  2.716070  2.724787   2.721690  366857939\n",
      "3 2004-08-24  2.770615  2.779581  2.579581  2.611960   2.608991  306396159\n",
      "4 2004-08-25  2.614201  2.689918  2.587302  2.640104   2.637103  184645512\n",
      "Processing ../data/yfinance_data/META_historical_data.csv...\n",
      "First 5 rows of META:\n",
      "        Date       Open       High        Low      Close  Adj Close    Volume\n",
      "0 2012-12-12  28.000000  28.139999  27.370001  27.580000  27.523441  46704200\n",
      "1 2012-12-13  27.590000  28.750000  27.430000  28.240000  28.182087  81051600\n",
      "2 2012-12-14  28.180000  28.330000  26.760000  26.809999  26.755020  91631600\n",
      "3 2012-12-17  26.770000  27.000000  26.320000  26.750000  26.695143  57742500\n",
      "4 2012-12-18  26.959999  27.910000  26.900000  27.709999  27.653173  60512900\n",
      "Processing ../data/yfinance_data/MSFT_historical_data.csv...\n",
      "First 5 rows of MSFT:\n",
      "        Date      Open      High       Low     Close  Adj Close      Volume\n",
      "0 1986-03-13  0.088542  0.101563  0.088542  0.097222   0.059946  1031788800\n",
      "1 1986-03-14  0.097222  0.102431  0.097222  0.100694   0.062087   308160000\n",
      "2 1986-03-17  0.100694  0.103299  0.100694  0.102431   0.063158   133171200\n",
      "3 1986-03-18  0.102431  0.103299  0.098958  0.099826   0.061552    67766400\n",
      "4 1986-03-19  0.099826  0.100694  0.097222  0.098090   0.060482    47894400\n",
      "Processing ../data/yfinance_data/NVDA_historical_data.csv...\n",
      "First 5 rows of NVDA:\n",
      "        Date      Open      High       Low     Close  Adj Close      Volume\n",
      "0 1999-01-22  0.043750  0.048828  0.038802  0.041016   0.037621  2714688000\n",
      "1 1999-01-25  0.044271  0.045833  0.041016  0.045313   0.041562   510480000\n",
      "2 1999-01-26  0.045833  0.046745  0.041146  0.041797   0.038337   343200000\n",
      "3 1999-01-27  0.041927  0.042969  0.039583  0.041667   0.038218   244368000\n",
      "4 1999-01-28  0.041667  0.041927  0.041276  0.041536   0.038098   227520000\n",
      "Processing ../data/yfinance_data/TSLA_historical_data.csv...\n",
      "First 5 rows of TSLA:\n",
      "        Date      Open      High       Low     Close  Adj Close     Volume\n",
      "0 2010-06-29  1.266667  1.666667  1.169333  1.592667   1.592667  281494500\n",
      "1 2010-06-30  1.719333  2.028000  1.553333  1.588667   1.588667  257806500\n",
      "2 2010-07-01  1.666667  1.728000  1.351333  1.464000   1.464000  123282000\n",
      "3 2010-07-02  1.533333  1.540000  1.247333  1.280000   1.280000   77097000\n",
      "4 2010-07-06  1.333333  1.333333  1.055333  1.074000   1.074000  103003500\n"
     ]
    }
   ],
   "source": [
    "\n",
    "path = \"../data/yfinance_data/\"\n",
    "\n",
    "# List of dataset file paths\n",
    "dataset_files = [\"AAPL_historical_data.csv\", \"AMZN_historical_data.csv\", \"GOOG_historical_data.csv\", \"META_historical_data.csv\", \"MSFT_historical_data.csv\", \"NVDA_historical_data.csv\", \"TSLA_historical_data.csv\"]  # Add your dataset filenames here\n",
    "\n",
    "# Corresponding variable names for each dataset\n",
    "dataset_vars = [\"AAPL\", \"AMZN\", \"GOOG\", \"META\", \"MSFT\", \"NVDA\", \"TSLA\"]\n",
    "\n",
    "# Dictionary to store processed DataFrames\n",
    "processed_data = {}\n",
    "\n",
    "# Loop through each dataset\n",
    "for file_name, var_name in zip(dataset_files, dataset_vars):\n",
    "    # Load the dataset\n",
    "    try:\n",
    "        print(f\"Processing {path + file_name}...\")\n",
    "        df = read_csv_file(path + file_name)\n",
    "\n",
    "        df = df.get(\"data\")\n",
    "        \n",
    "        # Parse the Date column\n",
    "        df['Date'] = pd.to_datetime(df['Date'], errors='coerce')\n",
    "        \n",
    "        # Drop rows with invalid or missing Date\n",
    "        df.dropna(subset=['Date'], inplace=True)\n",
    "        \n",
    "        # Select relevant columns\n",
    "        selected_columns = ['Date', 'Open', 'High', 'Low', 'Close', 'Adj Close', 'Volume']\n",
    "        missing_columns = [col for col in selected_columns if col not in df.columns]\n",
    "        \n",
    "        if missing_columns:\n",
    "            print(f\"Warning: {file_name} is missing columns: {missing_columns}\")\n",
    "            continue  # Skip this dataset\n",
    "        \n",
    "        df = df[selected_columns]\n",
    "        \n",
    "        # Dynamically assign the DataFrame to a variable\n",
    "        globals()[var_name] = df\n",
    "        \n",
    "        # Store the processed DataFrame in the dictionary for additional access\n",
    "        processed_data[var_name] = df\n",
    "        \n",
    "        # Display the first 5 rows\n",
    "        print(f\"First 5 rows of {var_name}:\")\n",
    "        print(df.head())\n",
    "    except Exception as e:\n",
    "        print(f\"An error occurred while processing {file_name}: {e}\")\n",
    "\n",
    "\n"
   ]
  },
  {
   "cell_type": "markdown",
   "metadata": {},
   "source": [
    "Split the date with space and convert it to date format"
   ]
  },
  {
   "cell_type": "code",
   "execution_count": 23,
   "metadata": {},
   "outputs": [
    {
     "name": "stdout",
     "output_type": "stream",
     "text": [
      "                              date formatted_date  valid_date\n",
      "0        2020-06-05 10:30:54-04:00     2020-06-05        True\n",
      "1        2020-06-03 10:45:20-04:00     2020-06-03        True\n",
      "2        2020-05-26 04:30:07-04:00     2020-05-26        True\n",
      "3        2020-05-22 12:45:06-04:00     2020-05-22        True\n",
      "4        2020-05-22 11:38:59-04:00     2020-05-22        True\n",
      "...                            ...            ...         ...\n",
      "1407323        2011-08-29 00:00:00     2011-08-29        True\n",
      "1407324        2011-06-22 00:00:00     2011-06-22        True\n",
      "1407325        2011-06-21 00:00:00     2011-06-21        True\n",
      "1407326        2011-06-21 00:00:00     2011-06-21        True\n",
      "1407327        2011-05-12 00:00:00     2011-05-12        True\n",
      "\n",
      "[1407328 rows x 3 columns]\n"
     ]
    }
   ],
   "source": [
    "text_data['date'] = text_data['date'].astype(str)\n",
    "\n",
    "\n",
    "# Split the date with space\n",
    "text_data['extracted_date'] = text_data['date'].str.split(' ').str[0]\n",
    "\n",
    "# Convert extracted date to datetime object (in the format YYYY-MM-DD)\n",
    "text_data['formatted_date'] = pd.to_datetime(text_data['extracted_date'], errors='coerce').dt.strftime('%Y-%m-%d')\n",
    "\n",
    "\n",
    "# Check for successful conversion and store validity\n",
    "text_data['valid_date'] = text_data['formatted_date'].notna()\n",
    "\n",
    "\n",
    "\n",
    "# Display the DataFrame\n",
    "print(text_data[['date', 'formatted_date',   'valid_date']])"
   ]
  },
  {
   "cell_type": "code",
   "execution_count": 24,
   "metadata": {},
   "outputs": [
    {
     "data": {
      "text/plain": [
       "headline          0\n",
       "url               0\n",
       "publisher         0\n",
       "date              0\n",
       "stock             0\n",
       "extracted_date    0\n",
       "formatted_date    0\n",
       "valid_date        0\n",
       "dtype: int64"
      ]
     },
     "execution_count": 24,
     "metadata": {},
     "output_type": "execute_result"
    }
   ],
   "source": [
    "text_data.isna().sum()"
   ]
  },
  {
   "cell_type": "code",
   "execution_count": 25,
   "metadata": {},
   "outputs": [
    {
     "name": "stdout",
     "output_type": "stream",
     "text": [
      "                                                  headline  \\\n",
      "0                  Stocks That Hit 52-Week Highs On Friday   \n",
      "1               Stocks That Hit 52-Week Highs On Wednesday   \n",
      "2                            71 Biggest Movers From Friday   \n",
      "3             46 Stocks Moving In Friday's Mid-Day Session   \n",
      "4        B of A Securities Maintains Neutral on Agilent...   \n",
      "...                                                    ...   \n",
      "1407323             Top Narrow Based Indexes For August 29   \n",
      "1407324  Recap: Wednesday's Top Percentage Gainers and ...   \n",
      "1407325  UPDATE: Oppenheimer Color on China Zenix Auto ...   \n",
      "1407326  Oppenheimer Initiates China Zenix At Outperfor...   \n",
      "1407327  China Zenix Auto International Opens For Tradi...   \n",
      "\n",
      "                                                       url          publisher  \\\n",
      "0        https://www.benzinga.com/news/20/06/16190091/s...  Benzinga Insights   \n",
      "1        https://www.benzinga.com/news/20/06/16170189/s...  Benzinga Insights   \n",
      "2        https://www.benzinga.com/news/20/05/16103463/7...         Lisa Levin   \n",
      "3        https://www.benzinga.com/news/20/05/16095921/4...         Lisa Levin   \n",
      "4        https://www.benzinga.com/news/20/05/16095304/b...         Vick Meyer   \n",
      "...                                                    ...                ...   \n",
      "1407323  https://www.benzinga.com/news/11/08/1888782/to...      Monica Gerson   \n",
      "1407324  https://www.benzinga.com/news/earnings/11/06/1...       Benjamin Lee   \n",
      "1407325  https://www.benzinga.com/analyst-ratings/analy...     BenzingaStaffL   \n",
      "1407326  https://www.benzinga.com/analyst-ratings/price...          Joe Young   \n",
      "1407327  https://www.benzinga.com/news/ipos/11/05/10789...      Allie Wickman   \n",
      "\n",
      "                              date stock extracted_date formatted_date  \\\n",
      "0        2020-06-05 10:30:54-04:00     A     2020-06-05     2020-06-05   \n",
      "1        2020-06-03 10:45:20-04:00     A     2020-06-03     2020-06-03   \n",
      "2        2020-05-26 04:30:07-04:00     A     2020-05-26     2020-05-26   \n",
      "3        2020-05-22 12:45:06-04:00     A     2020-05-22     2020-05-22   \n",
      "4        2020-05-22 11:38:59-04:00     A     2020-05-22     2020-05-22   \n",
      "...                            ...   ...            ...            ...   \n",
      "1407323        2011-08-29 00:00:00    ZX     2011-08-29     2011-08-29   \n",
      "1407324        2011-06-22 00:00:00    ZX     2011-06-22     2011-06-22   \n",
      "1407325        2011-06-21 00:00:00    ZX     2011-06-21     2011-06-21   \n",
      "1407326        2011-06-21 00:00:00    ZX     2011-06-21     2011-06-21   \n",
      "1407327        2011-05-12 00:00:00    ZX     2011-05-12     2011-05-12   \n",
      "\n",
      "         valid_date extracted_time  \n",
      "0              True       10:30:54  \n",
      "1              True       10:45:20  \n",
      "2              True       04:30:07  \n",
      "3              True       12:45:06  \n",
      "4              True       11:38:59  \n",
      "...             ...            ...  \n",
      "1407323        True       00:00:00  \n",
      "1407324        True       00:00:00  \n",
      "1407325        True       00:00:00  \n",
      "1407326        True       00:00:00  \n",
      "1407327        True       00:00:00  \n",
      "\n",
      "[1407328 rows x 9 columns]\n"
     ]
    }
   ],
   "source": [
    "# Function to clean time strings\n",
    "def clean_time_strings(time_str):\n",
    "    try:\n",
    "        # Split by '-' or '+', keeping only the part before the first occurrence\n",
    "        time_str = time_str.split('-')[0].split('+')[0]\n",
    "        # Keep only the part up to the third colon\n",
    "        parts = time_str.split(':')\n",
    "        if len(parts) >= 3:\n",
    "            return ':'.join(parts[:3])  # Reconstruct the time\n",
    "        else:\n",
    "            return time_str  # Return the original if less than 3 parts\n",
    "    except Exception:\n",
    "        return None  # Return None if any exception occurs\n",
    "\n",
    "text_data['date'] = text_data['date'].astype(str)\n",
    "\n",
    "text_data['extracted_time'] = text_data['date'].str.split(' ').str[1]\n",
    "\n",
    "# Apply the cleaning function\n",
    "text_data['extracted_time'] = text_data['extracted_time'].apply(clean_time_strings)\n",
    "\n",
    "# Print the cleaned data\n",
    "print(text_data)"
   ]
  },
  {
   "cell_type": "code",
   "execution_count": 26,
   "metadata": {},
   "outputs": [],
   "source": [
    "def convert_to_timestamp(time_str):\n",
    "    try:\n",
    "        # Combine time with today's date\n",
    "        timestamp = pd.to_datetime(time_str, format='%H:%M:%S', errors='coerce').time()\n",
    "        return timestamp\n",
    "    except Exception:\n",
    "        return None\n",
    "\n",
    "# Apply the function to convert the time column\n",
    "text_data['timestamp'] = text_data['extracted_time'].apply(convert_to_timestamp)\n"
   ]
  },
  {
   "cell_type": "code",
   "execution_count": 10,
   "metadata": {},
   "outputs": [
    {
     "data": {
      "text/html": [
       "<div>\n",
       "<style scoped>\n",
       "    .dataframe tbody tr th:only-of-type {\n",
       "        vertical-align: middle;\n",
       "    }\n",
       "\n",
       "    .dataframe tbody tr th {\n",
       "        vertical-align: top;\n",
       "    }\n",
       "\n",
       "    .dataframe thead th {\n",
       "        text-align: right;\n",
       "    }\n",
       "</style>\n",
       "<table border=\"1\" class=\"dataframe\">\n",
       "  <thead>\n",
       "    <tr style=\"text-align: right;\">\n",
       "      <th></th>\n",
       "      <th>headline</th>\n",
       "      <th>url</th>\n",
       "      <th>publisher</th>\n",
       "      <th>date</th>\n",
       "      <th>stock</th>\n",
       "      <th>extracted_date</th>\n",
       "      <th>formatted_date</th>\n",
       "      <th>valid_date</th>\n",
       "      <th>extracted_time</th>\n",
       "      <th>timestamp</th>\n",
       "    </tr>\n",
       "  </thead>\n",
       "  <tbody>\n",
       "    <tr>\n",
       "      <th>0</th>\n",
       "      <td>Stocks That Hit 52-Week Highs On Friday</td>\n",
       "      <td>https://www.benzinga.com/news/20/06/16190091/s...</td>\n",
       "      <td>Benzinga Insights</td>\n",
       "      <td>2020-06-05 10:30:54-04:00</td>\n",
       "      <td>A</td>\n",
       "      <td>2020-06-05</td>\n",
       "      <td>2020-06-05</td>\n",
       "      <td>True</td>\n",
       "      <td>10:30:54</td>\n",
       "      <td>10:30:54</td>\n",
       "    </tr>\n",
       "    <tr>\n",
       "      <th>1</th>\n",
       "      <td>Stocks That Hit 52-Week Highs On Wednesday</td>\n",
       "      <td>https://www.benzinga.com/news/20/06/16170189/s...</td>\n",
       "      <td>Benzinga Insights</td>\n",
       "      <td>2020-06-03 10:45:20-04:00</td>\n",
       "      <td>A</td>\n",
       "      <td>2020-06-03</td>\n",
       "      <td>2020-06-03</td>\n",
       "      <td>True</td>\n",
       "      <td>10:45:20</td>\n",
       "      <td>10:45:20</td>\n",
       "    </tr>\n",
       "    <tr>\n",
       "      <th>2</th>\n",
       "      <td>71 Biggest Movers From Friday</td>\n",
       "      <td>https://www.benzinga.com/news/20/05/16103463/7...</td>\n",
       "      <td>Lisa Levin</td>\n",
       "      <td>2020-05-26 04:30:07-04:00</td>\n",
       "      <td>A</td>\n",
       "      <td>2020-05-26</td>\n",
       "      <td>2020-05-26</td>\n",
       "      <td>True</td>\n",
       "      <td>04:30:07</td>\n",
       "      <td>04:30:07</td>\n",
       "    </tr>\n",
       "    <tr>\n",
       "      <th>3</th>\n",
       "      <td>46 Stocks Moving In Friday's Mid-Day Session</td>\n",
       "      <td>https://www.benzinga.com/news/20/05/16095921/4...</td>\n",
       "      <td>Lisa Levin</td>\n",
       "      <td>2020-05-22 12:45:06-04:00</td>\n",
       "      <td>A</td>\n",
       "      <td>2020-05-22</td>\n",
       "      <td>2020-05-22</td>\n",
       "      <td>True</td>\n",
       "      <td>12:45:06</td>\n",
       "      <td>12:45:06</td>\n",
       "    </tr>\n",
       "    <tr>\n",
       "      <th>4</th>\n",
       "      <td>B of A Securities Maintains Neutral on Agilent...</td>\n",
       "      <td>https://www.benzinga.com/news/20/05/16095304/b...</td>\n",
       "      <td>Vick Meyer</td>\n",
       "      <td>2020-05-22 11:38:59-04:00</td>\n",
       "      <td>A</td>\n",
       "      <td>2020-05-22</td>\n",
       "      <td>2020-05-22</td>\n",
       "      <td>True</td>\n",
       "      <td>11:38:59</td>\n",
       "      <td>11:38:59</td>\n",
       "    </tr>\n",
       "  </tbody>\n",
       "</table>\n",
       "</div>"
      ],
      "text/plain": [
       "                                            headline  \\\n",
       "0            Stocks That Hit 52-Week Highs On Friday   \n",
       "1         Stocks That Hit 52-Week Highs On Wednesday   \n",
       "2                      71 Biggest Movers From Friday   \n",
       "3       46 Stocks Moving In Friday's Mid-Day Session   \n",
       "4  B of A Securities Maintains Neutral on Agilent...   \n",
       "\n",
       "                                                 url          publisher  \\\n",
       "0  https://www.benzinga.com/news/20/06/16190091/s...  Benzinga Insights   \n",
       "1  https://www.benzinga.com/news/20/06/16170189/s...  Benzinga Insights   \n",
       "2  https://www.benzinga.com/news/20/05/16103463/7...         Lisa Levin   \n",
       "3  https://www.benzinga.com/news/20/05/16095921/4...         Lisa Levin   \n",
       "4  https://www.benzinga.com/news/20/05/16095304/b...         Vick Meyer   \n",
       "\n",
       "                        date stock extracted_date formatted_date  valid_date  \\\n",
       "0  2020-06-05 10:30:54-04:00     A     2020-06-05     2020-06-05        True   \n",
       "1  2020-06-03 10:45:20-04:00     A     2020-06-03     2020-06-03        True   \n",
       "2  2020-05-26 04:30:07-04:00     A     2020-05-26     2020-05-26        True   \n",
       "3  2020-05-22 12:45:06-04:00     A     2020-05-22     2020-05-22        True   \n",
       "4  2020-05-22 11:38:59-04:00     A     2020-05-22     2020-05-22        True   \n",
       "\n",
       "  extracted_time timestamp  \n",
       "0       10:30:54  10:30:54  \n",
       "1       10:45:20  10:45:20  \n",
       "2       04:30:07  04:30:07  \n",
       "3       12:45:06  12:45:06  \n",
       "4       11:38:59  11:38:59  "
      ]
     },
     "execution_count": 10,
     "metadata": {},
     "output_type": "execute_result"
    }
   ],
   "source": [
    "text_data.head()"
   ]
  },
  {
   "cell_type": "code",
   "execution_count": 13,
   "metadata": {},
   "outputs": [
    {
     "data": {
      "text/plain": [
       "headline          0\n",
       "url               0\n",
       "publisher         0\n",
       "date              0\n",
       "stock             0\n",
       "extracted_date    0\n",
       "formatted_date    0\n",
       "valid_date        0\n",
       "extracted_time    0\n",
       "timestamp         0\n",
       "dtype: int64"
      ]
     },
     "execution_count": 13,
     "metadata": {},
     "output_type": "execute_result"
    }
   ],
   "source": [
    "text_data.isna().sum()"
   ]
  },
  {
   "cell_type": "code",
   "execution_count": 27,
   "metadata": {},
   "outputs": [
    {
     "name": "stdout",
     "output_type": "stream",
     "text": [
      "                                                  headline  \\\n",
      "0                  Stocks That Hit 52-Week Highs On Friday   \n",
      "1               Stocks That Hit 52-Week Highs On Wednesday   \n",
      "2                            71 Biggest Movers From Friday   \n",
      "3             46 Stocks Moving In Friday's Mid-Day Session   \n",
      "4        B of A Securities Maintains Neutral on Agilent...   \n",
      "...                                                    ...   \n",
      "1407323             Top Narrow Based Indexes For August 29   \n",
      "1407324  Recap: Wednesday's Top Percentage Gainers and ...   \n",
      "1407325  UPDATE: Oppenheimer Color on China Zenix Auto ...   \n",
      "1407326  Oppenheimer Initiates China Zenix At Outperfor...   \n",
      "1407327  China Zenix Auto International Opens For Tradi...   \n",
      "\n",
      "                                                       url          publisher  \\\n",
      "0        https://www.benzinga.com/news/20/06/16190091/s...  Benzinga Insights   \n",
      "1        https://www.benzinga.com/news/20/06/16170189/s...  Benzinga Insights   \n",
      "2        https://www.benzinga.com/news/20/05/16103463/7...         Lisa Levin   \n",
      "3        https://www.benzinga.com/news/20/05/16095921/4...         Lisa Levin   \n",
      "4        https://www.benzinga.com/news/20/05/16095304/b...         Vick Meyer   \n",
      "...                                                    ...                ...   \n",
      "1407323  https://www.benzinga.com/news/11/08/1888782/to...      Monica Gerson   \n",
      "1407324  https://www.benzinga.com/news/earnings/11/06/1...       Benjamin Lee   \n",
      "1407325  https://www.benzinga.com/analyst-ratings/analy...     BenzingaStaffL   \n",
      "1407326  https://www.benzinga.com/analyst-ratings/price...          Joe Young   \n",
      "1407327  https://www.benzinga.com/news/ipos/11/05/10789...      Allie Wickman   \n",
      "\n",
      "                              date stock extracted_date formatted_date  \\\n",
      "0        2020-06-05 10:30:54-04:00     A     2020-06-05     2020-06-05   \n",
      "1        2020-06-03 10:45:20-04:00     A     2020-06-03     2020-06-03   \n",
      "2        2020-05-26 04:30:07-04:00     A     2020-05-26     2020-05-26   \n",
      "3        2020-05-22 12:45:06-04:00     A     2020-05-22     2020-05-22   \n",
      "4        2020-05-22 11:38:59-04:00     A     2020-05-22     2020-05-22   \n",
      "...                            ...   ...            ...            ...   \n",
      "1407323        2011-08-29 00:00:00    ZX     2011-08-29     2011-08-29   \n",
      "1407324        2011-06-22 00:00:00    ZX     2011-06-22     2011-06-22   \n",
      "1407325        2011-06-21 00:00:00    ZX     2011-06-21     2011-06-21   \n",
      "1407326        2011-06-21 00:00:00    ZX     2011-06-21     2011-06-21   \n",
      "1407327        2011-05-12 00:00:00    ZX     2011-05-12     2011-05-12   \n",
      "\n",
      "         valid_date  extracted_time timestamp formatted_time  valid_time  \n",
      "0              True  10:30:54-04:00  10:30:54            NaN       False  \n",
      "1              True  10:45:20-04:00  10:45:20            NaN       False  \n",
      "2              True  04:30:07-04:00  04:30:07            NaN       False  \n",
      "3              True  12:45:06-04:00  12:45:06            NaN       False  \n",
      "4              True  11:38:59-04:00  11:38:59            NaN       False  \n",
      "...             ...             ...       ...            ...         ...  \n",
      "1407323        True        00:00:00  00:00:00       00:00:00        True  \n",
      "1407324        True        00:00:00  00:00:00       00:00:00        True  \n",
      "1407325        True        00:00:00  00:00:00       00:00:00        True  \n",
      "1407326        True        00:00:00  00:00:00       00:00:00        True  \n",
      "1407327        True        00:00:00  00:00:00       00:00:00        True  \n",
      "\n",
      "[1407328 rows x 12 columns]\n",
      "                              date formatted_time  valid_time\n",
      "0        2020-06-05 10:30:54-04:00            NaN       False\n",
      "1        2020-06-03 10:45:20-04:00            NaN       False\n",
      "2        2020-05-26 04:30:07-04:00            NaN       False\n",
      "3        2020-05-22 12:45:06-04:00            NaN       False\n",
      "4        2020-05-22 11:38:59-04:00            NaN       False\n",
      "...                            ...            ...         ...\n",
      "1407323        2011-08-29 00:00:00       00:00:00        True\n",
      "1407324        2011-06-22 00:00:00       00:00:00        True\n",
      "1407325        2011-06-21 00:00:00       00:00:00        True\n",
      "1407326        2011-06-21 00:00:00       00:00:00        True\n",
      "1407327        2011-05-12 00:00:00       00:00:00        True\n",
      "\n",
      "[1407328 rows x 3 columns]\n"
     ]
    }
   ],
   "source": [
    "text_data['date'] = text_data['date'].astype(str)\n",
    "\n",
    "text_data['extracted_time'] = text_data['date'].str.split(' ').str[1]\n",
    "\n",
    "# Convert extracted_time to datetime (using only the time portion)\n",
    "text_data['formatted_time'] = pd.to_datetime(\n",
    "    text_data['extracted_time'], \n",
    "    format='%H:%M:%S',  # Specify the expected time format\n",
    "    errors='coerce'     # Handle invalid times gracefully\n",
    ")\n",
    "\n",
    "# Format the time as a string\n",
    "text_data['formatted_time'] = text_data['formatted_time'].dt.strftime('%H:%M:%S')\n",
    "\n",
    "# Check for valid times\n",
    "text_data['valid_time'] = text_data['formatted_time'].notna()\n",
    "\n",
    "print(text_data)\n",
    "\n",
    "# Convert extracted date to datetime object (in the format YYYY-MM-DD)\n",
    "# text_data['formatted_time'] = pd.to_datetime(text_data['extracted_time'], errors='coerce').dt.strftime('%H-%M-%S')\n",
    "\n",
    "# text_data['valid_time'] = text_data['formatted_time'].notna()\n",
    "\n",
    "print(text_data[['date', 'formatted_time',   'valid_time']])\n"
   ]
  },
  {
   "cell_type": "code",
   "execution_count": 15,
   "metadata": {},
   "outputs": [
    {
     "data": {
      "text/html": [
       "<div>\n",
       "<style scoped>\n",
       "    .dataframe tbody tr th:only-of-type {\n",
       "        vertical-align: middle;\n",
       "    }\n",
       "\n",
       "    .dataframe tbody tr th {\n",
       "        vertical-align: top;\n",
       "    }\n",
       "\n",
       "    .dataframe thead th {\n",
       "        text-align: right;\n",
       "    }\n",
       "</style>\n",
       "<table border=\"1\" class=\"dataframe\">\n",
       "  <thead>\n",
       "    <tr style=\"text-align: right;\">\n",
       "      <th></th>\n",
       "      <th>headline</th>\n",
       "      <th>url</th>\n",
       "      <th>publisher</th>\n",
       "      <th>date</th>\n",
       "      <th>stock</th>\n",
       "      <th>extracted_date</th>\n",
       "      <th>formatted_date</th>\n",
       "      <th>valid_date</th>\n",
       "      <th>extracted_time</th>\n",
       "      <th>timestamp</th>\n",
       "      <th>formatted_time</th>\n",
       "      <th>valid_time</th>\n",
       "    </tr>\n",
       "  </thead>\n",
       "  <tbody>\n",
       "    <tr>\n",
       "      <th>0</th>\n",
       "      <td>Stocks That Hit 52-Week Highs On Friday</td>\n",
       "      <td>https://www.benzinga.com/news/20/06/16190091/s...</td>\n",
       "      <td>Benzinga Insights</td>\n",
       "      <td>2020-06-05 10:30:54-04:00</td>\n",
       "      <td>A</td>\n",
       "      <td>2020-06-05</td>\n",
       "      <td>2020-06-05</td>\n",
       "      <td>True</td>\n",
       "      <td>10:30:54-04:00</td>\n",
       "      <td>10:30:54</td>\n",
       "      <td>NaN</td>\n",
       "      <td>False</td>\n",
       "    </tr>\n",
       "    <tr>\n",
       "      <th>1</th>\n",
       "      <td>Stocks That Hit 52-Week Highs On Wednesday</td>\n",
       "      <td>https://www.benzinga.com/news/20/06/16170189/s...</td>\n",
       "      <td>Benzinga Insights</td>\n",
       "      <td>2020-06-03 10:45:20-04:00</td>\n",
       "      <td>A</td>\n",
       "      <td>2020-06-03</td>\n",
       "      <td>2020-06-03</td>\n",
       "      <td>True</td>\n",
       "      <td>10:45:20-04:00</td>\n",
       "      <td>10:45:20</td>\n",
       "      <td>NaN</td>\n",
       "      <td>False</td>\n",
       "    </tr>\n",
       "    <tr>\n",
       "      <th>2</th>\n",
       "      <td>71 Biggest Movers From Friday</td>\n",
       "      <td>https://www.benzinga.com/news/20/05/16103463/7...</td>\n",
       "      <td>Lisa Levin</td>\n",
       "      <td>2020-05-26 04:30:07-04:00</td>\n",
       "      <td>A</td>\n",
       "      <td>2020-05-26</td>\n",
       "      <td>2020-05-26</td>\n",
       "      <td>True</td>\n",
       "      <td>04:30:07-04:00</td>\n",
       "      <td>04:30:07</td>\n",
       "      <td>NaN</td>\n",
       "      <td>False</td>\n",
       "    </tr>\n",
       "    <tr>\n",
       "      <th>3</th>\n",
       "      <td>46 Stocks Moving In Friday's Mid-Day Session</td>\n",
       "      <td>https://www.benzinga.com/news/20/05/16095921/4...</td>\n",
       "      <td>Lisa Levin</td>\n",
       "      <td>2020-05-22 12:45:06-04:00</td>\n",
       "      <td>A</td>\n",
       "      <td>2020-05-22</td>\n",
       "      <td>2020-05-22</td>\n",
       "      <td>True</td>\n",
       "      <td>12:45:06-04:00</td>\n",
       "      <td>12:45:06</td>\n",
       "      <td>NaN</td>\n",
       "      <td>False</td>\n",
       "    </tr>\n",
       "    <tr>\n",
       "      <th>4</th>\n",
       "      <td>B of A Securities Maintains Neutral on Agilent...</td>\n",
       "      <td>https://www.benzinga.com/news/20/05/16095304/b...</td>\n",
       "      <td>Vick Meyer</td>\n",
       "      <td>2020-05-22 11:38:59-04:00</td>\n",
       "      <td>A</td>\n",
       "      <td>2020-05-22</td>\n",
       "      <td>2020-05-22</td>\n",
       "      <td>True</td>\n",
       "      <td>11:38:59-04:00</td>\n",
       "      <td>11:38:59</td>\n",
       "      <td>NaN</td>\n",
       "      <td>False</td>\n",
       "    </tr>\n",
       "    <tr>\n",
       "      <th>...</th>\n",
       "      <td>...</td>\n",
       "      <td>...</td>\n",
       "      <td>...</td>\n",
       "      <td>...</td>\n",
       "      <td>...</td>\n",
       "      <td>...</td>\n",
       "      <td>...</td>\n",
       "      <td>...</td>\n",
       "      <td>...</td>\n",
       "      <td>...</td>\n",
       "      <td>...</td>\n",
       "      <td>...</td>\n",
       "    </tr>\n",
       "    <tr>\n",
       "      <th>1407266</th>\n",
       "      <td>Chinese Nano-Cap Momentum Stocks Sharply Highe...</td>\n",
       "      <td>https://www.benzinga.com/movers/18/01/10994518...</td>\n",
       "      <td>Paul Quintaro</td>\n",
       "      <td>2018-01-05 11:47:36-04:00</td>\n",
       "      <td>ZX</td>\n",
       "      <td>2018-01-05</td>\n",
       "      <td>2018-01-05</td>\n",
       "      <td>True</td>\n",
       "      <td>11:47:36-04:00</td>\n",
       "      <td>11:47:36</td>\n",
       "      <td>NaN</td>\n",
       "      <td>False</td>\n",
       "    </tr>\n",
       "    <tr>\n",
       "      <th>1407267</th>\n",
       "      <td>28 Stocks Moving In Wednesday's Pre-Market Ses...</td>\n",
       "      <td>https://www.benzinga.com/news/17/12/10878295/2...</td>\n",
       "      <td>Lisa Levin</td>\n",
       "      <td>2017-12-06 09:12:01-04:00</td>\n",
       "      <td>ZX</td>\n",
       "      <td>2017-12-06</td>\n",
       "      <td>2017-12-06</td>\n",
       "      <td>True</td>\n",
       "      <td>09:12:01-04:00</td>\n",
       "      <td>09:12:01</td>\n",
       "      <td>NaN</td>\n",
       "      <td>False</td>\n",
       "    </tr>\n",
       "    <tr>\n",
       "      <th>1407268</th>\n",
       "      <td>China Zenix Auto International Reports Q3 EPAD...</td>\n",
       "      <td>https://www.benzinga.com/news/earnings/17/12/1...</td>\n",
       "      <td>Paul Quintaro</td>\n",
       "      <td>2017-12-06 07:04:31-04:00</td>\n",
       "      <td>ZX</td>\n",
       "      <td>2017-12-06</td>\n",
       "      <td>2017-12-06</td>\n",
       "      <td>True</td>\n",
       "      <td>07:04:31-04:00</td>\n",
       "      <td>07:04:31</td>\n",
       "      <td>NaN</td>\n",
       "      <td>False</td>\n",
       "    </tr>\n",
       "    <tr>\n",
       "      <th>1407269</th>\n",
       "      <td>46 Biggest Movers From Yesterday</td>\n",
       "      <td>https://www.benzinga.com/news/17/11/10788120/4...</td>\n",
       "      <td>Lisa Levin</td>\n",
       "      <td>2017-11-15 06:04:52-04:00</td>\n",
       "      <td>ZX</td>\n",
       "      <td>2017-11-15</td>\n",
       "      <td>2017-11-15</td>\n",
       "      <td>True</td>\n",
       "      <td>06:04:52-04:00</td>\n",
       "      <td>06:04:52</td>\n",
       "      <td>NaN</td>\n",
       "      <td>False</td>\n",
       "    </tr>\n",
       "    <tr>\n",
       "      <th>1407270</th>\n",
       "      <td>42 Stocks Moving In Tuesday's Mid-Day Session</td>\n",
       "      <td>https://www.benzinga.com/news/17/11/10782008/4...</td>\n",
       "      <td>Lisa Levin</td>\n",
       "      <td>2017-11-14 13:25:57-04:00</td>\n",
       "      <td>ZX</td>\n",
       "      <td>2017-11-14</td>\n",
       "      <td>2017-11-14</td>\n",
       "      <td>True</td>\n",
       "      <td>13:25:57-04:00</td>\n",
       "      <td>13:25:57</td>\n",
       "      <td>NaN</td>\n",
       "      <td>False</td>\n",
       "    </tr>\n",
       "  </tbody>\n",
       "</table>\n",
       "<p>55987 rows × 12 columns</p>\n",
       "</div>"
      ],
      "text/plain": [
       "                                                  headline  \\\n",
       "0                  Stocks That Hit 52-Week Highs On Friday   \n",
       "1               Stocks That Hit 52-Week Highs On Wednesday   \n",
       "2                            71 Biggest Movers From Friday   \n",
       "3             46 Stocks Moving In Friday's Mid-Day Session   \n",
       "4        B of A Securities Maintains Neutral on Agilent...   \n",
       "...                                                    ...   \n",
       "1407266  Chinese Nano-Cap Momentum Stocks Sharply Highe...   \n",
       "1407267  28 Stocks Moving In Wednesday's Pre-Market Ses...   \n",
       "1407268  China Zenix Auto International Reports Q3 EPAD...   \n",
       "1407269                   46 Biggest Movers From Yesterday   \n",
       "1407270      42 Stocks Moving In Tuesday's Mid-Day Session   \n",
       "\n",
       "                                                       url          publisher  \\\n",
       "0        https://www.benzinga.com/news/20/06/16190091/s...  Benzinga Insights   \n",
       "1        https://www.benzinga.com/news/20/06/16170189/s...  Benzinga Insights   \n",
       "2        https://www.benzinga.com/news/20/05/16103463/7...         Lisa Levin   \n",
       "3        https://www.benzinga.com/news/20/05/16095921/4...         Lisa Levin   \n",
       "4        https://www.benzinga.com/news/20/05/16095304/b...         Vick Meyer   \n",
       "...                                                    ...                ...   \n",
       "1407266  https://www.benzinga.com/movers/18/01/10994518...      Paul Quintaro   \n",
       "1407267  https://www.benzinga.com/news/17/12/10878295/2...         Lisa Levin   \n",
       "1407268  https://www.benzinga.com/news/earnings/17/12/1...      Paul Quintaro   \n",
       "1407269  https://www.benzinga.com/news/17/11/10788120/4...         Lisa Levin   \n",
       "1407270  https://www.benzinga.com/news/17/11/10782008/4...         Lisa Levin   \n",
       "\n",
       "                              date stock extracted_date formatted_date  \\\n",
       "0        2020-06-05 10:30:54-04:00     A     2020-06-05     2020-06-05   \n",
       "1        2020-06-03 10:45:20-04:00     A     2020-06-03     2020-06-03   \n",
       "2        2020-05-26 04:30:07-04:00     A     2020-05-26     2020-05-26   \n",
       "3        2020-05-22 12:45:06-04:00     A     2020-05-22     2020-05-22   \n",
       "4        2020-05-22 11:38:59-04:00     A     2020-05-22     2020-05-22   \n",
       "...                            ...   ...            ...            ...   \n",
       "1407266  2018-01-05 11:47:36-04:00    ZX     2018-01-05     2018-01-05   \n",
       "1407267  2017-12-06 09:12:01-04:00    ZX     2017-12-06     2017-12-06   \n",
       "1407268  2017-12-06 07:04:31-04:00    ZX     2017-12-06     2017-12-06   \n",
       "1407269  2017-11-15 06:04:52-04:00    ZX     2017-11-15     2017-11-15   \n",
       "1407270  2017-11-14 13:25:57-04:00    ZX     2017-11-14     2017-11-14   \n",
       "\n",
       "         valid_date  extracted_time timestamp formatted_time  valid_time  \n",
       "0              True  10:30:54-04:00  10:30:54            NaN       False  \n",
       "1              True  10:45:20-04:00  10:45:20            NaN       False  \n",
       "2              True  04:30:07-04:00  04:30:07            NaN       False  \n",
       "3              True  12:45:06-04:00  12:45:06            NaN       False  \n",
       "4              True  11:38:59-04:00  11:38:59            NaN       False  \n",
       "...             ...             ...       ...            ...         ...  \n",
       "1407266        True  11:47:36-04:00  11:47:36            NaN       False  \n",
       "1407267        True  09:12:01-04:00  09:12:01            NaN       False  \n",
       "1407268        True  07:04:31-04:00  07:04:31            NaN       False  \n",
       "1407269        True  06:04:52-04:00  06:04:52            NaN       False  \n",
       "1407270        True  13:25:57-04:00  13:25:57            NaN       False  \n",
       "\n",
       "[55987 rows x 12 columns]"
      ]
     },
     "execution_count": 15,
     "metadata": {},
     "output_type": "execute_result"
    }
   ],
   "source": [
    "text_data[text_data['formatted_time'].isna()]"
   ]
  },
  {
   "cell_type": "code",
   "execution_count": 29,
   "metadata": {},
   "outputs": [],
   "source": [
    "text_data.rename(columns={'formatted_date': 'Date'}, inplace=True)"
   ]
  },
  {
   "cell_type": "code",
   "execution_count": 30,
   "metadata": {},
   "outputs": [
    {
     "data": {
      "text/html": [
       "<div>\n",
       "<style scoped>\n",
       "    .dataframe tbody tr th:only-of-type {\n",
       "        vertical-align: middle;\n",
       "    }\n",
       "\n",
       "    .dataframe tbody tr th {\n",
       "        vertical-align: top;\n",
       "    }\n",
       "\n",
       "    .dataframe thead th {\n",
       "        text-align: right;\n",
       "    }\n",
       "</style>\n",
       "<table border=\"1\" class=\"dataframe\">\n",
       "  <thead>\n",
       "    <tr style=\"text-align: right;\">\n",
       "      <th></th>\n",
       "      <th>headline</th>\n",
       "      <th>url</th>\n",
       "      <th>publisher</th>\n",
       "      <th>date</th>\n",
       "      <th>stock</th>\n",
       "      <th>extracted_date</th>\n",
       "      <th>Date</th>\n",
       "      <th>valid_date</th>\n",
       "      <th>extracted_time</th>\n",
       "      <th>timestamp</th>\n",
       "      <th>formatted_time</th>\n",
       "      <th>valid_time</th>\n",
       "      <th>year</th>\n",
       "      <th>month</th>\n",
       "      <th>day</th>\n",
       "      <th>day_of_week</th>\n",
       "    </tr>\n",
       "  </thead>\n",
       "  <tbody>\n",
       "    <tr>\n",
       "      <th>0</th>\n",
       "      <td>Stocks That Hit 52-Week Highs On Friday</td>\n",
       "      <td>https://www.benzinga.com/news/20/06/16190091/s...</td>\n",
       "      <td>Benzinga Insights</td>\n",
       "      <td>2020-06-05 10:30:54-04:00</td>\n",
       "      <td>A</td>\n",
       "      <td>2020-06-05</td>\n",
       "      <td>2020-06-05</td>\n",
       "      <td>True</td>\n",
       "      <td>10:30:54-04:00</td>\n",
       "      <td>10:30:54</td>\n",
       "      <td>NaN</td>\n",
       "      <td>False</td>\n",
       "      <td>2020</td>\n",
       "      <td>6</td>\n",
       "      <td>5</td>\n",
       "      <td>Friday</td>\n",
       "    </tr>\n",
       "    <tr>\n",
       "      <th>1</th>\n",
       "      <td>Stocks That Hit 52-Week Highs On Wednesday</td>\n",
       "      <td>https://www.benzinga.com/news/20/06/16170189/s...</td>\n",
       "      <td>Benzinga Insights</td>\n",
       "      <td>2020-06-03 10:45:20-04:00</td>\n",
       "      <td>A</td>\n",
       "      <td>2020-06-03</td>\n",
       "      <td>2020-06-03</td>\n",
       "      <td>True</td>\n",
       "      <td>10:45:20-04:00</td>\n",
       "      <td>10:45:20</td>\n",
       "      <td>NaN</td>\n",
       "      <td>False</td>\n",
       "      <td>2020</td>\n",
       "      <td>6</td>\n",
       "      <td>3</td>\n",
       "      <td>Wednesday</td>\n",
       "    </tr>\n",
       "    <tr>\n",
       "      <th>2</th>\n",
       "      <td>71 Biggest Movers From Friday</td>\n",
       "      <td>https://www.benzinga.com/news/20/05/16103463/7...</td>\n",
       "      <td>Lisa Levin</td>\n",
       "      <td>2020-05-26 04:30:07-04:00</td>\n",
       "      <td>A</td>\n",
       "      <td>2020-05-26</td>\n",
       "      <td>2020-05-26</td>\n",
       "      <td>True</td>\n",
       "      <td>04:30:07-04:00</td>\n",
       "      <td>04:30:07</td>\n",
       "      <td>NaN</td>\n",
       "      <td>False</td>\n",
       "      <td>2020</td>\n",
       "      <td>5</td>\n",
       "      <td>26</td>\n",
       "      <td>Tuesday</td>\n",
       "    </tr>\n",
       "    <tr>\n",
       "      <th>3</th>\n",
       "      <td>46 Stocks Moving In Friday's Mid-Day Session</td>\n",
       "      <td>https://www.benzinga.com/news/20/05/16095921/4...</td>\n",
       "      <td>Lisa Levin</td>\n",
       "      <td>2020-05-22 12:45:06-04:00</td>\n",
       "      <td>A</td>\n",
       "      <td>2020-05-22</td>\n",
       "      <td>2020-05-22</td>\n",
       "      <td>True</td>\n",
       "      <td>12:45:06-04:00</td>\n",
       "      <td>12:45:06</td>\n",
       "      <td>NaN</td>\n",
       "      <td>False</td>\n",
       "      <td>2020</td>\n",
       "      <td>5</td>\n",
       "      <td>22</td>\n",
       "      <td>Friday</td>\n",
       "    </tr>\n",
       "    <tr>\n",
       "      <th>4</th>\n",
       "      <td>B of A Securities Maintains Neutral on Agilent...</td>\n",
       "      <td>https://www.benzinga.com/news/20/05/16095304/b...</td>\n",
       "      <td>Vick Meyer</td>\n",
       "      <td>2020-05-22 11:38:59-04:00</td>\n",
       "      <td>A</td>\n",
       "      <td>2020-05-22</td>\n",
       "      <td>2020-05-22</td>\n",
       "      <td>True</td>\n",
       "      <td>11:38:59-04:00</td>\n",
       "      <td>11:38:59</td>\n",
       "      <td>NaN</td>\n",
       "      <td>False</td>\n",
       "      <td>2020</td>\n",
       "      <td>5</td>\n",
       "      <td>22</td>\n",
       "      <td>Friday</td>\n",
       "    </tr>\n",
       "    <tr>\n",
       "      <th>...</th>\n",
       "      <td>...</td>\n",
       "      <td>...</td>\n",
       "      <td>...</td>\n",
       "      <td>...</td>\n",
       "      <td>...</td>\n",
       "      <td>...</td>\n",
       "      <td>...</td>\n",
       "      <td>...</td>\n",
       "      <td>...</td>\n",
       "      <td>...</td>\n",
       "      <td>...</td>\n",
       "      <td>...</td>\n",
       "      <td>...</td>\n",
       "      <td>...</td>\n",
       "      <td>...</td>\n",
       "      <td>...</td>\n",
       "    </tr>\n",
       "    <tr>\n",
       "      <th>1407323</th>\n",
       "      <td>Top Narrow Based Indexes For August 29</td>\n",
       "      <td>https://www.benzinga.com/news/11/08/1888782/to...</td>\n",
       "      <td>Monica Gerson</td>\n",
       "      <td>2011-08-29 00:00:00</td>\n",
       "      <td>ZX</td>\n",
       "      <td>2011-08-29</td>\n",
       "      <td>2011-08-29</td>\n",
       "      <td>True</td>\n",
       "      <td>00:00:00</td>\n",
       "      <td>00:00:00</td>\n",
       "      <td>00:00:00</td>\n",
       "      <td>True</td>\n",
       "      <td>2011</td>\n",
       "      <td>8</td>\n",
       "      <td>29</td>\n",
       "      <td>Monday</td>\n",
       "    </tr>\n",
       "    <tr>\n",
       "      <th>1407324</th>\n",
       "      <td>Recap: Wednesday's Top Percentage Gainers and ...</td>\n",
       "      <td>https://www.benzinga.com/news/earnings/11/06/1...</td>\n",
       "      <td>Benjamin Lee</td>\n",
       "      <td>2011-06-22 00:00:00</td>\n",
       "      <td>ZX</td>\n",
       "      <td>2011-06-22</td>\n",
       "      <td>2011-06-22</td>\n",
       "      <td>True</td>\n",
       "      <td>00:00:00</td>\n",
       "      <td>00:00:00</td>\n",
       "      <td>00:00:00</td>\n",
       "      <td>True</td>\n",
       "      <td>2011</td>\n",
       "      <td>6</td>\n",
       "      <td>22</td>\n",
       "      <td>Wednesday</td>\n",
       "    </tr>\n",
       "    <tr>\n",
       "      <th>1407325</th>\n",
       "      <td>UPDATE: Oppenheimer Color on China Zenix Auto ...</td>\n",
       "      <td>https://www.benzinga.com/analyst-ratings/analy...</td>\n",
       "      <td>BenzingaStaffL</td>\n",
       "      <td>2011-06-21 00:00:00</td>\n",
       "      <td>ZX</td>\n",
       "      <td>2011-06-21</td>\n",
       "      <td>2011-06-21</td>\n",
       "      <td>True</td>\n",
       "      <td>00:00:00</td>\n",
       "      <td>00:00:00</td>\n",
       "      <td>00:00:00</td>\n",
       "      <td>True</td>\n",
       "      <td>2011</td>\n",
       "      <td>6</td>\n",
       "      <td>21</td>\n",
       "      <td>Tuesday</td>\n",
       "    </tr>\n",
       "    <tr>\n",
       "      <th>1407326</th>\n",
       "      <td>Oppenheimer Initiates China Zenix At Outperfor...</td>\n",
       "      <td>https://www.benzinga.com/analyst-ratings/price...</td>\n",
       "      <td>Joe Young</td>\n",
       "      <td>2011-06-21 00:00:00</td>\n",
       "      <td>ZX</td>\n",
       "      <td>2011-06-21</td>\n",
       "      <td>2011-06-21</td>\n",
       "      <td>True</td>\n",
       "      <td>00:00:00</td>\n",
       "      <td>00:00:00</td>\n",
       "      <td>00:00:00</td>\n",
       "      <td>True</td>\n",
       "      <td>2011</td>\n",
       "      <td>6</td>\n",
       "      <td>21</td>\n",
       "      <td>Tuesday</td>\n",
       "    </tr>\n",
       "    <tr>\n",
       "      <th>1407327</th>\n",
       "      <td>China Zenix Auto International Opens For Tradi...</td>\n",
       "      <td>https://www.benzinga.com/news/ipos/11/05/10789...</td>\n",
       "      <td>Allie Wickman</td>\n",
       "      <td>2011-05-12 00:00:00</td>\n",
       "      <td>ZX</td>\n",
       "      <td>2011-05-12</td>\n",
       "      <td>2011-05-12</td>\n",
       "      <td>True</td>\n",
       "      <td>00:00:00</td>\n",
       "      <td>00:00:00</td>\n",
       "      <td>00:00:00</td>\n",
       "      <td>True</td>\n",
       "      <td>2011</td>\n",
       "      <td>5</td>\n",
       "      <td>12</td>\n",
       "      <td>Thursday</td>\n",
       "    </tr>\n",
       "  </tbody>\n",
       "</table>\n",
       "<p>1407328 rows × 16 columns</p>\n",
       "</div>"
      ],
      "text/plain": [
       "                                                  headline  \\\n",
       "0                  Stocks That Hit 52-Week Highs On Friday   \n",
       "1               Stocks That Hit 52-Week Highs On Wednesday   \n",
       "2                            71 Biggest Movers From Friday   \n",
       "3             46 Stocks Moving In Friday's Mid-Day Session   \n",
       "4        B of A Securities Maintains Neutral on Agilent...   \n",
       "...                                                    ...   \n",
       "1407323             Top Narrow Based Indexes For August 29   \n",
       "1407324  Recap: Wednesday's Top Percentage Gainers and ...   \n",
       "1407325  UPDATE: Oppenheimer Color on China Zenix Auto ...   \n",
       "1407326  Oppenheimer Initiates China Zenix At Outperfor...   \n",
       "1407327  China Zenix Auto International Opens For Tradi...   \n",
       "\n",
       "                                                       url          publisher  \\\n",
       "0        https://www.benzinga.com/news/20/06/16190091/s...  Benzinga Insights   \n",
       "1        https://www.benzinga.com/news/20/06/16170189/s...  Benzinga Insights   \n",
       "2        https://www.benzinga.com/news/20/05/16103463/7...         Lisa Levin   \n",
       "3        https://www.benzinga.com/news/20/05/16095921/4...         Lisa Levin   \n",
       "4        https://www.benzinga.com/news/20/05/16095304/b...         Vick Meyer   \n",
       "...                                                    ...                ...   \n",
       "1407323  https://www.benzinga.com/news/11/08/1888782/to...      Monica Gerson   \n",
       "1407324  https://www.benzinga.com/news/earnings/11/06/1...       Benjamin Lee   \n",
       "1407325  https://www.benzinga.com/analyst-ratings/analy...     BenzingaStaffL   \n",
       "1407326  https://www.benzinga.com/analyst-ratings/price...          Joe Young   \n",
       "1407327  https://www.benzinga.com/news/ipos/11/05/10789...      Allie Wickman   \n",
       "\n",
       "                              date stock extracted_date       Date  \\\n",
       "0        2020-06-05 10:30:54-04:00     A     2020-06-05 2020-06-05   \n",
       "1        2020-06-03 10:45:20-04:00     A     2020-06-03 2020-06-03   \n",
       "2        2020-05-26 04:30:07-04:00     A     2020-05-26 2020-05-26   \n",
       "3        2020-05-22 12:45:06-04:00     A     2020-05-22 2020-05-22   \n",
       "4        2020-05-22 11:38:59-04:00     A     2020-05-22 2020-05-22   \n",
       "...                            ...   ...            ...        ...   \n",
       "1407323        2011-08-29 00:00:00    ZX     2011-08-29 2011-08-29   \n",
       "1407324        2011-06-22 00:00:00    ZX     2011-06-22 2011-06-22   \n",
       "1407325        2011-06-21 00:00:00    ZX     2011-06-21 2011-06-21   \n",
       "1407326        2011-06-21 00:00:00    ZX     2011-06-21 2011-06-21   \n",
       "1407327        2011-05-12 00:00:00    ZX     2011-05-12 2011-05-12   \n",
       "\n",
       "         valid_date  extracted_time timestamp formatted_time  valid_time  \\\n",
       "0              True  10:30:54-04:00  10:30:54            NaN       False   \n",
       "1              True  10:45:20-04:00  10:45:20            NaN       False   \n",
       "2              True  04:30:07-04:00  04:30:07            NaN       False   \n",
       "3              True  12:45:06-04:00  12:45:06            NaN       False   \n",
       "4              True  11:38:59-04:00  11:38:59            NaN       False   \n",
       "...             ...             ...       ...            ...         ...   \n",
       "1407323        True        00:00:00  00:00:00       00:00:00        True   \n",
       "1407324        True        00:00:00  00:00:00       00:00:00        True   \n",
       "1407325        True        00:00:00  00:00:00       00:00:00        True   \n",
       "1407326        True        00:00:00  00:00:00       00:00:00        True   \n",
       "1407327        True        00:00:00  00:00:00       00:00:00        True   \n",
       "\n",
       "         year  month  day day_of_week  \n",
       "0        2020      6    5      Friday  \n",
       "1        2020      6    3   Wednesday  \n",
       "2        2020      5   26     Tuesday  \n",
       "3        2020      5   22      Friday  \n",
       "4        2020      5   22      Friday  \n",
       "...       ...    ...  ...         ...  \n",
       "1407323  2011      8   29      Monday  \n",
       "1407324  2011      6   22   Wednesday  \n",
       "1407325  2011      6   21     Tuesday  \n",
       "1407326  2011      6   21     Tuesday  \n",
       "1407327  2011      5   12    Thursday  \n",
       "\n",
       "[1407328 rows x 16 columns]"
      ]
     },
     "execution_count": 30,
     "metadata": {},
     "output_type": "execute_result"
    }
   ],
   "source": [
    "text_data['Date'] = pd.to_datetime(text_data['Date'])\n",
    "\n",
    "# Extract year, month, day, and day_of_week\n",
    "text_data['year'] = text_data['Date'].dt.year\n",
    "text_data['month'] = text_data['Date'].dt.month\n",
    "text_data['day'] = text_data['Date'].dt.day\n",
    "text_data['day_of_week'] = text_data['Date'].dt.day_name()  # Get the full name of the weekday (e.g., 'Monday')\n",
    "\n",
    "# Display the dataframe\n",
    "text_data"
   ]
  },
  {
   "cell_type": "code",
   "execution_count": 18,
   "metadata": {},
   "outputs": [
    {
     "data": {
      "text/plain": [
       "Index(['headline', 'url', 'publisher', 'date', 'stock', 'extracted_date',\n",
       "       'Date', 'valid_date', 'extracted_time', 'timestamp', 'formatted_time',\n",
       "       'valid_time', 'year', 'month', 'day', 'day_of_week'],\n",
       "      dtype='object')"
      ]
     },
     "execution_count": 18,
     "metadata": {},
     "output_type": "execute_result"
    }
   ],
   "source": [
    "text_data.columns"
   ]
  },
  {
   "cell_type": "code",
   "execution_count": 34,
   "metadata": {},
   "outputs": [],
   "source": [
    "# text_data.rename(columns={'formatted_date': 'Date'}, inplace=True)"
   ]
  },
  {
   "cell_type": "code",
   "execution_count": 19,
   "metadata": {},
   "outputs": [
    {
     "name": "stdout",
     "output_type": "stream",
     "text": [
      "<class 'pandas.core.frame.DataFrame'>\n",
      "RangeIndex: 1407328 entries, 0 to 1407327\n",
      "Data columns (total 16 columns):\n",
      " #   Column          Non-Null Count    Dtype         \n",
      "---  ------          --------------    -----         \n",
      " 0   headline        1407328 non-null  object        \n",
      " 1   url             1407328 non-null  object        \n",
      " 2   publisher       1407328 non-null  object        \n",
      " 3   date            1407328 non-null  object        \n",
      " 4   stock           1407328 non-null  object        \n",
      " 5   extracted_date  1407328 non-null  object        \n",
      " 6   Date            1407328 non-null  datetime64[ns]\n",
      " 7   valid_date      1407328 non-null  bool          \n",
      " 8   extracted_time  1407328 non-null  object        \n",
      " 9   timestamp       1407328 non-null  object        \n",
      " 10  formatted_time  1351341 non-null  object        \n",
      " 11  valid_time      1407328 non-null  bool          \n",
      " 12  year            1407328 non-null  int32         \n",
      " 13  month           1407328 non-null  int32         \n",
      " 14  day             1407328 non-null  int32         \n",
      " 15  day_of_week     1407328 non-null  object        \n",
      "dtypes: bool(2), datetime64[ns](1), int32(3), object(10)\n",
      "memory usage: 136.9+ MB\n"
     ]
    }
   ],
   "source": [
    "text_data.info()"
   ]
  },
  {
   "cell_type": "markdown",
   "metadata": {},
   "source": [
    "Analysis"
   ]
  },
  {
   "cell_type": "code",
   "execution_count": 20,
   "metadata": {},
   "outputs": [
    {
     "name": "stdout",
     "output_type": "stream",
     "text": [
      "Average Articles Published Per Day of the Week (Monday to Sunday):\n",
      "day_of_week\n",
      "Monday       265164\n",
      "Tuesday      296470\n",
      "Wednesday    300940\n",
      "Thursday     302595\n",
      "Friday       217892\n",
      "Saturday       7753\n",
      "Sunday        16514\n",
      "dtype: int64\n",
      "\n",
      "Average Articles Published Per Year:\n",
      "year\n",
      "2009     11489\n",
      "2010     81319\n",
      "2011    131322\n",
      "2012    122655\n",
      "2013    121523\n",
      "2014    134859\n",
      "2015    135295\n",
      "2016    141892\n",
      "2017    124456\n",
      "2018    146924\n",
      "2019    150380\n",
      "2020    105214\n",
      "dtype: int64\n"
     ]
    }
   ],
   "source": [
    "# Ensure the 'date' column is in datetime format\n",
    "text_data['Date'] = pd.to_datetime(text_data['Date'])\n",
    "\n",
    "# Extract year, month, day, and day_of_week\n",
    "text_data['year'] = text_data['Date'].dt.year\n",
    "text_data['month'] = text_data['Date'].dt.month\n",
    "text_data['day'] = text_data['Date'].dt.day\n",
    "text_data['day_of_week'] = text_data['Date'].dt.day_name()  # Get the full name of the weekday (e.g., 'Monday')\n",
    "\n",
    "# Function to calculate and plot\n",
    "# def calculate_and_plot(text_data):\n",
    "#     # Extract year, month, and day_of_week directly from the DatetimeIndex\n",
    "#     text_data['year'] = text_data['Date'].dt.year\n",
    "#     text_data['month'] = text_data['Date'].dt.month\n",
    "#     text_data['day_of_week'] = text_data['Date'].dt.day_name()\n",
    "\n",
    "#     # Count articles by day of the week (day_of_week column)\n",
    "#     articles_per_day = text_data['day_of_week'].value_counts()\n",
    "\n",
    "#     # Count articles over time (monthly trends) by grouping by year and month\n",
    "#     articles_over_time = text_data.groupby(['year', 'month']).size().sort_index()\n",
    "\n",
    "#     # Calculate the total number of articles published per day of the week across the entire dataset\n",
    "#     articles_per_day_total = text_data.groupby('day_of_week').size()\n",
    "\n",
    "#     # Calculate the average articles per day of the week across all years\n",
    "#     total_days = len(text_data)  # Total number of days in the dataset\n",
    "#     articles_per_day_avg = articles_per_day_total\n",
    "\n",
    "#     # Ensure the order of the days of the week (Monday to Sunday)\n",
    "#     ordered_days = ['Monday', 'Tuesday', 'Wednesday', 'Thursday', 'Friday', 'Saturday', 'Sunday']\n",
    "#     articles_per_day_avg = articles_per_day_avg[ordered_days]\n",
    "\n",
    "#     # Calculate the total articles per year\n",
    "#     articles_per_year_total = text_data.groupby('year').size()\n",
    "\n",
    "#     # Calculate the average articles per year (total number of articles per year divided by the number of years)\n",
    "#     total_years = len(text_data['year'].unique())  # Count the number of unique years\n",
    "#     articles_per_year_avg = articles_per_year_total / total_years  # Average per year\n",
    "\n",
    "#     # Plotting\n",
    "#     fig, axs = plt.subplots(1, 2, figsize=(15, 6))\n",
    "\n",
    "#     # Plot the articles per day of the week\n",
    "#     axs[0].bar(articles_per_day_avg.index, articles_per_day_avg.values)\n",
    "#     axs[0].set_title(\"Average Articles Per Day of the Week\")\n",
    "#     axs[0].set_xlabel(\"Day of the Week\")\n",
    "#     axs[0].set_ylabel(\"Average Articles\")\n",
    "    \n",
    "#     # Plot the articles per year\n",
    "#     axs[1].bar(articles_per_year_avg.index, articles_per_year_avg.values)\n",
    "#     axs[1].set_title(\"Average Articles Per Year\")\n",
    "#     axs[1].set_xlabel(\"Year\")\n",
    "#     axs[1].set_ylabel(\"Average Articles\")\n",
    "\n",
    "#     # Display the plot\n",
    "#     plt.tight_layout()\n",
    "#     plt.show()\n",
    "\n",
    "# Call the function\n",
    "articles_per_day_avg, articles_per_year_avg = calculate_and_plot(text_data)"
   ]
  },
  {
   "cell_type": "code",
   "execution_count": 11,
   "metadata": {},
   "outputs": [
    {
     "data": {
      "image/png": "[encoded data removed]",
      "text/plain": [
       "<Figure size 1400x600 with 2 Axes>"
      ]
     },
     "metadata": {},
     "output_type": "display_data"
    }
   ],
   "source": [
    "plot_articles_trends(articles_per_day_avg, articles_per_year_avg)"
   ]
  },
  {
   "cell_type": "code",
   "execution_count": 12,
   "metadata": {},
   "outputs": [
    {
     "data": {
      "image/png": "[encoded data removed]",
      "text/plain": [
       "<Figure size 1600x800 with 2 Axes>"
      ]
     },
     "metadata": {},
     "output_type": "display_data"
    }
   ],
   "source": [
    "plot_day_month(text_data)"
   ]
  },
  {
   "cell_type": "code",
   "execution_count": 21,
   "metadata": {},
   "outputs": [
    {
     "data": {
      "text/html": [
       "<div>\n",
       "<style scoped>\n",
       "    .dataframe tbody tr th:only-of-type {\n",
       "        vertical-align: middle;\n",
       "    }\n",
       "\n",
       "    .dataframe tbody tr th {\n",
       "        vertical-align: top;\n",
       "    }\n",
       "\n",
       "    .dataframe thead th {\n",
       "        text-align: right;\n",
       "    }\n",
       "</style>\n",
       "<table border=\"1\" class=\"dataframe\">\n",
       "  <thead>\n",
       "    <tr style=\"text-align: right;\">\n",
       "      <th></th>\n",
       "      <th>headline</th>\n",
       "      <th>url</th>\n",
       "      <th>publisher</th>\n",
       "      <th>date</th>\n",
       "      <th>stock</th>\n",
       "      <th>extracted_date</th>\n",
       "      <th>Date</th>\n",
       "      <th>valid_date</th>\n",
       "      <th>extracted_time</th>\n",
       "      <th>timestamp</th>\n",
       "      <th>formatted_time</th>\n",
       "      <th>valid_time</th>\n",
       "      <th>year</th>\n",
       "      <th>month</th>\n",
       "      <th>day</th>\n",
       "      <th>day_of_week</th>\n",
       "    </tr>\n",
       "  </thead>\n",
       "  <tbody>\n",
       "    <tr>\n",
       "      <th>0</th>\n",
       "      <td>Stocks That Hit 52-Week Highs On Friday</td>\n",
       "      <td>https://www.benzinga.com/news/20/06/16190091/s...</td>\n",
       "      <td>Benzinga Insights</td>\n",
       "      <td>2020-06-05 10:30:54-04:00</td>\n",
       "      <td>A</td>\n",
       "      <td>2020-06-05</td>\n",
       "      <td>2020-06-05</td>\n",
       "      <td>True</td>\n",
       "      <td>10:30:54-04:00</td>\n",
       "      <td>10:30:54</td>\n",
       "      <td>NaN</td>\n",
       "      <td>False</td>\n",
       "      <td>2020</td>\n",
       "      <td>6</td>\n",
       "      <td>5</td>\n",
       "      <td>Friday</td>\n",
       "    </tr>\n",
       "    <tr>\n",
       "      <th>1</th>\n",
       "      <td>Stocks That Hit 52-Week Highs On Wednesday</td>\n",
       "      <td>https://www.benzinga.com/news/20/06/16170189/s...</td>\n",
       "      <td>Benzinga Insights</td>\n",
       "      <td>2020-06-03 10:45:20-04:00</td>\n",
       "      <td>A</td>\n",
       "      <td>2020-06-03</td>\n",
       "      <td>2020-06-03</td>\n",
       "      <td>True</td>\n",
       "      <td>10:45:20-04:00</td>\n",
       "      <td>10:45:20</td>\n",
       "      <td>NaN</td>\n",
       "      <td>False</td>\n",
       "      <td>2020</td>\n",
       "      <td>6</td>\n",
       "      <td>3</td>\n",
       "      <td>Wednesday</td>\n",
       "    </tr>\n",
       "    <tr>\n",
       "      <th>2</th>\n",
       "      <td>71 Biggest Movers From Friday</td>\n",
       "      <td>https://www.benzinga.com/news/20/05/16103463/7...</td>\n",
       "      <td>Lisa Levin</td>\n",
       "      <td>2020-05-26 04:30:07-04:00</td>\n",
       "      <td>A</td>\n",
       "      <td>2020-05-26</td>\n",
       "      <td>2020-05-26</td>\n",
       "      <td>True</td>\n",
       "      <td>04:30:07-04:00</td>\n",
       "      <td>04:30:07</td>\n",
       "      <td>NaN</td>\n",
       "      <td>False</td>\n",
       "      <td>2020</td>\n",
       "      <td>5</td>\n",
       "      <td>26</td>\n",
       "      <td>Tuesday</td>\n",
       "    </tr>\n",
       "    <tr>\n",
       "      <th>3</th>\n",
       "      <td>46 Stocks Moving In Friday's Mid-Day Session</td>\n",
       "      <td>https://www.benzinga.com/news/20/05/16095921/4...</td>\n",
       "      <td>Lisa Levin</td>\n",
       "      <td>2020-05-22 12:45:06-04:00</td>\n",
       "      <td>A</td>\n",
       "      <td>2020-05-22</td>\n",
       "      <td>2020-05-22</td>\n",
       "      <td>True</td>\n",
       "      <td>12:45:06-04:00</td>\n",
       "      <td>12:45:06</td>\n",
       "      <td>NaN</td>\n",
       "      <td>False</td>\n",
       "      <td>2020</td>\n",
       "      <td>5</td>\n",
       "      <td>22</td>\n",
       "      <td>Friday</td>\n",
       "    </tr>\n",
       "    <tr>\n",
       "      <th>4</th>\n",
       "      <td>B of A Securities Maintains Neutral on Agilent...</td>\n",
       "      <td>https://www.benzinga.com/news/20/05/16095304/b...</td>\n",
       "      <td>Vick Meyer</td>\n",
       "      <td>2020-05-22 11:38:59-04:00</td>\n",
       "      <td>A</td>\n",
       "      <td>2020-05-22</td>\n",
       "      <td>2020-05-22</td>\n",
       "      <td>True</td>\n",
       "      <td>11:38:59-04:00</td>\n",
       "      <td>11:38:59</td>\n",
       "      <td>NaN</td>\n",
       "      <td>False</td>\n",
       "      <td>2020</td>\n",
       "      <td>5</td>\n",
       "      <td>22</td>\n",
       "      <td>Friday</td>\n",
       "    </tr>\n",
       "    <tr>\n",
       "      <th>...</th>\n",
       "      <td>...</td>\n",
       "      <td>...</td>\n",
       "      <td>...</td>\n",
       "      <td>...</td>\n",
       "      <td>...</td>\n",
       "      <td>...</td>\n",
       "      <td>...</td>\n",
       "      <td>...</td>\n",
       "      <td>...</td>\n",
       "      <td>...</td>\n",
       "      <td>...</td>\n",
       "      <td>...</td>\n",
       "      <td>...</td>\n",
       "      <td>...</td>\n",
       "      <td>...</td>\n",
       "      <td>...</td>\n",
       "    </tr>\n",
       "    <tr>\n",
       "      <th>1407323</th>\n",
       "      <td>Top Narrow Based Indexes For August 29</td>\n",
       "      <td>https://www.benzinga.com/news/11/08/1888782/to...</td>\n",
       "      <td>Monica Gerson</td>\n",
       "      <td>2011-08-29 00:00:00</td>\n",
       "      <td>ZX</td>\n",
       "      <td>2011-08-29</td>\n",
       "      <td>2011-08-29</td>\n",
       "      <td>True</td>\n",
       "      <td>00:00:00</td>\n",
       "      <td>00:00:00</td>\n",
       "      <td>00:00:00</td>\n",
       "      <td>True</td>\n",
       "      <td>2011</td>\n",
       "      <td>8</td>\n",
       "      <td>29</td>\n",
       "      <td>Monday</td>\n",
       "    </tr>\n",
       "    <tr>\n",
       "      <th>1407324</th>\n",
       "      <td>Recap: Wednesday's Top Percentage Gainers and ...</td>\n",
       "      <td>https://www.benzinga.com/news/earnings/11/06/1...</td>\n",
       "      <td>Benjamin Lee</td>\n",
       "      <td>2011-06-22 00:00:00</td>\n",
       "      <td>ZX</td>\n",
       "      <td>2011-06-22</td>\n",
       "      <td>2011-06-22</td>\n",
       "      <td>True</td>\n",
       "      <td>00:00:00</td>\n",
       "      <td>00:00:00</td>\n",
       "      <td>00:00:00</td>\n",
       "      <td>True</td>\n",
       "      <td>2011</td>\n",
       "      <td>6</td>\n",
       "      <td>22</td>\n",
       "      <td>Wednesday</td>\n",
       "    </tr>\n",
       "    <tr>\n",
       "      <th>1407325</th>\n",
       "      <td>UPDATE: Oppenheimer Color on China Zenix Auto ...</td>\n",
       "      <td>https://www.benzinga.com/analyst-ratings/analy...</td>\n",
       "      <td>BenzingaStaffL</td>\n",
       "      <td>2011-06-21 00:00:00</td>\n",
       "      <td>ZX</td>\n",
       "      <td>2011-06-21</td>\n",
       "      <td>2011-06-21</td>\n",
       "      <td>True</td>\n",
       "      <td>00:00:00</td>\n",
       "      <td>00:00:00</td>\n",
       "      <td>00:00:00</td>\n",
       "      <td>True</td>\n",
       "      <td>2011</td>\n",
       "      <td>6</td>\n",
       "      <td>21</td>\n",
       "      <td>Tuesday</td>\n",
       "    </tr>\n",
       "    <tr>\n",
       "      <th>1407326</th>\n",
       "      <td>Oppenheimer Initiates China Zenix At Outperfor...</td>\n",
       "      <td>https://www.benzinga.com/analyst-ratings/price...</td>\n",
       "      <td>Joe Young</td>\n",
       "      <td>2011-06-21 00:00:00</td>\n",
       "      <td>ZX</td>\n",
       "      <td>2011-06-21</td>\n",
       "      <td>2011-06-21</td>\n",
       "      <td>True</td>\n",
       "      <td>00:00:00</td>\n",
       "      <td>00:00:00</td>\n",
       "      <td>00:00:00</td>\n",
       "      <td>True</td>\n",
       "      <td>2011</td>\n",
       "      <td>6</td>\n",
       "      <td>21</td>\n",
       "      <td>Tuesday</td>\n",
       "    </tr>\n",
       "    <tr>\n",
       "      <th>1407327</th>\n",
       "      <td>China Zenix Auto International Opens For Tradi...</td>\n",
       "      <td>https://www.benzinga.com/news/ipos/11/05/10789...</td>\n",
       "      <td>Allie Wickman</td>\n",
       "      <td>2011-05-12 00:00:00</td>\n",
       "      <td>ZX</td>\n",
       "      <td>2011-05-12</td>\n",
       "      <td>2011-05-12</td>\n",
       "      <td>True</td>\n",
       "      <td>00:00:00</td>\n",
       "      <td>00:00:00</td>\n",
       "      <td>00:00:00</td>\n",
       "      <td>True</td>\n",
       "      <td>2011</td>\n",
       "      <td>5</td>\n",
       "      <td>12</td>\n",
       "      <td>Thursday</td>\n",
       "    </tr>\n",
       "  </tbody>\n",
       "</table>\n",
       "<p>1407328 rows × 16 columns</p>\n",
       "</div>"
      ],
      "text/plain": [
       "                                                  headline  \\\n",
       "0                  Stocks That Hit 52-Week Highs On Friday   \n",
       "1               Stocks That Hit 52-Week Highs On Wednesday   \n",
       "2                            71 Biggest Movers From Friday   \n",
       "3             46 Stocks Moving In Friday's Mid-Day Session   \n",
       "4        B of A Securities Maintains Neutral on Agilent...   \n",
       "...                                                    ...   \n",
       "1407323             Top Narrow Based Indexes For August 29   \n",
       "1407324  Recap: Wednesday's Top Percentage Gainers and ...   \n",
       "1407325  UPDATE: Oppenheimer Color on China Zenix Auto ...   \n",
       "1407326  Oppenheimer Initiates China Zenix At Outperfor...   \n",
       "1407327  China Zenix Auto International Opens For Tradi...   \n",
       "\n",
       "                                                       url          publisher  \\\n",
       "0        https://www.benzinga.com/news/20/06/16190091/s...  Benzinga Insights   \n",
       "1        https://www.benzinga.com/news/20/06/16170189/s...  Benzinga Insights   \n",
       "2        https://www.benzinga.com/news/20/05/16103463/7...         Lisa Levin   \n",
       "3        https://www.benzinga.com/news/20/05/16095921/4...         Lisa Levin   \n",
       "4        https://www.benzinga.com/news/20/05/16095304/b...         Vick Meyer   \n",
       "...                                                    ...                ...   \n",
       "1407323  https://www.benzinga.com/news/11/08/1888782/to...      Monica Gerson   \n",
       "1407324  https://www.benzinga.com/news/earnings/11/06/1...       Benjamin Lee   \n",
       "1407325  https://www.benzinga.com/analyst-ratings/analy...     BenzingaStaffL   \n",
       "1407326  https://www.benzinga.com/analyst-ratings/price...          Joe Young   \n",
       "1407327  https://www.benzinga.com/news/ipos/11/05/10789...      Allie Wickman   \n",
       "\n",
       "                              date stock extracted_date       Date  \\\n",
       "0        2020-06-05 10:30:54-04:00     A     2020-06-05 2020-06-05   \n",
       "1        2020-06-03 10:45:20-04:00     A     2020-06-03 2020-06-03   \n",
       "2        2020-05-26 04:30:07-04:00     A     2020-05-26 2020-05-26   \n",
       "3        2020-05-22 12:45:06-04:00     A     2020-05-22 2020-05-22   \n",
       "4        2020-05-22 11:38:59-04:00     A     2020-05-22 2020-05-22   \n",
       "...                            ...   ...            ...        ...   \n",
       "1407323        2011-08-29 00:00:00    ZX     2011-08-29 2011-08-29   \n",
       "1407324        2011-06-22 00:00:00    ZX     2011-06-22 2011-06-22   \n",
       "1407325        2011-06-21 00:00:00    ZX     2011-06-21 2011-06-21   \n",
       "1407326        2011-06-21 00:00:00    ZX     2011-06-21 2011-06-21   \n",
       "1407327        2011-05-12 00:00:00    ZX     2011-05-12 2011-05-12   \n",
       "\n",
       "         valid_date  extracted_time timestamp formatted_time  valid_time  \\\n",
       "0              True  10:30:54-04:00  10:30:54            NaN       False   \n",
       "1              True  10:45:20-04:00  10:45:20            NaN       False   \n",
       "2              True  04:30:07-04:00  04:30:07            NaN       False   \n",
       "3              True  12:45:06-04:00  12:45:06            NaN       False   \n",
       "4              True  11:38:59-04:00  11:38:59            NaN       False   \n",
       "...             ...             ...       ...            ...         ...   \n",
       "1407323        True        00:00:00  00:00:00       00:00:00        True   \n",
       "1407324        True        00:00:00  00:00:00       00:00:00        True   \n",
       "1407325        True        00:00:00  00:00:00       00:00:00        True   \n",
       "1407326        True        00:00:00  00:00:00       00:00:00        True   \n",
       "1407327        True        00:00:00  00:00:00       00:00:00        True   \n",
       "\n",
       "         year  month  day day_of_week  \n",
       "0        2020      6    5      Friday  \n",
       "1        2020      6    3   Wednesday  \n",
       "2        2020      5   26     Tuesday  \n",
       "3        2020      5   22      Friday  \n",
       "4        2020      5   22      Friday  \n",
       "...       ...    ...  ...         ...  \n",
       "1407323  2011      8   29      Monday  \n",
       "1407324  2011      6   22   Wednesday  \n",
       "1407325  2011      6   21     Tuesday  \n",
       "1407326  2011      6   21     Tuesday  \n",
       "1407327  2011      5   12    Thursday  \n",
       "\n",
       "[1407328 rows x 16 columns]"
      ]
     },
     "execution_count": 21,
     "metadata": {},
     "output_type": "execute_result"
    }
   ],
   "source": [
    "text_data"
   ]
  },
  {
   "cell_type": "code",
   "execution_count": 24,
   "metadata": {},
   "outputs": [
    {
     "data": {
      "image/png": "[encoded data removed]",
      "text/plain": [
       "<Figure size 1000x600 with 1 Axes>"
      ]
     },
     "metadata": {},
     "output_type": "display_data"
    }
   ],
   "source": [
    "# import pandas as pd\n",
    "# import matplotlib.pyplot as plt\n",
    "\n",
    "# # Example time data\n",
    "# data = {'time': ['10:30:54', '12:45:30', '10:15:15', '13:30:15', '10:45:30', '12:15:00']}\n",
    "# text_data = pd.DataFrame(data)\n",
    "\n",
    "# Convert time strings to datetime.time objects\n",
    "text_data['time'] = pd.to_datetime(text_data['timestamp'], format='%H:%M:%S', errors='coerce').dt.time\n",
    "\n",
    "# Extract the hour and minute for trend analysis\n",
    "text_data['hour'] = pd.to_datetime(text_data['timestamp'], format='%H:%M:%S', errors='coerce').dt.hour\n",
    "text_data['minute'] = pd.to_datetime(text_data['timestamp'], format='%H:%M:%S', errors='coerce').dt.minute\n",
    "\n",
    "# articles_per_publisher = text_data['publisher'].value_counts()\n",
    "\n",
    "# Group by hour to get the number of articles published in each hour\n",
    "hourly_trend = text_data.groupby('hour').size()\n",
    "\n",
    "# Plot the hourly trend\n",
    "plt.figure(figsize=(10, 6))\n",
    "plt.plot(hourly_trend.index, hourly_trend.values, marker='o', linestyle='-', color='b')\n",
    "plt.title(\"Number of Articles Published by Hour\")\n",
    "plt.xlabel(\"Hour of the Day (24-hour format)\")\n",
    "plt.ylabel(\"Number of Articles\")\n",
    "plt.grid(True)\n",
    "\n",
    "# Ensure x-ticks cover all hours (0 to 23)\n",
    "plt.xticks(range(0, 24))\n",
    "\n",
    "# Show the plot\n",
    "plt.tight_layout()\n",
    "plt.show()"
   ]
  },
  {
   "cell_type": "code",
   "execution_count": 25,
   "metadata": {},
   "outputs": [
    {
     "data": {
      "text/html": [
       "<div>\n",
       "<style scoped>\n",
       "    .dataframe tbody tr th:only-of-type {\n",
       "        vertical-align: middle;\n",
       "    }\n",
       "\n",
       "    .dataframe tbody tr th {\n",
       "        vertical-align: top;\n",
       "    }\n",
       "\n",
       "    .dataframe thead th {\n",
       "        text-align: right;\n",
       "    }\n",
       "</style>\n",
       "<table border=\"1\" class=\"dataframe\">\n",
       "  <thead>\n",
       "    <tr style=\"text-align: right;\">\n",
       "      <th></th>\n",
       "      <th>headline</th>\n",
       "      <th>url</th>\n",
       "      <th>publisher</th>\n",
       "      <th>date</th>\n",
       "      <th>stock</th>\n",
       "      <th>extracted_date</th>\n",
       "      <th>Date</th>\n",
       "      <th>valid_date</th>\n",
       "      <th>extracted_time</th>\n",
       "      <th>timestamp</th>\n",
       "      <th>formatted_time</th>\n",
       "      <th>valid_time</th>\n",
       "      <th>year</th>\n",
       "      <th>month</th>\n",
       "      <th>day</th>\n",
       "      <th>day_of_week</th>\n",
       "      <th>time</th>\n",
       "      <th>hour</th>\n",
       "      <th>minute</th>\n",
       "    </tr>\n",
       "  </thead>\n",
       "  <tbody>\n",
       "    <tr>\n",
       "      <th>0</th>\n",
       "      <td>Stocks That Hit 52-Week Highs On Friday</td>\n",
       "      <td>https://www.benzinga.com/news/20/06/16190091/s...</td>\n",
       "      <td>Benzinga Insights</td>\n",
       "      <td>2020-06-05 10:30:54-04:00</td>\n",
       "      <td>A</td>\n",
       "      <td>2020-06-05</td>\n",
       "      <td>2020-06-05</td>\n",
       "      <td>True</td>\n",
       "      <td>10:30:54-04:00</td>\n",
       "      <td>10:30:54</td>\n",
       "      <td>NaN</td>\n",
       "      <td>False</td>\n",
       "      <td>2020</td>\n",
       "      <td>6</td>\n",
       "      <td>5</td>\n",
       "      <td>Friday</td>\n",
       "      <td>10:30:54</td>\n",
       "      <td>10</td>\n",
       "      <td>30</td>\n",
       "    </tr>\n",
       "    <tr>\n",
       "      <th>1</th>\n",
       "      <td>Stocks That Hit 52-Week Highs On Wednesday</td>\n",
       "      <td>https://www.benzinga.com/news/20/06/16170189/s...</td>\n",
       "      <td>Benzinga Insights</td>\n",
       "      <td>2020-06-03 10:45:20-04:00</td>\n",
       "      <td>A</td>\n",
       "      <td>2020-06-03</td>\n",
       "      <td>2020-06-03</td>\n",
       "      <td>True</td>\n",
       "      <td>10:45:20-04:00</td>\n",
       "      <td>10:45:20</td>\n",
       "      <td>NaN</td>\n",
       "      <td>False</td>\n",
       "      <td>2020</td>\n",
       "      <td>6</td>\n",
       "      <td>3</td>\n",
       "      <td>Wednesday</td>\n",
       "      <td>10:45:20</td>\n",
       "      <td>10</td>\n",
       "      <td>45</td>\n",
       "    </tr>\n",
       "    <tr>\n",
       "      <th>2</th>\n",
       "      <td>71 Biggest Movers From Friday</td>\n",
       "      <td>https://www.benzinga.com/news/20/05/16103463/7...</td>\n",
       "      <td>Lisa Levin</td>\n",
       "      <td>2020-05-26 04:30:07-04:00</td>\n",
       "      <td>A</td>\n",
       "      <td>2020-05-26</td>\n",
       "      <td>2020-05-26</td>\n",
       "      <td>True</td>\n",
       "      <td>04:30:07-04:00</td>\n",
       "      <td>04:30:07</td>\n",
       "      <td>NaN</td>\n",
       "      <td>False</td>\n",
       "      <td>2020</td>\n",
       "      <td>5</td>\n",
       "      <td>26</td>\n",
       "      <td>Tuesday</td>\n",
       "      <td>04:30:07</td>\n",
       "      <td>4</td>\n",
       "      <td>30</td>\n",
       "    </tr>\n",
       "    <tr>\n",
       "      <th>3</th>\n",
       "      <td>46 Stocks Moving In Friday's Mid-Day Session</td>\n",
       "      <td>https://www.benzinga.com/news/20/05/16095921/4...</td>\n",
       "      <td>Lisa Levin</td>\n",
       "      <td>2020-05-22 12:45:06-04:00</td>\n",
       "      <td>A</td>\n",
       "      <td>2020-05-22</td>\n",
       "      <td>2020-05-22</td>\n",
       "      <td>True</td>\n",
       "      <td>12:45:06-04:00</td>\n",
       "      <td>12:45:06</td>\n",
       "      <td>NaN</td>\n",
       "      <td>False</td>\n",
       "      <td>2020</td>\n",
       "      <td>5</td>\n",
       "      <td>22</td>\n",
       "      <td>Friday</td>\n",
       "      <td>12:45:06</td>\n",
       "      <td>12</td>\n",
       "      <td>45</td>\n",
       "    </tr>\n",
       "    <tr>\n",
       "      <th>4</th>\n",
       "      <td>B of A Securities Maintains Neutral on Agilent...</td>\n",
       "      <td>https://www.benzinga.com/news/20/05/16095304/b...</td>\n",
       "      <td>Vick Meyer</td>\n",
       "      <td>2020-05-22 11:38:59-04:00</td>\n",
       "      <td>A</td>\n",
       "      <td>2020-05-22</td>\n",
       "      <td>2020-05-22</td>\n",
       "      <td>True</td>\n",
       "      <td>11:38:59-04:00</td>\n",
       "      <td>11:38:59</td>\n",
       "      <td>NaN</td>\n",
       "      <td>False</td>\n",
       "      <td>2020</td>\n",
       "      <td>5</td>\n",
       "      <td>22</td>\n",
       "      <td>Friday</td>\n",
       "      <td>11:38:59</td>\n",
       "      <td>11</td>\n",
       "      <td>38</td>\n",
       "    </tr>\n",
       "    <tr>\n",
       "      <th>...</th>\n",
       "      <td>...</td>\n",
       "      <td>...</td>\n",
       "      <td>...</td>\n",
       "      <td>...</td>\n",
       "      <td>...</td>\n",
       "      <td>...</td>\n",
       "      <td>...</td>\n",
       "      <td>...</td>\n",
       "      <td>...</td>\n",
       "      <td>...</td>\n",
       "      <td>...</td>\n",
       "      <td>...</td>\n",
       "      <td>...</td>\n",
       "      <td>...</td>\n",
       "      <td>...</td>\n",
       "      <td>...</td>\n",
       "      <td>...</td>\n",
       "      <td>...</td>\n",
       "      <td>...</td>\n",
       "    </tr>\n",
       "    <tr>\n",
       "      <th>1407323</th>\n",
       "      <td>Top Narrow Based Indexes For August 29</td>\n",
       "      <td>https://www.benzinga.com/news/11/08/1888782/to...</td>\n",
       "      <td>Monica Gerson</td>\n",
       "      <td>2011-08-29 00:00:00</td>\n",
       "      <td>ZX</td>\n",
       "      <td>2011-08-29</td>\n",
       "      <td>2011-08-29</td>\n",
       "      <td>True</td>\n",
       "      <td>00:00:00</td>\n",
       "      <td>00:00:00</td>\n",
       "      <td>00:00:00</td>\n",
       "      <td>True</td>\n",
       "      <td>2011</td>\n",
       "      <td>8</td>\n",
       "      <td>29</td>\n",
       "      <td>Monday</td>\n",
       "      <td>00:00:00</td>\n",
       "      <td>0</td>\n",
       "      <td>0</td>\n",
       "    </tr>\n",
       "    <tr>\n",
       "      <th>1407324</th>\n",
       "      <td>Recap: Wednesday's Top Percentage Gainers and ...</td>\n",
       "      <td>https://www.benzinga.com/news/earnings/11/06/1...</td>\n",
       "      <td>Benjamin Lee</td>\n",
       "      <td>2011-06-22 00:00:00</td>\n",
       "      <td>ZX</td>\n",
       "      <td>2011-06-22</td>\n",
       "      <td>2011-06-22</td>\n",
       "      <td>True</td>\n",
       "      <td>00:00:00</td>\n",
       "      <td>00:00:00</td>\n",
       "      <td>00:00:00</td>\n",
       "      <td>True</td>\n",
       "      <td>2011</td>\n",
       "      <td>6</td>\n",
       "      <td>22</td>\n",
       "      <td>Wednesday</td>\n",
       "      <td>00:00:00</td>\n",
       "      <td>0</td>\n",
       "      <td>0</td>\n",
       "    </tr>\n",
       "    <tr>\n",
       "      <th>1407325</th>\n",
       "      <td>UPDATE: Oppenheimer Color on China Zenix Auto ...</td>\n",
       "      <td>https://www.benzinga.com/analyst-ratings/analy...</td>\n",
       "      <td>BenzingaStaffL</td>\n",
       "      <td>2011-06-21 00:00:00</td>\n",
       "      <td>ZX</td>\n",
       "      <td>2011-06-21</td>\n",
       "      <td>2011-06-21</td>\n",
       "      <td>True</td>\n",
       "      <td>00:00:00</td>\n",
       "      <td>00:00:00</td>\n",
       "      <td>00:00:00</td>\n",
       "      <td>True</td>\n",
       "      <td>2011</td>\n",
       "      <td>6</td>\n",
       "      <td>21</td>\n",
       "      <td>Tuesday</td>\n",
       "      <td>00:00:00</td>\n",
       "      <td>0</td>\n",
       "      <td>0</td>\n",
       "    </tr>\n",
       "    <tr>\n",
       "      <th>1407326</th>\n",
       "      <td>Oppenheimer Initiates China Zenix At Outperfor...</td>\n",
       "      <td>https://www.benzinga.com/analyst-ratings/price...</td>\n",
       "      <td>Joe Young</td>\n",
       "      <td>2011-06-21 00:00:00</td>\n",
       "      <td>ZX</td>\n",
       "      <td>2011-06-21</td>\n",
       "      <td>2011-06-21</td>\n",
       "      <td>True</td>\n",
       "      <td>00:00:00</td>\n",
       "      <td>00:00:00</td>\n",
       "      <td>00:00:00</td>\n",
       "      <td>True</td>\n",
       "      <td>2011</td>\n",
       "      <td>6</td>\n",
       "      <td>21</td>\n",
       "      <td>Tuesday</td>\n",
       "      <td>00:00:00</td>\n",
       "      <td>0</td>\n",
       "      <td>0</td>\n",
       "    </tr>\n",
       "    <tr>\n",
       "      <th>1407327</th>\n",
       "      <td>China Zenix Auto International Opens For Tradi...</td>\n",
       "      <td>https://www.benzinga.com/news/ipos/11/05/10789...</td>\n",
       "      <td>Allie Wickman</td>\n",
       "      <td>2011-05-12 00:00:00</td>\n",
       "      <td>ZX</td>\n",
       "      <td>2011-05-12</td>\n",
       "      <td>2011-05-12</td>\n",
       "      <td>True</td>\n",
       "      <td>00:00:00</td>\n",
       "      <td>00:00:00</td>\n",
       "      <td>00:00:00</td>\n",
       "      <td>True</td>\n",
       "      <td>2011</td>\n",
       "      <td>5</td>\n",
       "      <td>12</td>\n",
       "      <td>Thursday</td>\n",
       "      <td>00:00:00</td>\n",
       "      <td>0</td>\n",
       "      <td>0</td>\n",
       "    </tr>\n",
       "  </tbody>\n",
       "</table>\n",
       "<p>1407328 rows × 19 columns</p>\n",
       "</div>"
      ],
      "text/plain": [
       "                                                  headline  \\\n",
       "0                  Stocks That Hit 52-Week Highs On Friday   \n",
       "1               Stocks That Hit 52-Week Highs On Wednesday   \n",
       "2                            71 Biggest Movers From Friday   \n",
       "3             46 Stocks Moving In Friday's Mid-Day Session   \n",
       "4        B of A Securities Maintains Neutral on Agilent...   \n",
       "...                                                    ...   \n",
       "1407323             Top Narrow Based Indexes For August 29   \n",
       "1407324  Recap: Wednesday's Top Percentage Gainers and ...   \n",
       "1407325  UPDATE: Oppenheimer Color on China Zenix Auto ...   \n",
       "1407326  Oppenheimer Initiates China Zenix At Outperfor...   \n",
       "1407327  China Zenix Auto International Opens For Tradi...   \n",
       "\n",
       "                                                       url          publisher  \\\n",
       "0        https://www.benzinga.com/news/20/06/16190091/s...  Benzinga Insights   \n",
       "1        https://www.benzinga.com/news/20/06/16170189/s...  Benzinga Insights   \n",
       "2        https://www.benzinga.com/news/20/05/16103463/7...         Lisa Levin   \n",
       "3        https://www.benzinga.com/news/20/05/16095921/4...         Lisa Levin   \n",
       "4        https://www.benzinga.com/news/20/05/16095304/b...         Vick Meyer   \n",
       "...                                                    ...                ...   \n",
       "1407323  https://www.benzinga.com/news/11/08/1888782/to...      Monica Gerson   \n",
       "1407324  https://www.benzinga.com/news/earnings/11/06/1...       Benjamin Lee   \n",
       "1407325  https://www.benzinga.com/analyst-ratings/analy...     BenzingaStaffL   \n",
       "1407326  https://www.benzinga.com/analyst-ratings/price...          Joe Young   \n",
       "1407327  https://www.benzinga.com/news/ipos/11/05/10789...      Allie Wickman   \n",
       "\n",
       "                              date stock extracted_date       Date  \\\n",
       "0        2020-06-05 10:30:54-04:00     A     2020-06-05 2020-06-05   \n",
       "1        2020-06-03 10:45:20-04:00     A     2020-06-03 2020-06-03   \n",
       "2        2020-05-26 04:30:07-04:00     A     2020-05-26 2020-05-26   \n",
       "3        2020-05-22 12:45:06-04:00     A     2020-05-22 2020-05-22   \n",
       "4        2020-05-22 11:38:59-04:00     A     2020-05-22 2020-05-22   \n",
       "...                            ...   ...            ...        ...   \n",
       "1407323        2011-08-29 00:00:00    ZX     2011-08-29 2011-08-29   \n",
       "1407324        2011-06-22 00:00:00    ZX     2011-06-22 2011-06-22   \n",
       "1407325        2011-06-21 00:00:00    ZX     2011-06-21 2011-06-21   \n",
       "1407326        2011-06-21 00:00:00    ZX     2011-06-21 2011-06-21   \n",
       "1407327        2011-05-12 00:00:00    ZX     2011-05-12 2011-05-12   \n",
       "\n",
       "         valid_date  extracted_time timestamp formatted_time  valid_time  \\\n",
       "0              True  10:30:54-04:00  10:30:54            NaN       False   \n",
       "1              True  10:45:20-04:00  10:45:20            NaN       False   \n",
       "2              True  04:30:07-04:00  04:30:07            NaN       False   \n",
       "3              True  12:45:06-04:00  12:45:06            NaN       False   \n",
       "4              True  11:38:59-04:00  11:38:59            NaN       False   \n",
       "...             ...             ...       ...            ...         ...   \n",
       "1407323        True        00:00:00  00:00:00       00:00:00        True   \n",
       "1407324        True        00:00:00  00:00:00       00:00:00        True   \n",
       "1407325        True        00:00:00  00:00:00       00:00:00        True   \n",
       "1407326        True        00:00:00  00:00:00       00:00:00        True   \n",
       "1407327        True        00:00:00  00:00:00       00:00:00        True   \n",
       "\n",
       "         year  month  day day_of_week      time  hour  minute  \n",
       "0        2020      6    5      Friday  10:30:54    10      30  \n",
       "1        2020      6    3   Wednesday  10:45:20    10      45  \n",
       "2        2020      5   26     Tuesday  04:30:07     4      30  \n",
       "3        2020      5   22      Friday  12:45:06    12      45  \n",
       "4        2020      5   22      Friday  11:38:59    11      38  \n",
       "...       ...    ...  ...         ...       ...   ...     ...  \n",
       "1407323  2011      8   29      Monday  00:00:00     0       0  \n",
       "1407324  2011      6   22   Wednesday  00:00:00     0       0  \n",
       "1407325  2011      6   21     Tuesday  00:00:00     0       0  \n",
       "1407326  2011      6   21     Tuesday  00:00:00     0       0  \n",
       "1407327  2011      5   12    Thursday  00:00:00     0       0  \n",
       "\n",
       "[1407328 rows x 19 columns]"
      ]
     },
     "execution_count": 25,
     "metadata": {},
     "output_type": "execute_result"
    }
   ],
   "source": [
    "text_data"
   ]
  },
  {
   "cell_type": "code",
   "execution_count": 26,
   "metadata": {},
   "outputs": [
    {
     "name": "stdout",
     "output_type": "stream",
     "text": [
      "Articles Published Per Hour:\n",
      "hour\n",
      "0     1351408\n",
      "1          14\n",
      "2          57\n",
      "3          93\n",
      "4        1469\n",
      "5        1829\n",
      "6        2476\n",
      "7        5033\n",
      "8        5527\n",
      "9        5965\n",
      "10       7669\n",
      "11       5701\n",
      "12       5732\n",
      "13       2710\n",
      "14       2075\n",
      "15       1612\n",
      "16       3939\n",
      "17       2800\n",
      "18        704\n",
      "19        227\n",
      "20        131\n",
      "21         82\n",
      "22         48\n",
      "23         27\n",
      "Name: count, dtype: int64\n"
     ]
    },
    {
     "data": {
      "image/png": "[encoded data removed]",
      "text/plain": [
       "<Figure size 1000x600 with 1 Axes>"
      ]
     },
     "metadata": {},
     "output_type": "display_data"
    }
   ],
   "source": [
    "# Step 2: Count articles published per hour\n",
    "articles_per_hour = text_data['hour'].value_counts().sort_index()\n",
    "\n",
    "# Display the result\n",
    "print(\"Articles Published Per Hour:\")\n",
    "print(articles_per_hour)\n",
    "\n",
    "# Optional: Plot the distribution\n",
    "import matplotlib.pyplot as plt\n",
    "\n",
    "plt.figure(figsize=(10, 6))\n",
    "plt.bar(articles_per_hour.index, articles_per_hour.values, color='orange')\n",
    "plt.title('Articles Published Per Hour')\n",
    "plt.xlabel('Hour of the Day')\n",
    "plt.ylabel('Number of Articles')\n",
    "plt.xticks(range(0, 24))  # Ensure all hours are displayed\n",
    "plt.tight_layout()\n",
    "plt.show()"
   ]
  },
  {
   "cell_type": "code",
   "execution_count": 28,
   "metadata": {},
   "outputs": [
    {
     "data": {
      "image/png": "[encoded data removed]",
      "text/plain": [
       "<Figure size 800x800 with 1 Axes>"
      ]
     },
     "metadata": {},
     "output_type": "display_data"
    },
    {
     "name": "stdout",
     "output_type": "stream",
     "text": [
      "AM Articles: 1387241\n",
      "PM Articles: 20087\n"
     ]
    }
   ],
   "source": [
    "# Group articles into AM (0-11) and PM (12-23)\n",
    "am_articles = articles_per_hour.loc[0:11].sum()  # Sum of articles from 0 to 11 (AM)\n",
    "pm_articles = articles_per_hour.loc[12:23].sum()  # Sum of articles from 12 to 23 (PM)\n",
    "\n",
    "# Prepare data for the pie chart\n",
    "labels = ['AM', 'PM']\n",
    "values = [am_articles, pm_articles]\n",
    "\n",
    "# Plot pie chart\n",
    "plt.figure(figsize=(8, 8))\n",
    "plt.pie(\n",
    "    values,\n",
    "    labels=labels,\n",
    "    autopct='%1.1f%%',\n",
    "    startangle=90,\n",
    "    colors=['skyblue', 'orange']\n",
    ")\n",
    "plt.title('Articles Published by AM/PM')\n",
    "plt.tight_layout()\n",
    "plt.show()\n",
    "\n",
    "# Optional: Print the counts\n",
    "print(f\"AM Articles: {am_articles}\")\n",
    "print(f\"PM Articles: {pm_articles}\")\n"
   ]
  },
  {
   "cell_type": "code",
   "execution_count": 17,
   "metadata": {},
   "outputs": [
    {
     "data": {
      "text/html": [
       "<div>\n",
       "<style scoped>\n",
       "    .dataframe tbody tr th:only-of-type {\n",
       "        vertical-align: middle;\n",
       "    }\n",
       "\n",
       "    .dataframe tbody tr th {\n",
       "        vertical-align: top;\n",
       "    }\n",
       "\n",
       "    .dataframe thead th {\n",
       "        text-align: right;\n",
       "    }\n",
       "</style>\n",
       "<table border=\"1\" class=\"dataframe\">\n",
       "  <thead>\n",
       "    <tr style=\"text-align: right;\">\n",
       "      <th></th>\n",
       "      <th>headline</th>\n",
       "      <th>url</th>\n",
       "      <th>publisher</th>\n",
       "      <th>date</th>\n",
       "      <th>stock</th>\n",
       "      <th>extracted_date</th>\n",
       "      <th>Date</th>\n",
       "      <th>valid_date</th>\n",
       "      <th>extracted_time</th>\n",
       "      <th>timestamp</th>\n",
       "      <th>formatted_time</th>\n",
       "      <th>valid_time</th>\n",
       "      <th>year</th>\n",
       "      <th>month</th>\n",
       "      <th>day</th>\n",
       "      <th>day_of_week</th>\n",
       "    </tr>\n",
       "  </thead>\n",
       "  <tbody>\n",
       "    <tr>\n",
       "      <th>0</th>\n",
       "      <td>Stocks That Hit 52-Week Highs On Friday</td>\n",
       "      <td>https://www.benzinga.com/news/20/06/16190091/s...</td>\n",
       "      <td>Benzinga Insights</td>\n",
       "      <td>2020-06-05 10:30:54-04:00</td>\n",
       "      <td>A</td>\n",
       "      <td>2020-06-05</td>\n",
       "      <td>2020-06-05</td>\n",
       "      <td>True</td>\n",
       "      <td>10:30:54-04:00</td>\n",
       "      <td>10:30:54</td>\n",
       "      <td>NaN</td>\n",
       "      <td>False</td>\n",
       "      <td>2020</td>\n",
       "      <td>6</td>\n",
       "      <td>5</td>\n",
       "      <td>Friday</td>\n",
       "    </tr>\n",
       "    <tr>\n",
       "      <th>1</th>\n",
       "      <td>Stocks That Hit 52-Week Highs On Wednesday</td>\n",
       "      <td>https://www.benzinga.com/news/20/06/16170189/s...</td>\n",
       "      <td>Benzinga Insights</td>\n",
       "      <td>2020-06-03 10:45:20-04:00</td>\n",
       "      <td>A</td>\n",
       "      <td>2020-06-03</td>\n",
       "      <td>2020-06-03</td>\n",
       "      <td>True</td>\n",
       "      <td>10:45:20-04:00</td>\n",
       "      <td>10:45:20</td>\n",
       "      <td>NaN</td>\n",
       "      <td>False</td>\n",
       "      <td>2020</td>\n",
       "      <td>6</td>\n",
       "      <td>3</td>\n",
       "      <td>Wednesday</td>\n",
       "    </tr>\n",
       "    <tr>\n",
       "      <th>2</th>\n",
       "      <td>71 Biggest Movers From Friday</td>\n",
       "      <td>https://www.benzinga.com/news/20/05/16103463/7...</td>\n",
       "      <td>Lisa Levin</td>\n",
       "      <td>2020-05-26 04:30:07-04:00</td>\n",
       "      <td>A</td>\n",
       "      <td>2020-05-26</td>\n",
       "      <td>2020-05-26</td>\n",
       "      <td>True</td>\n",
       "      <td>04:30:07-04:00</td>\n",
       "      <td>04:30:07</td>\n",
       "      <td>NaN</td>\n",
       "      <td>False</td>\n",
       "      <td>2020</td>\n",
       "      <td>5</td>\n",
       "      <td>26</td>\n",
       "      <td>Tuesday</td>\n",
       "    </tr>\n",
       "    <tr>\n",
       "      <th>3</th>\n",
       "      <td>46 Stocks Moving In Friday's Mid-Day Session</td>\n",
       "      <td>https://www.benzinga.com/news/20/05/16095921/4...</td>\n",
       "      <td>Lisa Levin</td>\n",
       "      <td>2020-05-22 12:45:06-04:00</td>\n",
       "      <td>A</td>\n",
       "      <td>2020-05-22</td>\n",
       "      <td>2020-05-22</td>\n",
       "      <td>True</td>\n",
       "      <td>12:45:06-04:00</td>\n",
       "      <td>12:45:06</td>\n",
       "      <td>NaN</td>\n",
       "      <td>False</td>\n",
       "      <td>2020</td>\n",
       "      <td>5</td>\n",
       "      <td>22</td>\n",
       "      <td>Friday</td>\n",
       "    </tr>\n",
       "    <tr>\n",
       "      <th>4</th>\n",
       "      <td>B of A Securities Maintains Neutral on Agilent...</td>\n",
       "      <td>https://www.benzinga.com/news/20/05/16095304/b...</td>\n",
       "      <td>Vick Meyer</td>\n",
       "      <td>2020-05-22 11:38:59-04:00</td>\n",
       "      <td>A</td>\n",
       "      <td>2020-05-22</td>\n",
       "      <td>2020-05-22</td>\n",
       "      <td>True</td>\n",
       "      <td>11:38:59-04:00</td>\n",
       "      <td>11:38:59</td>\n",
       "      <td>NaN</td>\n",
       "      <td>False</td>\n",
       "      <td>2020</td>\n",
       "      <td>5</td>\n",
       "      <td>22</td>\n",
       "      <td>Friday</td>\n",
       "    </tr>\n",
       "  </tbody>\n",
       "</table>\n",
       "</div>"
      ],
      "text/plain": [
       "                                            headline  \\\n",
       "0            Stocks That Hit 52-Week Highs On Friday   \n",
       "1         Stocks That Hit 52-Week Highs On Wednesday   \n",
       "2                      71 Biggest Movers From Friday   \n",
       "3       46 Stocks Moving In Friday's Mid-Day Session   \n",
       "4  B of A Securities Maintains Neutral on Agilent...   \n",
       "\n",
       "                                                 url          publisher  \\\n",
       "0  https://www.benzinga.com/news/20/06/16190091/s...  Benzinga Insights   \n",
       "1  https://www.benzinga.com/news/20/06/16170189/s...  Benzinga Insights   \n",
       "2  https://www.benzinga.com/news/20/05/16103463/7...         Lisa Levin   \n",
       "3  https://www.benzinga.com/news/20/05/16095921/4...         Lisa Levin   \n",
       "4  https://www.benzinga.com/news/20/05/16095304/b...         Vick Meyer   \n",
       "\n",
       "                        date stock extracted_date       Date  valid_date  \\\n",
       "0  2020-06-05 10:30:54-04:00     A     2020-06-05 2020-06-05        True   \n",
       "1  2020-06-03 10:45:20-04:00     A     2020-06-03 2020-06-03        True   \n",
       "2  2020-05-26 04:30:07-04:00     A     2020-05-26 2020-05-26        True   \n",
       "3  2020-05-22 12:45:06-04:00     A     2020-05-22 2020-05-22        True   \n",
       "4  2020-05-22 11:38:59-04:00     A     2020-05-22 2020-05-22        True   \n",
       "\n",
       "   extracted_time timestamp formatted_time  valid_time  year  month  day  \\\n",
       "0  10:30:54-04:00  10:30:54            NaN       False  2020      6    5   \n",
       "1  10:45:20-04:00  10:45:20            NaN       False  2020      6    3   \n",
       "2  04:30:07-04:00  04:30:07            NaN       False  2020      5   26   \n",
       "3  12:45:06-04:00  12:45:06            NaN       False  2020      5   22   \n",
       "4  11:38:59-04:00  11:38:59            NaN       False  2020      5   22   \n",
       "\n",
       "  day_of_week  \n",
       "0      Friday  \n",
       "1   Wednesday  \n",
       "2     Tuesday  \n",
       "3      Friday  \n",
       "4      Friday  "
      ]
     },
     "execution_count": 17,
     "metadata": {},
     "output_type": "execute_result"
    }
   ],
   "source": [
    "text_data.head()"
   ]
  },
  {
   "cell_type": "code",
   "execution_count": null,
   "metadata": {},
   "outputs": [],
   "source": []
  },
  {
   "cell_type": "code",
   "execution_count": 36,
   "metadata": {},
   "outputs": [
    {
     "name": "stdout",
     "output_type": "stream",
     "text": [
      "\u001b[33mWARNING: Ignoring invalid distribution -andas (/home/samrawit/anaconda3/envs/kifiya/lib/python3.9/site-packages)\u001b[0m\u001b[33m\n",
      "\u001b[0m\u001b[33mWARNING: Ignoring invalid distribution -andas (/home/samrawit/anaconda3/envs/kifiya/lib/python3.9/site-packages)\u001b[0m\u001b[33m\n",
      "\u001b[0m\u001b[33mWARNING: Ignoring invalid distribution -andas (/home/samrawit/anaconda3/envs/kifiya/lib/python3.9/site-packages)\u001b[0m\u001b[33m\n",
      "\u001b[0mNote: you may need to restart the kernel to use updated packages.\n"
     ]
    }
   ],
   "source": [
    "%pip install nbformat>=4.2.0"
   ]
  },
  {
   "cell_type": "code",
   "execution_count": 9,
   "metadata": {},
   "outputs": [
    {
     "name": "stdout",
     "output_type": "stream",
     "text": [
      "Topic Information:\n",
      "    Topic  Count                                      Name  \\\n",
      "0      -1    218                -1_oil_hearing_capital_gas   \n",
      "1       0     78                   0_yoy_year_neutral_last   \n",
      "2       1     39             1_agreement_merger_bid_patent   \n",
      "3       2     39             2_trading_several_higher_amid   \n",
      "4       3     39                 3_target_price_buy_rating   \n",
      "5       4     33                    4_hold_bank_money_fast   \n",
      "6       5     32                     5_hit_week_stock_post   \n",
      "7       6     30                    6_top_looking_bal_swan   \n",
      "8       7     29          7_morgan_overweight_target_price   \n",
      "9       8     28                   8_like_dang_almost_dont   \n",
      "10      9     26               9_moving_session_stock_move   \n",
      "11     10     25       10_investment_common_share_offering   \n",
      "12     11     25                  11_buy_gold_cantor_riley   \n",
      "13     12     24      12_earnings_income_competition_recap   \n",
      "14     13     24                  13_watch_stock_june_keep   \n",
      "15     14     23  14_midmorning_update_market_midafternoon   \n",
      "16     15     21    15_outperform_credit_precision_percent   \n",
      "17     16     21     16_revenue_corporation_compare_profit   \n",
      "18     17     20         17_energy_electric_research_force   \n",
      "19     18     20               18_highest_industry_top_roe   \n",
      "20     19     19               19_morning_market_check_pro   \n",
      "21     20     18          20_therapeutic_drug_update_heart   \n",
      "22     21     17          21_coverage_peg_ambulance_trying   \n",
      "23     22     17         22_biggest_yesterday_forever_coal   \n",
      "24     23     16         23_dividend_quarterly_share_right   \n",
      "25     24     16             24_estimate_beat_miss_maximus   \n",
      "26     25     15                      25_high_set_new_week   \n",
      "27     26     15                  26_alert_option_ask_call   \n",
      "28     27     14            27_midday_moving_session_stock   \n",
      "29     28     13            28_news_midday_market_reporter   \n",
      "30     29     13                  29_solar_huge_call_trade   \n",
      "31     30     12         30_volume_heavy_spiking_currently   \n",
      "32     31     11                  31_low_set_yesterday_new   \n",
      "33     32     10      32_preview_quarter_earnings_previous   \n",
      "\n",
      "                                       Representation  \\\n",
      "0   [oil, hearing, capital, gas, potential, chatte...   \n",
      "1   [yoy, year, neutral, last, prior, analyst, qua...   \n",
      "2   [agreement, merger, bid, patent, acquire, deal...   \n",
      "3   [trading, several, higher, amid, lower, compan...   \n",
      "4   [target, price, buy, rating, coverage, brown, ...   \n",
      "5   [hold, bank, money, fast, mad, mortgage, light...   \n",
      "6   [hit, week, stock, post, mon, press, picture, ...   \n",
      "7   [top, looking, bal, swan, narrow, model, heath...   \n",
      "8   [morgan, overweight, target, price, neutral, w...   \n",
      "9   [like, dang, almost, dont, coo, nearly, look, ...   \n",
      "10  [moving, session, stock, move, energy, holding...   \n",
      "11  [investment, common, share, offering, public, ...   \n",
      "12  [buy, gold, cantor, riley, purchase, alto, mak...   \n",
      "13  [earnings, income, competition, recap, pepper,...   \n",
      "14  [watch, stock, june, keep, may, watching, eye,...   \n",
      "15  [midmorning, update, market, midafternoon, pro...   \n",
      "16  [outperform, credit, precision, percent, corpo...   \n",
      "17  [revenue, corporation, compare, profit, billin...   \n",
      "18  [energy, electric, research, force, power, per...   \n",
      "19  [highest, industry, top, roe, residential, con...   \n",
      "20  [morning, market, check, pro, mar, major, dow,...   \n",
      "21  [therapeutic, drug, update, heart, treatment, ...   \n",
      "22  [coverage, peg, ambulance, trying, aspen, expo...   \n",
      "23  [biggest, yesterday, forever, coal, big, day, ...   \n",
      "24  [dividend, quarterly, share, right, mon, conce...   \n",
      "25  [estimate, beat, miss, maximus, average, sovra...   \n",
      "26  [high, set, new, week, yesterday, august, stoc...   \n",
      "27  [alert, option, ask, call, ref, sweep, open, c...   \n",
      "28       [midday, moving, session, stock, , , , , , ]   \n",
      "29  [news, midday, market, reporter, tweet, update...   \n",
      "30  [solar, huge, call, trade, activity, watch, no...   \n",
      "31  [volume, heavy, spiking, currently, light, dis...   \n",
      "32  [low, set, yesterday, new, week, stock, jobles...   \n",
      "33  [preview, quarter, earnings, previous, expect,...   \n",
      "\n",
      "                                  Representative_Docs  \n",
      "0   [bank trading higher capital stock market perf...  \n",
      "1                       [yoy yoy, yoy, last year yoy]  \n",
      "2   [ultra clean merger agreement integration, ext...  \n",
      "3   [several technology trading lower amid market ...  \n",
      "4      [buy price target, price target, price target]  \n",
      "5                  [fast money, bank hold, bank hold]  \n",
      "6    [stock hit week, stock hit week, stock hit week]  \n",
      "7                                     [top, top, top]  \n",
      "8   [morgan overweight, morgan overweight, morgan ...  \n",
      "9                           [dang, almost, dont like]  \n",
      "10  [stock moving session, stock moving session, s...  \n",
      "11  [public offering common stock, share common st...  \n",
      "12                                    [buy, buy, buy]  \n",
      "13                     [earnings, earnings, earnings]  \n",
      "14            [stock watch, stock watch, stock watch]  \n",
      "15  [midmorning market update open mixed ford prof...  \n",
      "16  [credit neutral outperform, outperform, credit...  \n",
      "17                        [revenue, revenue, revenue]  \n",
      "18  [china energy session, energy market perform, ...  \n",
      "19  [top stock gold industry highest roe, top stoc...  \n",
      "20   [morning market, morning market, morning market]  \n",
      "21  [daily pulse eyepoint eye inflammation drug st...  \n",
      "22          [coverage buy, update coverage, coverage]  \n",
      "23  [biggest yesterday, biggest yesterday, biggest...  \n",
      "24  [dividend share, stock trading dividend, divid...  \n",
      "25  [estimate, estimate beat estimate, estimate be...  \n",
      "26  [stock set new week high yesterday, stock set ...  \n",
      "27  [option alert sweep ask earnings close ref, op...  \n",
      "28  [stock moving midday session, stock moving mid...  \n",
      "29  [midday market update cree following weak guid...  \n",
      "30  [watch huge call trade, notable call activity ...  \n",
      "31                           [volume, volume, volume]  \n",
      "32  [stock set new week low yesterday, stock set n...  \n",
      "33  [earnings preview expect crown castle internat...  \n"
     ]
    },
    {
     "data": {
      "application/vnd.plotly.v1+json": {
       "config": {
        "plotlyServerURL": "https://plot.ly"
       },
       "data": [
        {
         "customdata": [
          [
           0,
           "yoy | year | neutral | last | prior",
           78
          ],
          [
           1,
           "agreement | merger | bid | patent | acquire",
           39
          ],
          [
           2,
           "trading | several | higher | amid | lower",
           39
          ],
          [
           3,
           "target | price | buy | rating | coverage",
           39
          ],
          [
           4,
           "hold | bank | money | fast | mad",
           33
          ],
          [
           5,
           "hit | week | stock | post | mon",
           32
          ],
          [
           6,
           "top | looking | bal | swan | narrow",
           30
          ],
          [
           7,
           "morgan | overweight | target | price | neutral",
           29
          ],
          [
           8,
           "like | dang | almost | dont | coo",
           28
          ],
          [
           9,
           "moving | session | stock | move | energy",
           26
          ],
          [
           10,
           "investment | common | share | offering | public",
           25
          ],
          [
           11,
           "buy | gold | cantor | riley | purchase",
           25
          ],
          [
           12,
           "earnings | income | competition | recap | pepper",
           24
          ],
          [
           13,
           "watch | stock | june | keep | may",
           24
          ],
          [
           14,
           "midmorning | update | market | midafternoon | profit",
           23
          ],
          [
           15,
           "outperform | credit | precision | percent | corporation",
           21
          ],
          [
           16,
           "revenue | corporation | compare | profit | billing",
           21
          ],
          [
           17,
           "energy | electric | research | force | power",
           20
          ],
          [
           18,
           "highest | industry | top | roe | residential",
           20
          ],
          [
           19,
           "morning | market | check | pro | mar",
           19
          ],
          [
           20,
           "therapeutic | drug | update | heart | treatment",
           18
          ],
          [
           21,
           "coverage | peg | ambulance | trying | aspen",
           17
          ],
          [
           22,
           "biggest | yesterday | forever | coal | big",
           17
          ],
          [
           23,
           "dividend | quarterly | share | right | mon",
           16
          ],
          [
           24,
           "estimate | beat | miss | maximus | average",
           16
          ],
          [
           25,
           "high | set | new | week | yesterday",
           15
          ],
          [
           26,
           "alert | option | ask | call | ref",
           15
          ],
          [
           27,
           "midday | moving | session | stock | ",
           14
          ],
          [
           28,
           "news | midday | market | reporter | tweet",
           13
          ],
          [
           29,
           "solar | huge | call | trade | activity",
           13
          ],
          [
           30,
           "volume | heavy | spiking | currently | light",
           12
          ],
          [
           31,
           "low | set | yesterday | new | week",
           11
          ],
          [
           32,
           "preview | quarter | earnings | previous | expect",
           10
          ]
         ],
         "hovertemplate": "<b>Topic %{customdata[0]}</b><br>%{customdata[1]}<br>Size: %{customdata[2]}",
         "legendgroup": "",
         "marker": {
          "color": "#B0BEC5",
          "line": {
           "color": "DarkSlateGrey",
           "width": 2
          },
          "size": [
           78,
           39,
           39,
           39,
           33,
           32,
           30,
           29,
           28,
           26,
           25,
           25,
           24,
           24,
           23,
           21,
           21,
           20,
           20,
           19,
           18,
           17,
           17,
           16,
           16,
           15,
           15,
           14,
           13,
           13,
           12,
           11,
           10
          ],
          "sizemode": "area",
          "sizeref": 0.04875,
          "symbol": "circle"
         },
         "mode": "markers",
         "name": "",
         "orientation": "v",
         "showlegend": false,
         "type": "scatter",
         "x": [
          -0.5856177806854248,
          -6.09340238571167,
          -5.948050498962402,
          0.9979150891304016,
          0.05731355771422386,
          17.75658416748047,
          -1.0204386711120605,
          1.1310194730758667,
          -0.19581890106201172,
          2.302903652191162,
          -6.308959484100342,
          0.3315352499485016,
          -3.847525119781494,
          17.87910270690918,
          8.210268020629883,
          -5.940583229064941,
          -3.748487710952759,
          -0.22763530910015106,
          -5.832924842834473,
          7.734065055847168,
          8.331406593322754,
          -0.4806114435195923,
          -1.1490176916122437,
          -6.467423915863037,
          -6.134328365325928,
          17.56070327758789,
          0.4111480414867401,
          2.2347753047943115,
          7.931523323059082,
          0.34926021099090576,
          0.4131164848804474,
          17.359346389770508,
          -4.024989604949951
         ],
         "xaxis": "x",
         "y": [
          9.190118789672852,
          -3.150538921356201,
          -2.446866989135742,
          8.0037260055542,
          8.46650505065918,
          -1.1018998622894287,
          9.839559555053711,
          7.989396095275879,
          9.427265167236328,
          1.621794581413269,
          -3.275919198989868,
          8.056325912475586,
          -5.856291770935059,
          -1.2244945764541626,
          8.381850242614746,
          -1.6711416244506836,
          -5.9553704261779785,
          8.805092811584473,
          -2.0206475257873535,
          7.902036190032959,
          8.503896713256836,
          9.053661346435547,
          10.000222206115723,
          -3.524592876434326,
          -1.4431790113449097,
          -0.9059455394744873,
          7.078832149505615,
          1.7047297954559326,
          8.097860336303711,
          7.242041110992432,
          8.003697395324707,
          -0.7046141624450684,
          -5.678410530090332
         ],
         "yaxis": "y"
        }
       ],
       "layout": {
        "annotations": [
         {
          "showarrow": false,
          "text": "D1",
          "x": -7.437537503242493,
          "y": 2.3257897734642023,
          "yshift": 10
         },
         {
          "showarrow": false,
          "text": "D2",
          "x": 6.561715304851532,
          "xshift": 10,
          "y": 11.50025553703308
         }
        ],
        "height": 650,
        "hoverlabel": {
         "bgcolor": "white",
         "font": {
          "family": "Rockwell",
          "size": 16
         }
        },
        "legend": {
         "itemsizing": "constant",
         "tracegroupgap": 0
        },
        "margin": {
         "t": 60
        },
        "shapes": [
         {
          "line": {
           "color": "#CFD8DC",
           "width": 2
          },
          "type": "line",
          "x0": 6.561715304851532,
          "x1": 6.561715304851532,
          "y0": -6.848675990104676,
          "y1": 11.50025553703308
         },
         {
          "line": {
           "color": "#9E9E9E",
           "width": 2
          },
          "type": "line",
          "x0": -7.437537503242493,
          "x1": 20.560968112945556,
          "y0": 2.3257897734642023,
          "y1": 2.3257897734642023
         }
        ],
        "sliders": [
         {
          "active": 0,
          "pad": {
           "t": 50
          },
          "steps": [
           {
            "args": [
             {
              "marker.color": [
               [
                "red",
                "#B0BEC5",
                "#B0BEC5",
                "#B0BEC5",
                "#B0BEC5",
                "#B0BEC5",
                "#B0BEC5",
                "#B0BEC5",
                "#B0BEC5",
                "#B0BEC5",
                "#B0BEC5",
                "#B0BEC5",
                "#B0BEC5",
                "#B0BEC5",
                "#B0BEC5",
                "#B0BEC5",
                "#B0BEC5",
                "#B0BEC5",
                "#B0BEC5",
                "#B0BEC5",
                "#B0BEC5",
                "#B0BEC5",
                "#B0BEC5",
                "#B0BEC5",
                "#B0BEC5",
                "#B0BEC5",
                "#B0BEC5",
                "#B0BEC5",
                "#B0BEC5",
                "#B0BEC5",
                "#B0BEC5",
                "#B0BEC5",
                "#B0BEC5"
               ]
              ]
             }
            ],
            "label": "Topic 0",
            "method": "update"
           },
           {
            "args": [
             {
              "marker.color": [
               [
                "#B0BEC5",
                "red",
                "#B0BEC5",
                "#B0BEC5",
                "#B0BEC5",
                "#B0BEC5",
                "#B0BEC5",
                "#B0BEC5",
                "#B0BEC5",
                "#B0BEC5",
                "#B0BEC5",
                "#B0BEC5",
                "#B0BEC5",
                "#B0BEC5",
                "#B0BEC5",
                "#B0BEC5",
                "#B0BEC5",
                "#B0BEC5",
                "#B0BEC5",
                "#B0BEC5",
                "#B0BEC5",
                "#B0BEC5",
                "#B0BEC5",
                "#B0BEC5",
                "#B0BEC5",
                "#B0BEC5",
                "#B0BEC5",
                "#B0BEC5",
                "#B0BEC5",
                "#B0BEC5",
                "#B0BEC5",
                "#B0BEC5",
                "#B0BEC5"
               ]
              ]
             }
            ],
            "label": "Topic 1",
            "method": "update"
           },
           {
            "args": [
             {
              "marker.color": [
               [
                "#B0BEC5",
                "#B0BEC5",
                "red",
                "#B0BEC5",
                "#B0BEC5",
                "#B0BEC5",
                "#B0BEC5",
                "#B0BEC5",
                "#B0BEC5",
                "#B0BEC5",
                "#B0BEC5",
                "#B0BEC5",
                "#B0BEC5",
                "#B0BEC5",
                "#B0BEC5",
                "#B0BEC5",
                "#B0BEC5",
                "#B0BEC5",
                "#B0BEC5",
                "#B0BEC5",
                "#B0BEC5",
                "#B0BEC5",
                "#B0BEC5",
                "#B0BEC5",
                "#B0BEC5",
                "#B0BEC5",
                "#B0BEC5",
                "#B0BEC5",
                "#B0BEC5",
                "#B0BEC5",
                "#B0BEC5",
                "#B0BEC5",
                "#B0BEC5"
               ]
              ]
             }
            ],
            "label": "Topic 2",
            "method": "update"
           },
           {
            "args": [
             {
              "marker.color": [
               [
                "#B0BEC5",
                "#B0BEC5",
                "#B0BEC5",
                "red",
                "#B0BEC5",
                "#B0BEC5",
                "#B0BEC5",
                "#B0BEC5",
                "#B0BEC5",
                "#B0BEC5",
                "#B0BEC5",
                "#B0BEC5",
                "#B0BEC5",
                "#B0BEC5",
                "#B0BEC5",
                "#B0BEC5",
                "#B0BEC5",
                "#B0BEC5",
                "#B0BEC5",
                "#B0BEC5",
                "#B0BEC5",
                "#B0BEC5",
                "#B0BEC5",
                "#B0BEC5",
                "#B0BEC5",
                "#B0BEC5",
                "#B0BEC5",
                "#B0BEC5",
                "#B0BEC5",
                "#B0BEC5",
                "#B0BEC5",
                "#B0BEC5",
                "#B0BEC5"
               ]
              ]
             }
            ],
            "label": "Topic 3",
            "method": "update"
           },
           {
            "args": [
             {
              "marker.color": [
               [
                "#B0BEC5",
                "#B0BEC5",
                "#B0BEC5",
                "#B0BEC5",
                "red",
                "#B0BEC5",
                "#B0BEC5",
                "#B0BEC5",
                "#B0BEC5",
                "#B0BEC5",
                "#B0BEC5",
                "#B0BEC5",
                "#B0BEC5",
                "#B0BEC5",
                "#B0BEC5",
                "#B0BEC5",
                "#B0BEC5",
                "#B0BEC5",
                "#B0BEC5",
                "#B0BEC5",
                "#B0BEC5",
                "#B0BEC5",
                "#B0BEC5",
                "#B0BEC5",
                "#B0BEC5",
                "#B0BEC5",
                "#B0BEC5",
                "#B0BEC5",
                "#B0BEC5",
                "#B0BEC5",
                "#B0BEC5",
                "#B0BEC5",
                "#B0BEC5"
               ]
              ]
             }
            ],
            "label": "Topic 4",
            "method": "update"
           },
           {
            "args": [
             {
              "marker.color": [
               [
                "#B0BEC5",
                "#B0BEC5",
                "#B0BEC5",
                "#B0BEC5",
                "#B0BEC5",
                "red",
                "#B0BEC5",
                "#B0BEC5",
                "#B0BEC5",
                "#B0BEC5",
                "#B0BEC5",
                "#B0BEC5",
                "#B0BEC5",
                "#B0BEC5",
                "#B0BEC5",
                "#B0BEC5",
                "#B0BEC5",
                "#B0BEC5",
                "#B0BEC5",
                "#B0BEC5",
                "#B0BEC5",
                "#B0BEC5",
                "#B0BEC5",
                "#B0BEC5",
                "#B0BEC5",
                "#B0BEC5",
                "#B0BEC5",
                "#B0BEC5",
                "#B0BEC5",
                "#B0BEC5",
                "#B0BEC5",
                "#B0BEC5",
                "#B0BEC5"
               ]
              ]
             }
            ],
            "label": "Topic 5",
            "method": "update"
           },
           {
            "args": [
             {
              "marker.color": [
               [
                "#B0BEC5",
                "#B0BEC5",
                "#B0BEC5",
                "#B0BEC5",
                "#B0BEC5",
                "#B0BEC5",
                "red",
                "#B0BEC5",
                "#B0BEC5",
                "#B0BEC5",
                "#B0BEC5",
                "#B0BEC5",
                "#B0BEC5",
                "#B0BEC5",
                "#B0BEC5",
                "#B0BEC5",
                "#B0BEC5",
                "#B0BEC5",
                "#B0BEC5",
                "#B0BEC5",
                "#B0BEC5",
                "#B0BEC5",
                "#B0BEC5",
                "#B0BEC5",
                "#B0BEC5",
                "#B0BEC5",
                "#B0BEC5",
                "#B0BEC5",
                "#B0BEC5",
                "#B0BEC5",
                "#B0BEC5",
                "#B0BEC5",
                "#B0BEC5"
               ]
              ]
             }
            ],
            "label": "Topic 6",
            "method": "update"
           },
           {
            "args": [
             {
              "marker.color": [
               [
                "#B0BEC5",
                "#B0BEC5",
                "#B0BEC5",
                "#B0BEC5",
                "#B0BEC5",
                "#B0BEC5",
                "#B0BEC5",
                "red",
                "#B0BEC5",
                "#B0BEC5",
                "#B0BEC5",
                "#B0BEC5",
                "#B0BEC5",
                "#B0BEC5",
                "#B0BEC5",
                "#B0BEC5",
                "#B0BEC5",
                "#B0BEC5",
                "#B0BEC5",
                "#B0BEC5",
                "#B0BEC5",
                "#B0BEC5",
                "#B0BEC5",
                "#B0BEC5",
                "#B0BEC5",
                "#B0BEC5",
                "#B0BEC5",
                "#B0BEC5",
                "#B0BEC5",
                "#B0BEC5",
                "#B0BEC5",
                "#B0BEC5",
                "#B0BEC5"
               ]
              ]
             }
            ],
            "label": "Topic 7",
            "method": "update"
           },
           {
            "args": [
             {
              "marker.color": [
               [
                "#B0BEC5",
                "#B0BEC5",
                "#B0BEC5",
                "#B0BEC5",
                "#B0BEC5",
                "#B0BEC5",
                "#B0BEC5",
                "#B0BEC5",
                "red",
                "#B0BEC5",
                "#B0BEC5",
                "#B0BEC5",
                "#B0BEC5",
                "#B0BEC5",
                "#B0BEC5",
                "#B0BEC5",
                "#B0BEC5",
                "#B0BEC5",
                "#B0BEC5",
                "#B0BEC5",
                "#B0BEC5",
                "#B0BEC5",
                "#B0BEC5",
                "#B0BEC5",
                "#B0BEC5",
                "#B0BEC5",
                "#B0BEC5",
                "#B0BEC5",
                "#B0BEC5",
                "#B0BEC5",
                "#B0BEC5",
                "#B0BEC5",
                "#B0BEC5"
               ]
              ]
             }
            ],
            "label": "Topic 8",
            "method": "update"
           },
           {
            "args": [
             {
              "marker.color": [
               [
                "#B0BEC5",
                "#B0BEC5",
                "#B0BEC5",
                "#B0BEC5",
                "#B0BEC5",
                "#B0BEC5",
                "#B0BEC5",
                "#B0BEC5",
                "#B0BEC5",
                "red",
                "#B0BEC5",
                "#B0BEC5",
                "#B0BEC5",
                "#B0BEC5",
                "#B0BEC5",
                "#B0BEC5",
                "#B0BEC5",
                "#B0BEC5",
                "#B0BEC5",
                "#B0BEC5",
                "#B0BEC5",
                "#B0BEC5",
                "#B0BEC5",
                "#B0BEC5",
                "#B0BEC5",
                "#B0BEC5",
                "#B0BEC5",
                "#B0BEC5",
                "#B0BEC5",
                "#B0BEC5",
                "#B0BEC5",
                "#B0BEC5",
                "#B0BEC5"
               ]
              ]
             }
            ],
            "label": "Topic 9",
            "method": "update"
           },
           {
            "args": [
             {
              "marker.color": [
               [
                "#B0BEC5",
                "#B0BEC5",
                "#B0BEC5",
                "#B0BEC5",
                "#B0BEC5",
                "#B0BEC5",
                "#B0BEC5",
                "#B0BEC5",
                "#B0BEC5",
                "#B0BEC5",
                "red",
                "#B0BEC5",
                "#B0BEC5",
                "#B0BEC5",
                "#B0BEC5",
                "#B0BEC5",
                "#B0BEC5",
                "#B0BEC5",
                "#B0BEC5",
                "#B0BEC5",
                "#B0BEC5",
                "#B0BEC5",
                "#B0BEC5",
                "#B0BEC5",
                "#B0BEC5",
                "#B0BEC5",
                "#B0BEC5",
                "#B0BEC5",
                "#B0BEC5",
                "#B0BEC5",
                "#B0BEC5",
                "#B0BEC5",
                "#B0BEC5"
               ]
              ]
             }
            ],
            "label": "Topic 10",
            "method": "update"
           },
           {
            "args": [
             {
              "marker.color": [
               [
                "#B0BEC5",
                "#B0BEC5",
                "#B0BEC5",
                "#B0BEC5",
                "#B0BEC5",
                "#B0BEC5",
                "#B0BEC5",
                "#B0BEC5",
                "#B0BEC5",
                "#B0BEC5",
                "#B0BEC5",
                "red",
                "#B0BEC5",
                "#B0BEC5",
                "#B0BEC5",
                "#B0BEC5",
                "#B0BEC5",
                "#B0BEC5",
                "#B0BEC5",
                "#B0BEC5",
                "#B0BEC5",
                "#B0BEC5",
                "#B0BEC5",
                "#B0BEC5",
                "#B0BEC5",
                "#B0BEC5",
                "#B0BEC5",
                "#B0BEC5",
                "#B0BEC5",
                "#B0BEC5",
                "#B0BEC5",
                "#B0BEC5",
                "#B0BEC5"
               ]
              ]
             }
            ],
            "label": "Topic 11",
            "method": "update"
           },
           {
            "args": [
             {
              "marker.color": [
               [
                "#B0BEC5",
                "#B0BEC5",
                "#B0BEC5",
                "#B0BEC5",
                "#B0BEC5",
                "#B0BEC5",
                "#B0BEC5",
                "#B0BEC5",
                "#B0BEC5",
                "#B0BEC5",
                "#B0BEC5",
                "#B0BEC5",
                "red",
                "#B0BEC5",
                "#B0BEC5",
                "#B0BEC5",
                "#B0BEC5",
                "#B0BEC5",
                "#B0BEC5",
                "#B0BEC5",
                "#B0BEC5",
                "#B0BEC5",
                "#B0BEC5",
                "#B0BEC5",
                "#B0BEC5",
                "#B0BEC5",
                "#B0BEC5",
                "#B0BEC5",
                "#B0BEC5",
                "#B0BEC5",
                "#B0BEC5",
                "#B0BEC5",
                "#B0BEC5"
               ]
              ]
             }
            ],
            "label": "Topic 12",
            "method": "update"
           },
           {
            "args": [
             {
              "marker.color": [
               [
                "#B0BEC5",
                "#B0BEC5",
                "#B0BEC5",
                "#B0BEC5",
                "#B0BEC5",
                "#B0BEC5",
                "#B0BEC5",
                "#B0BEC5",
                "#B0BEC5",
                "#B0BEC5",
                "#B0BEC5",
                "#B0BEC5",
                "#B0BEC5",
                "red",
                "#B0BEC5",
                "#B0BEC5",
                "#B0BEC5",
                "#B0BEC5",
                "#B0BEC5",
                "#B0BEC5",
                "#B0BEC5",
                "#B0BEC5",
                "#B0BEC5",
                "#B0BEC5",
                "#B0BEC5",
                "#B0BEC5",
                "#B0BEC5",
                "#B0BEC5",
                "#B0BEC5",
                "#B0BEC5",
                "#B0BEC5",
                "#B0BEC5",
                "#B0BEC5"
               ]
              ]
             }
            ],
            "label": "Topic 13",
            "method": "update"
           },
           {
            "args": [
             {
              "marker.color": [
               [
                "#B0BEC5",
                "#B0BEC5",
                "#B0BEC5",
                "#B0BEC5",
                "#B0BEC5",
                "#B0BEC5",
                "#B0BEC5",
                "#B0BEC5",
                "#B0BEC5",
                "#B0BEC5",
                "#B0BEC5",
                "#B0BEC5",
                "#B0BEC5",
                "#B0BEC5",
                "red",
                "#B0BEC5",
                "#B0BEC5",
                "#B0BEC5",
                "#B0BEC5",
                "#B0BEC5",
                "#B0BEC5",
                "#B0BEC5",
                "#B0BEC5",
                "#B0BEC5",
                "#B0BEC5",
                "#B0BEC5",
                "#B0BEC5",
                "#B0BEC5",
                "#B0BEC5",
                "#B0BEC5",
                "#B0BEC5",
                "#B0BEC5",
                "#B0BEC5"
               ]
              ]
             }
            ],
            "label": "Topic 14",
            "method": "update"
           },
           {
            "args": [
             {
              "marker.color": [
               [
                "#B0BEC5",
                "#B0BEC5",
                "#B0BEC5",
                "#B0BEC5",
                "#B0BEC5",
                "#B0BEC5",
                "#B0BEC5",
                "#B0BEC5",
                "#B0BEC5",
                "#B0BEC5",
                "#B0BEC5",
                "#B0BEC5",
                "#B0BEC5",
                "#B0BEC5",
                "#B0BEC5",
                "red",
                "#B0BEC5",
                "#B0BEC5",
                "#B0BEC5",
                "#B0BEC5",
                "#B0BEC5",
                "#B0BEC5",
                "#B0BEC5",
                "#B0BEC5",
                "#B0BEC5",
                "#B0BEC5",
                "#B0BEC5",
                "#B0BEC5",
                "#B0BEC5",
                "#B0BEC5",
                "#B0BEC5",
                "#B0BEC5",
                "#B0BEC5"
               ]
              ]
             }
            ],
            "label": "Topic 15",
            "method": "update"
           },
           {
            "args": [
             {
              "marker.color": [
               [
                "#B0BEC5",
                "#B0BEC5",
                "#B0BEC5",
                "#B0BEC5",
                "#B0BEC5",
                "#B0BEC5",
                "#B0BEC5",
                "#B0BEC5",
                "#B0BEC5",
                "#B0BEC5",
                "#B0BEC5",
                "#B0BEC5",
                "#B0BEC5",
                "#B0BEC5",
                "#B0BEC5",
                "#B0BEC5",
                "red",
                "#B0BEC5",
                "#B0BEC5",
                "#B0BEC5",
                "#B0BEC5",
                "#B0BEC5",
                "#B0BEC5",
                "#B0BEC5",
                "#B0BEC5",
                "#B0BEC5",
                "#B0BEC5",
                "#B0BEC5",
                "#B0BEC5",
                "#B0BEC5",
                "#B0BEC5",
                "#B0BEC5",
                "#B0BEC5"
               ]
              ]
             }
            ],
            "label": "Topic 16",
            "method": "update"
           },
           {
            "args": [
             {
              "marker.color": [
               [
                "#B0BEC5",
                "#B0BEC5",
                "#B0BEC5",
                "#B0BEC5",
                "#B0BEC5",
                "#B0BEC5",
                "#B0BEC5",
                "#B0BEC5",
                "#B0BEC5",
                "#B0BEC5",
                "#B0BEC5",
                "#B0BEC5",
                "#B0BEC5",
                "#B0BEC5",
                "#B0BEC5",
                "#B0BEC5",
                "#B0BEC5",
                "red",
                "#B0BEC5",
                "#B0BEC5",
                "#B0BEC5",
                "#B0BEC5",
                "#B0BEC5",
                "#B0BEC5",
                "#B0BEC5",
                "#B0BEC5",
                "#B0BEC5",
                "#B0BEC5",
                "#B0BEC5",
                "#B0BEC5",
                "#B0BEC5",
                "#B0BEC5",
                "#B0BEC5"
               ]
              ]
             }
            ],
            "label": "Topic 17",
            "method": "update"
           },
           {
            "args": [
             {
              "marker.color": [
               [
                "#B0BEC5",
                "#B0BEC5",
                "#B0BEC5",
                "#B0BEC5",
                "#B0BEC5",
                "#B0BEC5",
                "#B0BEC5",
                "#B0BEC5",
                "#B0BEC5",
                "#B0BEC5",
                "#B0BEC5",
                "#B0BEC5",
                "#B0BEC5",
                "#B0BEC5",
                "#B0BEC5",
                "#B0BEC5",
                "#B0BEC5",
                "#B0BEC5",
                "red",
                "#B0BEC5",
                "#B0BEC5",
                "#B0BEC5",
                "#B0BEC5",
                "#B0BEC5",
                "#B0BEC5",
                "#B0BEC5",
                "#B0BEC5",
                "#B0BEC5",
                "#B0BEC5",
                "#B0BEC5",
                "#B0BEC5",
                "#B0BEC5",
                "#B0BEC5"
               ]
              ]
             }
            ],
            "label": "Topic 18",
            "method": "update"
           },
           {
            "args": [
             {
              "marker.color": [
               [
                "#B0BEC5",
                "#B0BEC5",
                "#B0BEC5",
                "#B0BEC5",
                "#B0BEC5",
                "#B0BEC5",
                "#B0BEC5",
                "#B0BEC5",
                "#B0BEC5",
                "#B0BEC5",
                "#B0BEC5",
                "#B0BEC5",
                "#B0BEC5",
                "#B0BEC5",
                "#B0BEC5",
                "#B0BEC5",
                "#B0BEC5",
                "#B0BEC5",
                "#B0BEC5",
                "red",
                "#B0BEC5",
                "#B0BEC5",
                "#B0BEC5",
                "#B0BEC5",
                "#B0BEC5",
                "#B0BEC5",
                "#B0BEC5",
                "#B0BEC5",
                "#B0BEC5",
                "#B0BEC5",
                "#B0BEC5",
                "#B0BEC5",
                "#B0BEC5"
               ]
              ]
             }
            ],
            "label": "Topic 19",
            "method": "update"
           },
           {
            "args": [
             {
              "marker.color": [
               [
                "#B0BEC5",
                "#B0BEC5",
                "#B0BEC5",
                "#B0BEC5",
                "#B0BEC5",
                "#B0BEC5",
                "#B0BEC5",
                "#B0BEC5",
                "#B0BEC5",
                "#B0BEC5",
                "#B0BEC5",
                "#B0BEC5",
                "#B0BEC5",
                "#B0BEC5",
                "#B0BEC5",
                "#B0BEC5",
                "#B0BEC5",
                "#B0BEC5",
                "#B0BEC5",
                "#B0BEC5",
                "red",
                "#B0BEC5",
                "#B0BEC5",
                "#B0BEC5",
                "#B0BEC5",
                "#B0BEC5",
                "#B0BEC5",
                "#B0BEC5",
                "#B0BEC5",
                "#B0BEC5",
                "#B0BEC5",
                "#B0BEC5",
                "#B0BEC5"
               ]
              ]
             }
            ],
            "label": "Topic 20",
            "method": "update"
           },
           {
            "args": [
             {
              "marker.color": [
               [
                "#B0BEC5",
                "#B0BEC5",
                "#B0BEC5",
                "#B0BEC5",
                "#B0BEC5",
                "#B0BEC5",
                "#B0BEC5",
                "#B0BEC5",
                "#B0BEC5",
                "#B0BEC5",
                "#B0BEC5",
                "#B0BEC5",
                "#B0BEC5",
                "#B0BEC5",
                "#B0BEC5",
                "#B0BEC5",
                "#B0BEC5",
                "#B0BEC5",
                "#B0BEC5",
                "#B0BEC5",
                "#B0BEC5",
                "red",
                "#B0BEC5",
                "#B0BEC5",
                "#B0BEC5",
                "#B0BEC5",
                "#B0BEC5",
                "#B0BEC5",
                "#B0BEC5",
                "#B0BEC5",
                "#B0BEC5",
                "#B0BEC5",
                "#B0BEC5"
               ]
              ]
             }
            ],
            "label": "Topic 21",
            "method": "update"
           },
           {
            "args": [
             {
              "marker.color": [
               [
                "#B0BEC5",
                "#B0BEC5",
                "#B0BEC5",
                "#B0BEC5",
                "#B0BEC5",
                "#B0BEC5",
                "#B0BEC5",
                "#B0BEC5",
                "#B0BEC5",
                "#B0BEC5",
                "#B0BEC5",
                "#B0BEC5",
                "#B0BEC5",
                "#B0BEC5",
                "#B0BEC5",
                "#B0BEC5",
                "#B0BEC5",
                "#B0BEC5",
                "#B0BEC5",
                "#B0BEC5",
                "#B0BEC5",
                "#B0BEC5",
                "red",
                "#B0BEC5",
                "#B0BEC5",
                "#B0BEC5",
                "#B0BEC5",
                "#B0BEC5",
                "#B0BEC5",
                "#B0BEC5",
                "#B0BEC5",
                "#B0BEC5",
                "#B0BEC5"
               ]
              ]
             }
            ],
            "label": "Topic 22",
            "method": "update"
           },
           {
            "args": [
             {
              "marker.color": [
               [
                "#B0BEC5",
                "#B0BEC5",
                "#B0BEC5",
                "#B0BEC5",
                "#B0BEC5",
                "#B0BEC5",
                "#B0BEC5",
                "#B0BEC5",
                "#B0BEC5",
                "#B0BEC5",
                "#B0BEC5",
                "#B0BEC5",
                "#B0BEC5",
                "#B0BEC5",
                "#B0BEC5",
                "#B0BEC5",
                "#B0BEC5",
                "#B0BEC5",
                "#B0BEC5",
                "#B0BEC5",
                "#B0BEC5",
                "#B0BEC5",
                "#B0BEC5",
                "red",
                "#B0BEC5",
                "#B0BEC5",
                "#B0BEC5",
                "#B0BEC5",
                "#B0BEC5",
                "#B0BEC5",
                "#B0BEC5",
                "#B0BEC5",
                "#B0BEC5"
               ]
              ]
             }
            ],
            "label": "Topic 23",
            "method": "update"
           },
           {
            "args": [
             {
              "marker.color": [
               [
                "#B0BEC5",
                "#B0BEC5",
                "#B0BEC5",
                "#B0BEC5",
                "#B0BEC5",
                "#B0BEC5",
                "#B0BEC5",
                "#B0BEC5",
                "#B0BEC5",
                "#B0BEC5",
                "#B0BEC5",
                "#B0BEC5",
                "#B0BEC5",
                "#B0BEC5",
                "#B0BEC5",
                "#B0BEC5",
                "#B0BEC5",
                "#B0BEC5",
                "#B0BEC5",
                "#B0BEC5",
                "#B0BEC5",
                "#B0BEC5",
                "#B0BEC5",
                "#B0BEC5",
                "red",
                "#B0BEC5",
                "#B0BEC5",
                "#B0BEC5",
                "#B0BEC5",
                "#B0BEC5",
                "#B0BEC5",
                "#B0BEC5",
                "#B0BEC5"
               ]
              ]
             }
            ],
            "label": "Topic 24",
            "method": "update"
           },
           {
            "args": [
             {
              "marker.color": [
               [
                "#B0BEC5",
                "#B0BEC5",
                "#B0BEC5",
                "#B0BEC5",
                "#B0BEC5",
                "#B0BEC5",
                "#B0BEC5",
                "#B0BEC5",
                "#B0BEC5",
                "#B0BEC5",
                "#B0BEC5",
                "#B0BEC5",
                "#B0BEC5",
                "#B0BEC5",
                "#B0BEC5",
                "#B0BEC5",
                "#B0BEC5",
                "#B0BEC5",
                "#B0BEC5",
                "#B0BEC5",
                "#B0BEC5",
                "#B0BEC5",
                "#B0BEC5",
                "#B0BEC5",
                "#B0BEC5",
                "red",
                "#B0BEC5",
                "#B0BEC5",
                "#B0BEC5",
                "#B0BEC5",
                "#B0BEC5",
                "#B0BEC5",
                "#B0BEC5"
               ]
              ]
             }
            ],
            "label": "Topic 25",
            "method": "update"
           },
           {
            "args": [
             {
              "marker.color": [
               [
                "#B0BEC5",
                "#B0BEC5",
                "#B0BEC5",
                "#B0BEC5",
                "#B0BEC5",
                "#B0BEC5",
                "#B0BEC5",
                "#B0BEC5",
                "#B0BEC5",
                "#B0BEC5",
                "#B0BEC5",
                "#B0BEC5",
                "#B0BEC5",
                "#B0BEC5",
                "#B0BEC5",
                "#B0BEC5",
                "#B0BEC5",
                "#B0BEC5",
                "#B0BEC5",
                "#B0BEC5",
                "#B0BEC5",
                "#B0BEC5",
                "#B0BEC5",
                "#B0BEC5",
                "#B0BEC5",
                "#B0BEC5",
                "red",
                "#B0BEC5",
                "#B0BEC5",
                "#B0BEC5",
                "#B0BEC5",
                "#B0BEC5",
                "#B0BEC5"
               ]
              ]
             }
            ],
            "label": "Topic 26",
            "method": "update"
           },
           {
            "args": [
             {
              "marker.color": [
               [
                "#B0BEC5",
                "#B0BEC5",
                "#B0BEC5",
                "#B0BEC5",
                "#B0BEC5",
                "#B0BEC5",
                "#B0BEC5",
                "#B0BEC5",
                "#B0BEC5",
                "#B0BEC5",
                "#B0BEC5",
                "#B0BEC5",
                "#B0BEC5",
                "#B0BEC5",
                "#B0BEC5",
                "#B0BEC5",
                "#B0BEC5",
                "#B0BEC5",
                "#B0BEC5",
                "#B0BEC5",
                "#B0BEC5",
                "#B0BEC5",
                "#B0BEC5",
                "#B0BEC5",
                "#B0BEC5",
                "#B0BEC5",
                "#B0BEC5",
                "red",
                "#B0BEC5",
                "#B0BEC5",
                "#B0BEC5",
                "#B0BEC5",
                "#B0BEC5"
               ]
              ]
             }
            ],
            "label": "Topic 27",
            "method": "update"
           },
           {
            "args": [
             {
              "marker.color": [
               [
                "#B0BEC5",
                "#B0BEC5",
                "#B0BEC5",
                "#B0BEC5",
                "#B0BEC5",
                "#B0BEC5",
                "#B0BEC5",
                "#B0BEC5",
                "#B0BEC5",
                "#B0BEC5",
                "#B0BEC5",
                "#B0BEC5",
                "#B0BEC5",
                "#B0BEC5",
                "#B0BEC5",
                "#B0BEC5",
                "#B0BEC5",
                "#B0BEC5",
                "#B0BEC5",
                "#B0BEC5",
                "#B0BEC5",
                "#B0BEC5",
                "#B0BEC5",
                "#B0BEC5",
                "#B0BEC5",
                "#B0BEC5",
                "#B0BEC5",
                "#B0BEC5",
                "red",
                "#B0BEC5",
                "#B0BEC5",
                "#B0BEC5",
                "#B0BEC5"
               ]
              ]
             }
            ],
            "label": "Topic 28",
            "method": "update"
           },
           {
            "args": [
             {
              "marker.color": [
               [
                "#B0BEC5",
                "#B0BEC5",
                "#B0BEC5",
                "#B0BEC5",
                "#B0BEC5",
                "#B0BEC5",
                "#B0BEC5",
                "#B0BEC5",
                "#B0BEC5",
                "#B0BEC5",
                "#B0BEC5",
                "#B0BEC5",
                "#B0BEC5",
                "#B0BEC5",
                "#B0BEC5",
                "#B0BEC5",
                "#B0BEC5",
                "#B0BEC5",
                "#B0BEC5",
                "#B0BEC5",
                "#B0BEC5",
                "#B0BEC5",
                "#B0BEC5",
                "#B0BEC5",
                "#B0BEC5",
                "#B0BEC5",
                "#B0BEC5",
                "#B0BEC5",
                "#B0BEC5",
                "red",
                "#B0BEC5",
                "#B0BEC5",
                "#B0BEC5"
               ]
              ]
             }
            ],
            "label": "Topic 29",
            "method": "update"
           },
           {
            "args": [
             {
              "marker.color": [
               [
                "#B0BEC5",
                "#B0BEC5",
                "#B0BEC5",
                "#B0BEC5",
                "#B0BEC5",
                "#B0BEC5",
                "#B0BEC5",
                "#B0BEC5",
                "#B0BEC5",
                "#B0BEC5",
                "#B0BEC5",
                "#B0BEC5",
                "#B0BEC5",
                "#B0BEC5",
                "#B0BEC5",
                "#B0BEC5",
                "#B0BEC5",
                "#B0BEC5",
                "#B0BEC5",
                "#B0BEC5",
                "#B0BEC5",
                "#B0BEC5",
                "#B0BEC5",
                "#B0BEC5",
                "#B0BEC5",
                "#B0BEC5",
                "#B0BEC5",
                "#B0BEC5",
                "#B0BEC5",
                "#B0BEC5",
                "red",
                "#B0BEC5",
                "#B0BEC5"
               ]
              ]
             }
            ],
            "label": "Topic 30",
            "method": "update"
           },
           {
            "args": [
             {
              "marker.color": [
               [
                "#B0BEC5",
                "#B0BEC5",
                "#B0BEC5",
                "#B0BEC5",
                "#B0BEC5",
                "#B0BEC5",
                "#B0BEC5",
                "#B0BEC5",
                "#B0BEC5",
                "#B0BEC5",
                "#B0BEC5",
                "#B0BEC5",
                "#B0BEC5",
                "#B0BEC5",
                "#B0BEC5",
                "#B0BEC5",
                "#B0BEC5",
                "#B0BEC5",
                "#B0BEC5",
                "#B0BEC5",
                "#B0BEC5",
                "#B0BEC5",
                "#B0BEC5",
                "#B0BEC5",
                "#B0BEC5",
                "#B0BEC5",
                "#B0BEC5",
                "#B0BEC5",
                "#B0BEC5",
                "#B0BEC5",
                "#B0BEC5",
                "red",
                "#B0BEC5"
               ]
              ]
             }
            ],
            "label": "Topic 31",
            "method": "update"
           },
           {
            "args": [
             {
              "marker.color": [
               [
                "#B0BEC5",
                "#B0BEC5",
                "#B0BEC5",
                "#B0BEC5",
                "#B0BEC5",
                "#B0BEC5",
                "#B0BEC5",
                "#B0BEC5",
                "#B0BEC5",
                "#B0BEC5",
                "#B0BEC5",
                "#B0BEC5",
                "#B0BEC5",
                "#B0BEC5",
                "#B0BEC5",
                "#B0BEC5",
                "#B0BEC5",
                "#B0BEC5",
                "#B0BEC5",
                "#B0BEC5",
                "#B0BEC5",
                "#B0BEC5",
                "#B0BEC5",
                "#B0BEC5",
                "#B0BEC5",
                "#B0BEC5",
                "#B0BEC5",
                "#B0BEC5",
                "#B0BEC5",
                "#B0BEC5",
                "#B0BEC5",
                "#B0BEC5",
                "red"
               ]
              ]
             }
            ],
            "label": "Topic 32",
            "method": "update"
           }
          ]
         }
        ],
        "template": {
         "data": {
          "bar": [
           {
            "error_x": {
             "color": "rgb(36,36,36)"
            },
            "error_y": {
             "color": "rgb(36,36,36)"
            },
            "marker": {
             "line": {
              "color": "white",
              "width": 0.5
             },
             "pattern": {
              "fillmode": "overlay",
              "size": 10,
              "solidity": 0.2
             }
            },
            "type": "bar"
           }
          ],
          "barpolar": [
           {
            "marker": {
             "line": {
              "color": "white",
              "width": 0.5
             },
             "pattern": {
              "fillmode": "overlay",
              "size": 10,
              "solidity": 0.2
             }
            },
            "type": "barpolar"
           }
          ],
          "carpet": [
           {
            "aaxis": {
             "endlinecolor": "rgb(36,36,36)",
             "gridcolor": "white",
             "linecolor": "white",
             "minorgridcolor": "white",
             "startlinecolor": "rgb(36,36,36)"
            },
            "baxis": {
             "endlinecolor": "rgb(36,36,36)",
             "gridcolor": "white",
             "linecolor": "white",
             "minorgridcolor": "white",
             "startlinecolor": "rgb(36,36,36)"
            },
            "type": "carpet"
           }
          ],
          "choropleth": [
           {
            "colorbar": {
             "outlinewidth": 1,
             "tickcolor": "rgb(36,36,36)",
             "ticks": "outside"
            },
            "type": "choropleth"
           }
          ],
          "contour": [
           {
            "colorbar": {
             "outlinewidth": 1,
             "tickcolor": "rgb(36,36,36)",
             "ticks": "outside"
            },
            "colorscale": [
             [
              0,
              "#440154"
             ],
             [
              0.1111111111111111,
              "#482878"
             ],
             [
              0.2222222222222222,
              "#3e4989"
             ],
             [
              0.3333333333333333,
              "#31688e"
             ],
             [
              0.4444444444444444,
              "#26828e"
             ],
             [
              0.5555555555555556,
              "#1f9e89"
             ],
             [
              0.6666666666666666,
              "#35b779"
             ],
             [
              0.7777777777777778,
              "#6ece58"
             ],
             [
              0.8888888888888888,
              "#b5de2b"
             ],
             [
              1,
              "#fde725"
             ]
            ],
            "type": "contour"
           }
          ],
          "contourcarpet": [
           {
            "colorbar": {
             "outlinewidth": 1,
             "tickcolor": "rgb(36,36,36)",
             "ticks": "outside"
            },
            "type": "contourcarpet"
           }
          ],
          "heatmap": [
           {
            "colorbar": {
             "outlinewidth": 1,
             "tickcolor": "rgb(36,36,36)",
             "ticks": "outside"
            },
            "colorscale": [
             [
              0,
              "#440154"
             ],
             [
              0.1111111111111111,
              "#482878"
             ],
             [
              0.2222222222222222,
              "#3e4989"
             ],
             [
              0.3333333333333333,
              "#31688e"
             ],
             [
              0.4444444444444444,
              "#26828e"
             ],
             [
              0.5555555555555556,
              "#1f9e89"
             ],
             [
              0.6666666666666666,
              "#35b779"
             ],
             [
              0.7777777777777778,
              "#6ece58"
             ],
             [
              0.8888888888888888,
              "#b5de2b"
             ],
             [
              1,
              "#fde725"
             ]
            ],
            "type": "heatmap"
           }
          ],
          "heatmapgl": [
           {
            "colorbar": {
             "outlinewidth": 1,
             "tickcolor": "rgb(36,36,36)",
             "ticks": "outside"
            },
            "colorscale": [
             [
              0,
              "#440154"
             ],
             [
              0.1111111111111111,
              "#482878"
             ],
             [
              0.2222222222222222,
              "#3e4989"
             ],
             [
              0.3333333333333333,
              "#31688e"
             ],
             [
              0.4444444444444444,
              "#26828e"
             ],
             [
              0.5555555555555556,
              "#1f9e89"
             ],
             [
              0.6666666666666666,
              "#35b779"
             ],
             [
              0.7777777777777778,
              "#6ece58"
             ],
             [
              0.8888888888888888,
              "#b5de2b"
             ],
             [
              1,
              "#fde725"
             ]
            ],
            "type": "heatmapgl"
           }
          ],
          "histogram": [
           {
            "marker": {
             "line": {
              "color": "white",
              "width": 0.6
             }
            },
            "type": "histogram"
           }
          ],
          "histogram2d": [
           {
            "colorbar": {
             "outlinewidth": 1,
             "tickcolor": "rgb(36,36,36)",
             "ticks": "outside"
            },
            "colorscale": [
             [
              0,
              "#440154"
             ],
             [
              0.1111111111111111,
              "#482878"
             ],
             [
              0.2222222222222222,
              "#3e4989"
             ],
             [
              0.3333333333333333,
              "#31688e"
             ],
             [
              0.4444444444444444,
              "#26828e"
             ],
             [
              0.5555555555555556,
              "#1f9e89"
             ],
             [
              0.6666666666666666,
              "#35b779"
             ],
             [
              0.7777777777777778,
              "#6ece58"
             ],
             [
              0.8888888888888888,
              "#b5de2b"
             ],
             [
              1,
              "#fde725"
             ]
            ],
            "type": "histogram2d"
           }
          ],
          "histogram2dcontour": [
           {
            "colorbar": {
             "outlinewidth": 1,
             "tickcolor": "rgb(36,36,36)",
             "ticks": "outside"
            },
            "colorscale": [
             [
              0,
              "#440154"
             ],
             [
              0.1111111111111111,
              "#482878"
             ],
             [
              0.2222222222222222,
              "#3e4989"
             ],
             [
              0.3333333333333333,
              "#31688e"
             ],
             [
              0.4444444444444444,
              "#26828e"
             ],
             [
              0.5555555555555556,
              "#1f9e89"
             ],
             [
              0.6666666666666666,
              "#35b779"
             ],
             [
              0.7777777777777778,
              "#6ece58"
             ],
             [
              0.8888888888888888,
              "#b5de2b"
             ],
             [
              1,
              "#fde725"
             ]
            ],
            "type": "histogram2dcontour"
           }
          ],
          "mesh3d": [
           {
            "colorbar": {
             "outlinewidth": 1,
             "tickcolor": "rgb(36,36,36)",
             "ticks": "outside"
            },
            "type": "mesh3d"
           }
          ],
          "parcoords": [
           {
            "line": {
             "colorbar": {
              "outlinewidth": 1,
              "tickcolor": "rgb(36,36,36)",
              "ticks": "outside"
             }
            },
            "type": "parcoords"
           }
          ],
          "pie": [
           {
            "automargin": true,
            "type": "pie"
           }
          ],
          "scatter": [
           {
            "fillpattern": {
             "fillmode": "overlay",
             "size": 10,
             "solidity": 0.2
            },
            "type": "scatter"
           }
          ],
          "scatter3d": [
           {
            "line": {
             "colorbar": {
              "outlinewidth": 1,
              "tickcolor": "rgb(36,36,36)",
              "ticks": "outside"
             }
            },
            "marker": {
             "colorbar": {
              "outlinewidth": 1,
              "tickcolor": "rgb(36,36,36)",
              "ticks": "outside"
             }
            },
            "type": "scatter3d"
           }
          ],
          "scattercarpet": [
           {
            "marker": {
             "colorbar": {
              "outlinewidth": 1,
              "tickcolor": "rgb(36,36,36)",
              "ticks": "outside"
             }
            },
            "type": "scattercarpet"
           }
          ],
          "scattergeo": [
           {
            "marker": {
             "colorbar": {
              "outlinewidth": 1,
              "tickcolor": "rgb(36,36,36)",
              "ticks": "outside"
             }
            },
            "type": "scattergeo"
           }
          ],
          "scattergl": [
           {
            "marker": {
             "colorbar": {
              "outlinewidth": 1,
              "tickcolor": "rgb(36,36,36)",
              "ticks": "outside"
             }
            },
            "type": "scattergl"
           }
          ],
          "scattermapbox": [
           {
            "marker": {
             "colorbar": {
              "outlinewidth": 1,
              "tickcolor": "rgb(36,36,36)",
              "ticks": "outside"
             }
            },
            "type": "scattermapbox"
           }
          ],
          "scatterpolar": [
           {
            "marker": {
             "colorbar": {
              "outlinewidth": 1,
              "tickcolor": "rgb(36,36,36)",
              "ticks": "outside"
             }
            },
            "type": "scatterpolar"
           }
          ],
          "scatterpolargl": [
           {
            "marker": {
             "colorbar": {
              "outlinewidth": 1,
              "tickcolor": "rgb(36,36,36)",
              "ticks": "outside"
             }
            },
            "type": "scatterpolargl"
           }
          ],
          "scatterternary": [
           {
            "marker": {
             "colorbar": {
              "outlinewidth": 1,
              "tickcolor": "rgb(36,36,36)",
              "ticks": "outside"
             }
            },
            "type": "scatterternary"
           }
          ],
          "surface": [
           {
            "colorbar": {
             "outlinewidth": 1,
             "tickcolor": "rgb(36,36,36)",
             "ticks": "outside"
            },
            "colorscale": [
             [
              0,
              "#440154"
             ],
             [
              0.1111111111111111,
              "#482878"
             ],
             [
              0.2222222222222222,
              "#3e4989"
             ],
             [
              0.3333333333333333,
              "#31688e"
             ],
             [
              0.4444444444444444,
              "#26828e"
             ],
             [
              0.5555555555555556,
              "#1f9e89"
             ],
             [
              0.6666666666666666,
              "#35b779"
             ],
             [
              0.7777777777777778,
              "#6ece58"
             ],
             [
              0.8888888888888888,
              "#b5de2b"
             ],
             [
              1,
              "#fde725"
             ]
            ],
            "type": "surface"
           }
          ],
          "table": [
           {
            "cells": {
             "fill": {
              "color": "rgb(237,237,237)"
             },
             "line": {
              "color": "white"
             }
            },
            "header": {
             "fill": {
              "color": "rgb(217,217,217)"
             },
             "line": {
              "color": "white"
             }
            },
            "type": "table"
           }
          ]
         },
         "layout": {
          "annotationdefaults": {
           "arrowhead": 0,
           "arrowwidth": 1
          },
          "autotypenumbers": "strict",
          "coloraxis": {
           "colorbar": {
            "outlinewidth": 1,
            "tickcolor": "rgb(36,36,36)",
            "ticks": "outside"
           }
          },
          "colorscale": {
           "diverging": [
            [
             0,
             "rgb(103,0,31)"
            ],
            [
             0.1,
             "rgb(178,24,43)"
            ],
            [
             0.2,
             "rgb(214,96,77)"
            ],
            [
             0.3,
             "rgb(244,165,130)"
            ],
            [
             0.4,
             "rgb(253,219,199)"
            ],
            [
             0.5,
             "rgb(247,247,247)"
            ],
            [
             0.6,
             "rgb(209,229,240)"
            ],
            [
             0.7,
             "rgb(146,197,222)"
            ],
            [
             0.8,
             "rgb(67,147,195)"
            ],
            [
             0.9,
             "rgb(33,102,172)"
            ],
            [
             1,
             "rgb(5,48,97)"
            ]
           ],
           "sequential": [
            [
             0,
             "#440154"
            ],
            [
             0.1111111111111111,
             "#482878"
            ],
            [
             0.2222222222222222,
             "#3e4989"
            ],
            [
             0.3333333333333333,
             "#31688e"
            ],
            [
             0.4444444444444444,
             "#26828e"
            ],
            [
             0.5555555555555556,
             "#1f9e89"
            ],
            [
             0.6666666666666666,
             "#35b779"
            ],
            [
             0.7777777777777778,
             "#6ece58"
            ],
            [
             0.8888888888888888,
             "#b5de2b"
            ],
            [
             1,
             "#fde725"
            ]
           ],
           "sequentialminus": [
            [
             0,
             "#440154"
            ],
            [
             0.1111111111111111,
             "#482878"
            ],
            [
             0.2222222222222222,
             "#3e4989"
            ],
            [
             0.3333333333333333,
             "#31688e"
            ],
            [
             0.4444444444444444,
             "#26828e"
            ],
            [
             0.5555555555555556,
             "#1f9e89"
            ],
            [
             0.6666666666666666,
             "#35b779"
            ],
            [
             0.7777777777777778,
             "#6ece58"
            ],
            [
             0.8888888888888888,
             "#b5de2b"
            ],
            [
             1,
             "#fde725"
            ]
           ]
          },
          "colorway": [
           "#1F77B4",
           "#FF7F0E",
           "#2CA02C",
           "#D62728",
           "#9467BD",
           "#8C564B",
           "#E377C2",
           "#7F7F7F",
           "#BCBD22",
           "#17BECF"
          ],
          "font": {
           "color": "rgb(36,36,36)"
          },
          "geo": {
           "bgcolor": "white",
           "lakecolor": "white",
           "landcolor": "white",
           "showlakes": true,
           "showland": true,
           "subunitcolor": "white"
          },
          "hoverlabel": {
           "align": "left"
          },
          "hovermode": "closest",
          "mapbox": {
           "style": "light"
          },
          "paper_bgcolor": "white",
          "plot_bgcolor": "white",
          "polar": {
           "angularaxis": {
            "gridcolor": "rgb(232,232,232)",
            "linecolor": "rgb(36,36,36)",
            "showgrid": false,
            "showline": true,
            "ticks": "outside"
           },
           "bgcolor": "white",
           "radialaxis": {
            "gridcolor": "rgb(232,232,232)",
            "linecolor": "rgb(36,36,36)",
            "showgrid": false,
            "showline": true,
            "ticks": "outside"
           }
          },
          "scene": {
           "xaxis": {
            "backgroundcolor": "white",
            "gridcolor": "rgb(232,232,232)",
            "gridwidth": 2,
            "linecolor": "rgb(36,36,36)",
            "showbackground": true,
            "showgrid": false,
            "showline": true,
            "ticks": "outside",
            "zeroline": false,
            "zerolinecolor": "rgb(36,36,36)"
           },
           "yaxis": {
            "backgroundcolor": "white",
            "gridcolor": "rgb(232,232,232)",
            "gridwidth": 2,
            "linecolor": "rgb(36,36,36)",
            "showbackground": true,
            "showgrid": false,
            "showline": true,
            "ticks": "outside",
            "zeroline": false,
            "zerolinecolor": "rgb(36,36,36)"
           },
           "zaxis": {
            "backgroundcolor": "white",
            "gridcolor": "rgb(232,232,232)",
            "gridwidth": 2,
            "linecolor": "rgb(36,36,36)",
            "showbackground": true,
            "showgrid": false,
            "showline": true,
            "ticks": "outside",
            "zeroline": false,
            "zerolinecolor": "rgb(36,36,36)"
           }
          },
          "shapedefaults": {
           "fillcolor": "black",
           "line": {
            "width": 0
           },
           "opacity": 0.3
          },
          "ternary": {
           "aaxis": {
            "gridcolor": "rgb(232,232,232)",
            "linecolor": "rgb(36,36,36)",
            "showgrid": false,
            "showline": true,
            "ticks": "outside"
           },
           "baxis": {
            "gridcolor": "rgb(232,232,232)",
            "linecolor": "rgb(36,36,36)",
            "showgrid": false,
            "showline": true,
            "ticks": "outside"
           },
           "bgcolor": "white",
           "caxis": {
            "gridcolor": "rgb(232,232,232)",
            "linecolor": "rgb(36,36,36)",
            "showgrid": false,
            "showline": true,
            "ticks": "outside"
           }
          },
          "title": {
           "x": 0.05
          },
          "xaxis": {
           "automargin": true,
           "gridcolor": "rgb(232,232,232)",
           "linecolor": "rgb(36,36,36)",
           "showgrid": false,
           "showline": true,
           "ticks": "outside",
           "title": {
            "standoff": 15
           },
           "zeroline": false,
           "zerolinecolor": "rgb(36,36,36)"
          },
          "yaxis": {
           "automargin": true,
           "gridcolor": "rgb(232,232,232)",
           "linecolor": "rgb(36,36,36)",
           "showgrid": false,
           "showline": true,
           "ticks": "outside",
           "title": {
            "standoff": 15
           },
           "zeroline": false,
           "zerolinecolor": "rgb(36,36,36)"
          }
         }
        },
        "title": {
         "font": {
          "color": "Black",
          "size": 22
         },
         "text": "<b>Intertopic Distance Map</b>",
         "x": 0.5,
         "xanchor": "center",
         "y": 0.95,
         "yanchor": "top"
        },
        "width": 650,
        "xaxis": {
         "anchor": "y",
         "domain": [
          0,
          1
         ],
         "range": [
          -7.437537503242493,
          20.560968112945556
         ],
         "title": {
          "text": ""
         },
         "visible": false
        },
        "yaxis": {
         "anchor": "x",
         "domain": [
          0,
          1
         ],
         "range": [
          -6.848675990104676,
          11.50025553703308
         ],
         "title": {
          "text": ""
         },
         "visible": false
        }
       }
      }
     },
     "metadata": {},
     "output_type": "display_data"
    },
    {
     "data": {
      "application/vnd.plotly.v1+json": {
       "config": {
        "plotlyServerURL": "https://plot.ly"
       },
       "data": [
        {
         "marker": {
          "color": "#D55E00"
         },
         "orientation": "h",
         "type": "bar",
         "x": [
          0.061293727253625224,
          0.061293727253625224,
          0.07568820510003572,
          0.10672019388774638,
          0.12395367704768588
         ],
         "xaxis": "x",
         "y": [
          "prior  ",
          "last  ",
          "neutral  ",
          "year  ",
          "yoy  "
         ],
         "yaxis": "y"
        },
        {
         "marker": {
          "color": "#0072B2"
         },
         "orientation": "h",
         "type": "bar",
         "x": [
          0.06244204442250256,
          0.06683532769286234,
          0.07053689599185203,
          0.07832145617760625,
          0.11239567996050462
         ],
         "xaxis": "x2",
         "y": [
          "acquire  ",
          "patent  ",
          "bid  ",
          "merger  ",
          "agreement  "
         ],
         "yaxis": "y2"
        },
        {
         "marker": {
          "color": "#CC79A7"
         },
         "orientation": "h",
         "type": "bar",
         "x": [
          0.049917638768669066,
          0.05570837280890039,
          0.06398014547064836,
          0.0714509899300064,
          0.13935444958280044
         ],
         "xaxis": "x3",
         "y": [
          "lower  ",
          "amid  ",
          "higher  ",
          "several  ",
          "trading  "
         ],
         "yaxis": "y3"
        },
        {
         "marker": {
          "color": "#E69F00"
         },
         "orientation": "h",
         "type": "bar",
         "x": [
          0.04908325036773357,
          0.0588025652618767,
          0.10788837462987279,
          0.21862656458069685,
          0.23457873477147406
         ],
         "xaxis": "x4",
         "y": [
          "coverage  ",
          "rating  ",
          "buy  ",
          "price  ",
          "target  "
         ],
         "yaxis": "y4"
        },
        {
         "marker": {
          "color": "#56B4E9"
         },
         "orientation": "h",
         "type": "bar",
         "x": [
          0.09473447824355259,
          0.15996991457968646,
          0.1888155765289619,
          0.1942822895603819,
          0.22503877158545252
         ],
         "xaxis": "x5",
         "y": [
          "mad  ",
          "fast  ",
          "money  ",
          "bank  ",
          "hold  "
         ],
         "yaxis": "y5"
        },
        {
         "marker": {
          "color": "#009E73"
         },
         "orientation": "h",
         "type": "bar",
         "x": [
          0.06494376181476247,
          0.06494376181476247,
          0.14553899363436684,
          0.3063259720178291,
          0.3500709879213148
         ],
         "xaxis": "x6",
         "y": [
          "mon  ",
          "post  ",
          "stock  ",
          "week  ",
          "hit  "
         ],
         "yaxis": "y6"
        },
        {
         "marker": {
          "color": "#F0E442"
         },
         "orientation": "h",
         "type": "bar",
         "x": [
          0.1067560232162946,
          0.1067560232162946,
          0.1067560232162946,
          0.18306831888055433,
          0.6629727292336592
         ],
         "xaxis": "x7",
         "y": [
          "narrow  ",
          "swan  ",
          "bal  ",
          "looking  ",
          "top  "
         ],
         "yaxis": "y7"
        },
        {
         "marker": {
          "color": "#D55E00"
         },
         "orientation": "h",
         "type": "bar",
         "x": [
          0.06647747114606312,
          0.08675657324630827,
          0.10860126609790464,
          0.2274592134939678,
          0.30247137359253645
         ],
         "xaxis": "x8",
         "y": [
          "neutral  ",
          "price  ",
          "target  ",
          "overweight  ",
          "morgan  "
         ],
         "yaxis": "y8"
        }
       ],
       "layout": {
        "annotations": [
         {
          "font": {
           "size": 16
          },
          "showarrow": false,
          "text": "Topic 0",
          "x": 0.0875,
          "xanchor": "center",
          "xref": "paper",
          "y": 1,
          "yanchor": "bottom",
          "yref": "paper"
         },
         {
          "font": {
           "size": 16
          },
          "showarrow": false,
          "text": "Topic 1",
          "x": 0.36250000000000004,
          "xanchor": "center",
          "xref": "paper",
          "y": 1,
          "yanchor": "bottom",
          "yref": "paper"
         },
         {
          "font": {
           "size": 16
          },
          "showarrow": false,
          "text": "Topic 2",
          "x": 0.6375000000000001,
          "xanchor": "center",
          "xref": "paper",
          "y": 1,
          "yanchor": "bottom",
          "yref": "paper"
         },
         {
          "font": {
           "size": 16
          },
          "showarrow": false,
          "text": "Topic 3",
          "x": 0.9125,
          "xanchor": "center",
          "xref": "paper",
          "y": 1,
          "yanchor": "bottom",
          "yref": "paper"
         },
         {
          "font": {
           "size": 16
          },
          "showarrow": false,
          "text": "Topic 4",
          "x": 0.0875,
          "xanchor": "center",
          "xref": "paper",
          "y": 0.4,
          "yanchor": "bottom",
          "yref": "paper"
         },
         {
          "font": {
           "size": 16
          },
          "showarrow": false,
          "text": "Topic 5",
          "x": 0.36250000000000004,
          "xanchor": "center",
          "xref": "paper",
          "y": 0.4,
          "yanchor": "bottom",
          "yref": "paper"
         },
         {
          "font": {
           "size": 16
          },
          "showarrow": false,
          "text": "Topic 6",
          "x": 0.6375000000000001,
          "xanchor": "center",
          "xref": "paper",
          "y": 0.4,
          "yanchor": "bottom",
          "yref": "paper"
         },
         {
          "font": {
           "size": 16
          },
          "showarrow": false,
          "text": "Topic 7",
          "x": 0.9125,
          "xanchor": "center",
          "xref": "paper",
          "y": 0.4,
          "yanchor": "bottom",
          "yref": "paper"
         }
        ],
        "height": 500,
        "hoverlabel": {
         "bgcolor": "white",
         "font": {
          "family": "Rockwell",
          "size": 16
         }
        },
        "showlegend": false,
        "template": {
         "data": {
          "bar": [
           {
            "error_x": {
             "color": "#2a3f5f"
            },
            "error_y": {
             "color": "#2a3f5f"
            },
            "marker": {
             "line": {
              "color": "white",
              "width": 0.5
             },
             "pattern": {
              "fillmode": "overlay",
              "size": 10,
              "solidity": 0.2
             }
            },
            "type": "bar"
           }
          ],
          "barpolar": [
           {
            "marker": {
             "line": {
              "color": "white",
              "width": 0.5
             },
             "pattern": {
              "fillmode": "overlay",
              "size": 10,
              "solidity": 0.2
             }
            },
            "type": "barpolar"
           }
          ],
          "carpet": [
           {
            "aaxis": {
             "endlinecolor": "#2a3f5f",
             "gridcolor": "#C8D4E3",
             "linecolor": "#C8D4E3",
             "minorgridcolor": "#C8D4E3",
             "startlinecolor": "#2a3f5f"
            },
            "baxis": {
             "endlinecolor": "#2a3f5f",
             "gridcolor": "#C8D4E3",
             "linecolor": "#C8D4E3",
             "minorgridcolor": "#C8D4E3",
             "startlinecolor": "#2a3f5f"
            },
            "type": "carpet"
           }
          ],
          "choropleth": [
           {
            "colorbar": {
             "outlinewidth": 0,
             "ticks": ""
            },
            "type": "choropleth"
           }
          ],
          "contour": [
           {
            "colorbar": {
             "outlinewidth": 0,
             "ticks": ""
            },
            "colorscale": [
             [
              0,
              "#0d0887"
             ],
             [
              0.1111111111111111,
              "#46039f"
             ],
             [
              0.2222222222222222,
              "#7201a8"
             ],
             [
              0.3333333333333333,
              "#9c179e"
             ],
             [
              0.4444444444444444,
              "#bd3786"
             ],
             [
              0.5555555555555556,
              "#d8576b"
             ],
             [
              0.6666666666666666,
              "#ed7953"
             ],
             [
              0.7777777777777778,
              "#fb9f3a"
             ],
             [
              0.8888888888888888,
              "#fdca26"
             ],
             [
              1,
              "#f0f921"
             ]
            ],
            "type": "contour"
           }
          ],
          "contourcarpet": [
           {
            "colorbar": {
             "outlinewidth": 0,
             "ticks": ""
            },
            "type": "contourcarpet"
           }
          ],
          "heatmap": [
           {
            "colorbar": {
             "outlinewidth": 0,
             "ticks": ""
            },
            "colorscale": [
             [
              0,
              "#0d0887"
             ],
             [
              0.1111111111111111,
              "#46039f"
             ],
             [
              0.2222222222222222,
              "#7201a8"
             ],
             [
              0.3333333333333333,
              "#9c179e"
             ],
             [
              0.4444444444444444,
              "#bd3786"
             ],
             [
              0.5555555555555556,
              "#d8576b"
             ],
             [
              0.6666666666666666,
              "#ed7953"
             ],
             [
              0.7777777777777778,
              "#fb9f3a"
             ],
             [
              0.8888888888888888,
              "#fdca26"
             ],
             [
              1,
              "#f0f921"
             ]
            ],
            "type": "heatmap"
           }
          ],
          "heatmapgl": [
           {
            "colorbar": {
             "outlinewidth": 0,
             "ticks": ""
            },
            "colorscale": [
             [
              0,
              "#0d0887"
             ],
             [
              0.1111111111111111,
              "#46039f"
             ],
             [
              0.2222222222222222,
              "#7201a8"
             ],
             [
              0.3333333333333333,
              "#9c179e"
             ],
             [
              0.4444444444444444,
              "#bd3786"
             ],
             [
              0.5555555555555556,
              "#d8576b"
             ],
             [
              0.6666666666666666,
              "#ed7953"
             ],
             [
              0.7777777777777778,
              "#fb9f3a"
             ],
             [
              0.8888888888888888,
              "#fdca26"
             ],
             [
              1,
              "#f0f921"
             ]
            ],
            "type": "heatmapgl"
           }
          ],
          "histogram": [
           {
            "marker": {
             "pattern": {
              "fillmode": "overlay",
              "size": 10,
              "solidity": 0.2
             }
            },
            "type": "histogram"
           }
          ],
          "histogram2d": [
           {
            "colorbar": {
             "outlinewidth": 0,
             "ticks": ""
            },
            "colorscale": [
             [
              0,
              "#0d0887"
             ],
             [
              0.1111111111111111,
              "#46039f"
             ],
             [
              0.2222222222222222,
              "#7201a8"
             ],
             [
              0.3333333333333333,
              "#9c179e"
             ],
             [
              0.4444444444444444,
              "#bd3786"
             ],
             [
              0.5555555555555556,
              "#d8576b"
             ],
             [
              0.6666666666666666,
              "#ed7953"
             ],
             [
              0.7777777777777778,
              "#fb9f3a"
             ],
             [
              0.8888888888888888,
              "#fdca26"
             ],
             [
              1,
              "#f0f921"
             ]
            ],
            "type": "histogram2d"
           }
          ],
          "histogram2dcontour": [
           {
            "colorbar": {
             "outlinewidth": 0,
             "ticks": ""
            },
            "colorscale": [
             [
              0,
              "#0d0887"
             ],
             [
              0.1111111111111111,
              "#46039f"
             ],
             [
              0.2222222222222222,
              "#7201a8"
             ],
             [
              0.3333333333333333,
              "#9c179e"
             ],
             [
              0.4444444444444444,
              "#bd3786"
             ],
             [
              0.5555555555555556,
              "#d8576b"
             ],
             [
              0.6666666666666666,
              "#ed7953"
             ],
             [
              0.7777777777777778,
              "#fb9f3a"
             ],
             [
              0.8888888888888888,
              "#fdca26"
             ],
             [
              1,
              "#f0f921"
             ]
            ],
            "type": "histogram2dcontour"
           }
          ],
          "mesh3d": [
           {
            "colorbar": {
             "outlinewidth": 0,
             "ticks": ""
            },
            "type": "mesh3d"
           }
          ],
          "parcoords": [
           {
            "line": {
             "colorbar": {
              "outlinewidth": 0,
              "ticks": ""
             }
            },
            "type": "parcoords"
           }
          ],
          "pie": [
           {
            "automargin": true,
            "type": "pie"
           }
          ],
          "scatter": [
           {
            "fillpattern": {
             "fillmode": "overlay",
             "size": 10,
             "solidity": 0.2
            },
            "type": "scatter"
           }
          ],
          "scatter3d": [
           {
            "line": {
             "colorbar": {
              "outlinewidth": 0,
              "ticks": ""
             }
            },
            "marker": {
             "colorbar": {
              "outlinewidth": 0,
              "ticks": ""
             }
            },
            "type": "scatter3d"
           }
          ],
          "scattercarpet": [
           {
            "marker": {
             "colorbar": {
              "outlinewidth": 0,
              "ticks": ""
             }
            },
            "type": "scattercarpet"
           }
          ],
          "scattergeo": [
           {
            "marker": {
             "colorbar": {
              "outlinewidth": 0,
              "ticks": ""
             }
            },
            "type": "scattergeo"
           }
          ],
          "scattergl": [
           {
            "marker": {
             "colorbar": {
              "outlinewidth": 0,
              "ticks": ""
             }
            },
            "type": "scattergl"
           }
          ],
          "scattermapbox": [
           {
            "marker": {
             "colorbar": {
              "outlinewidth": 0,
              "ticks": ""
             }
            },
            "type": "scattermapbox"
           }
          ],
          "scatterpolar": [
           {
            "marker": {
             "colorbar": {
              "outlinewidth": 0,
              "ticks": ""
             }
            },
            "type": "scatterpolar"
           }
          ],
          "scatterpolargl": [
           {
            "marker": {
             "colorbar": {
              "outlinewidth": 0,
              "ticks": ""
             }
            },
            "type": "scatterpolargl"
           }
          ],
          "scatterternary": [
           {
            "marker": {
             "colorbar": {
              "outlinewidth": 0,
              "ticks": ""
             }
            },
            "type": "scatterternary"
           }
          ],
          "surface": [
           {
            "colorbar": {
             "outlinewidth": 0,
             "ticks": ""
            },
            "colorscale": [
             [
              0,
              "#0d0887"
             ],
             [
              0.1111111111111111,
              "#46039f"
             ],
             [
              0.2222222222222222,
              "#7201a8"
             ],
             [
              0.3333333333333333,
              "#9c179e"
             ],
             [
              0.4444444444444444,
              "#bd3786"
             ],
             [
              0.5555555555555556,
              "#d8576b"
             ],
             [
              0.6666666666666666,
              "#ed7953"
             ],
             [
              0.7777777777777778,
              "#fb9f3a"
             ],
             [
              0.8888888888888888,
              "#fdca26"
             ],
             [
              1,
              "#f0f921"
             ]
            ],
            "type": "surface"
           }
          ],
          "table": [
           {
            "cells": {
             "fill": {
              "color": "#EBF0F8"
             },
             "line": {
              "color": "white"
             }
            },
            "header": {
             "fill": {
              "color": "#C8D4E3"
             },
             "line": {
              "color": "white"
             }
            },
            "type": "table"
           }
          ]
         },
         "layout": {
          "annotationdefaults": {
           "arrowcolor": "#2a3f5f",
           "arrowhead": 0,
           "arrowwidth": 1
          },
          "autotypenumbers": "strict",
          "coloraxis": {
           "colorbar": {
            "outlinewidth": 0,
            "ticks": ""
           }
          },
          "colorscale": {
           "diverging": [
            [
             0,
             "#8e0152"
            ],
            [
             0.1,
             "#c51b7d"
            ],
            [
             0.2,
             "#de77ae"
            ],
            [
             0.3,
             "#f1b6da"
            ],
            [
             0.4,
             "#fde0ef"
            ],
            [
             0.5,
             "#f7f7f7"
            ],
            [
             0.6,
             "#e6f5d0"
            ],
            [
             0.7,
             "#b8e186"
            ],
            [
             0.8,
             "#7fbc41"
            ],
            [
             0.9,
             "#4d9221"
            ],
            [
             1,
             "#276419"
            ]
           ],
           "sequential": [
            [
             0,
             "#0d0887"
            ],
            [
             0.1111111111111111,
             "#46039f"
            ],
            [
             0.2222222222222222,
             "#7201a8"
            ],
            [
             0.3333333333333333,
             "#9c179e"
            ],
            [
             0.4444444444444444,
             "#bd3786"
            ],
            [
             0.5555555555555556,
             "#d8576b"
            ],
            [
             0.6666666666666666,
             "#ed7953"
            ],
            [
             0.7777777777777778,
             "#fb9f3a"
            ],
            [
             0.8888888888888888,
             "#fdca26"
            ],
            [
             1,
             "#f0f921"
            ]
           ],
           "sequentialminus": [
            [
             0,
             "#0d0887"
            ],
            [
             0.1111111111111111,
             "#46039f"
            ],
            [
             0.2222222222222222,
             "#7201a8"
            ],
            [
             0.3333333333333333,
             "#9c179e"
            ],
            [
             0.4444444444444444,
             "#bd3786"
            ],
            [
             0.5555555555555556,
             "#d8576b"
            ],
            [
             0.6666666666666666,
             "#ed7953"
            ],
            [
             0.7777777777777778,
             "#fb9f3a"
            ],
            [
             0.8888888888888888,
             "#fdca26"
            ],
            [
             1,
             "#f0f921"
            ]
           ]
          },
          "colorway": [
           "#636efa",
           "#EF553B",
           "#00cc96",
           "#ab63fa",
           "#FFA15A",
           "#19d3f3",
           "#FF6692",
           "#B6E880",
           "#FF97FF",
           "#FECB52"
          ],
          "font": {
           "color": "#2a3f5f"
          },
          "geo": {
           "bgcolor": "white",
           "lakecolor": "white",
           "landcolor": "white",
           "showlakes": true,
           "showland": true,
           "subunitcolor": "#C8D4E3"
          },
          "hoverlabel": {
           "align": "left"
          },
          "hovermode": "closest",
          "mapbox": {
           "style": "light"
          },
          "paper_bgcolor": "white",
          "plot_bgcolor": "white",
          "polar": {
           "angularaxis": {
            "gridcolor": "#EBF0F8",
            "linecolor": "#EBF0F8",
            "ticks": ""
           },
           "bgcolor": "white",
           "radialaxis": {
            "gridcolor": "#EBF0F8",
            "linecolor": "#EBF0F8",
            "ticks": ""
           }
          },
          "scene": {
           "xaxis": {
            "backgroundcolor": "white",
            "gridcolor": "#DFE8F3",
            "gridwidth": 2,
            "linecolor": "#EBF0F8",
            "showbackground": true,
            "ticks": "",
            "zerolinecolor": "#EBF0F8"
           },
           "yaxis": {
            "backgroundcolor": "white",
            "gridcolor": "#DFE8F3",
            "gridwidth": 2,
            "linecolor": "#EBF0F8",
            "showbackground": true,
            "ticks": "",
            "zerolinecolor": "#EBF0F8"
           },
           "zaxis": {
            "backgroundcolor": "white",
            "gridcolor": "#DFE8F3",
            "gridwidth": 2,
            "linecolor": "#EBF0F8",
            "showbackground": true,
            "ticks": "",
            "zerolinecolor": "#EBF0F8"
           }
          },
          "shapedefaults": {
           "line": {
            "color": "#2a3f5f"
           }
          },
          "ternary": {
           "aaxis": {
            "gridcolor": "#DFE8F3",
            "linecolor": "#A2B1C6",
            "ticks": ""
           },
           "baxis": {
            "gridcolor": "#DFE8F3",
            "linecolor": "#A2B1C6",
            "ticks": ""
           },
           "bgcolor": "white",
           "caxis": {
            "gridcolor": "#DFE8F3",
            "linecolor": "#A2B1C6",
            "ticks": ""
           }
          },
          "title": {
           "x": 0.05
          },
          "xaxis": {
           "automargin": true,
           "gridcolor": "#EBF0F8",
           "linecolor": "#EBF0F8",
           "ticks": "",
           "title": {
            "standoff": 15
           },
           "zerolinecolor": "#EBF0F8",
           "zerolinewidth": 2
          },
          "yaxis": {
           "automargin": true,
           "gridcolor": "#EBF0F8",
           "linecolor": "#EBF0F8",
           "ticks": "",
           "title": {
            "standoff": 15
           },
           "zerolinecolor": "#EBF0F8",
           "zerolinewidth": 2
          }
         }
        },
        "title": {
         "font": {
          "color": "Black",
          "size": 22
         },
         "text": "Topic Word Scores",
         "x": 0.5,
         "xanchor": "center",
         "yanchor": "top"
        },
        "width": 1000,
        "xaxis": {
         "anchor": "y",
         "domain": [
          0,
          0.175
         ],
         "showgrid": true
        },
        "xaxis2": {
         "anchor": "y2",
         "domain": [
          0.275,
          0.45
         ],
         "showgrid": true
        },
        "xaxis3": {
         "anchor": "y3",
         "domain": [
          0.55,
          0.7250000000000001
         ],
         "showgrid": true
        },
        "xaxis4": {
         "anchor": "y4",
         "domain": [
          0.825,
          1
         ],
         "showgrid": true
        },
        "xaxis5": {
         "anchor": "y5",
         "domain": [
          0,
          0.175
         ],
         "showgrid": true
        },
        "xaxis6": {
         "anchor": "y6",
         "domain": [
          0.275,
          0.45
         ],
         "showgrid": true
        },
        "xaxis7": {
         "anchor": "y7",
         "domain": [
          0.55,
          0.7250000000000001
         ],
         "showgrid": true
        },
        "xaxis8": {
         "anchor": "y8",
         "domain": [
          0.825,
          1
         ],
         "showgrid": true
        },
        "yaxis": {
         "anchor": "x",
         "domain": [
          0.6000000000000001,
          1
         ],
         "showgrid": true
        },
        "yaxis2": {
         "anchor": "x2",
         "domain": [
          0.6000000000000001,
          1
         ],
         "showgrid": true
        },
        "yaxis3": {
         "anchor": "x3",
         "domain": [
          0.6000000000000001,
          1
         ],
         "showgrid": true
        },
        "yaxis4": {
         "anchor": "x4",
         "domain": [
          0.6000000000000001,
          1
         ],
         "showgrid": true
        },
        "yaxis5": {
         "anchor": "x5",
         "domain": [
          0,
          0.4
         ],
         "showgrid": true
        },
        "yaxis6": {
         "anchor": "x6",
         "domain": [
          0,
          0.4
         ],
         "showgrid": true
        },
        "yaxis7": {
         "anchor": "x7",
         "domain": [
          0,
          0.4
         ],
         "showgrid": true
        },
        "yaxis8": {
         "anchor": "x8",
         "domain": [
          0,
          0.4
         ],
         "showgrid": true
        }
       }
      }
     },
     "metadata": {},
     "output_type": "display_data"
    }
   ],
   "source": [
    "from bertopic import BERTopic\n",
    "from sentence_transformers import SentenceTransformer\n",
    "\n",
    "# Load the sample data (ensure to have 1000 non-null headlines)\n",
    "sample_data = text_data['headlineClean'].dropna().sample(n=1000, random_state=42).tolist()\n",
    "\n",
    "# Initialize embedding model\n",
    "embedding_model = SentenceTransformer('all-MiniLM-L6-v2')\n",
    "\n",
    "# Initialize and fit BERTopic model\n",
    "topic_model = BERTopic(embedding_model=embedding_model, min_topic_size=10)\n",
    "topics, probs = topic_model.fit_transform(sample_data)\n",
    "\n",
    "# Check topic information and ensure topics are created\n",
    "topic_info = topic_model.get_topic_info()\n",
    "print(f\"Topic Information:\\n{topic_info}\")\n",
    "\n",
    "# If topics exist, try visualizing\n",
    "if len(topic_info) > 0:\n",
    "    try:\n",
    "        # Visualizing topic clusters\n",
    "        fig_topics = topic_model.visualize_topics()\n",
    "        fig_topics.show()\n",
    "\n",
    "        # Visualizing the frequency of topics in a bar chart\n",
    "        fig_barchart = topic_model.visualize_barchart()\n",
    "        fig_barchart.show()\n",
    "    except Exception as e:\n",
    "        print(f\"Error during visualization: {e}\")\n",
    "else:\n",
    "    print(\"No topics were generated. Skipping visualizations.\")\n"
   ]
  },
  {
   "cell_type": "code",
   "execution_count": 12,
   "metadata": {},
   "outputs": [
    {
     "name": "stdout",
     "output_type": "stream",
     "text": [
      "8  total email \n",
      "publisher_domain\n",
      "benzinga.com              7937\n",
      "gmail.com                  139\n",
      "andyswan.com                 5\n",
      "investdiva.com               2\n",
      "tothetick.com                2\n",
      "eosdetroit.io                1\n",
      "forextraininggroup.com       1\n",
      "stockmetrix.net              1\n",
      "Name: count, dtype: int64\n"
     ]
    },
    {
     "data": {
      "image/png": "[encoded data removed]",
      "text/plain": [
       "<Figure size 1000x600 with 1 Axes>"
      ]
     },
     "metadata": {},
     "output_type": "display_data"
    }
   ],
   "source": [
    "# Extract domains from email addresses\n",
    "text_data['publisher_domain'] = text_data['publisher'].apply(lambda x: x.split('@')[-1] if '@' in str(x) else None)\n",
    "\n",
    "# Count unique domains\n",
    "domain_counts = text_data['publisher_domain'].value_counts()\n",
    "\n",
    "print(len(domain_counts) , \" total email \")\n",
    "\n",
    "# Show top domains contributing to the feed\n",
    "print(domain_counts.head(10))\n",
    "\n",
    "# Visualize top domains\n",
    "plt.figure(figsize=(10, 6))\n",
    "domain_counts.head(10).plot(kind='bar', color='lightgreen')\n",
    "plt.title(\"Top 10 Email Domains Contributing to the News Feed\")\n",
    "plt.xlabel(\"Domain\")\n",
    "plt.ylabel(\"Count of Articles\")\n",
    "plt.xticks(rotation=45, ha=\"right\")\n",
    "plt.show()\n"
   ]
  },
  {
   "cell_type": "code",
   "execution_count": 22,
   "metadata": {},
   "outputs": [
    {
     "name": "stdout",
     "output_type": "stream",
     "text": [
      "Identified Topics:\n",
      "Topic 1: trading, stock, notable, disclosed, outlook, today, research, lower, technology, common\n",
      "Topic 2: earnings, market, buy, update, higher, company, coverage, trading, yoy, morning\n",
      "Topic 3: revenue, estimate, share, year, neutral, corporation, update, dividend, following, beat\n",
      "Topic 4: price, target, update, morgan, outperform, bank, biggest, option, hold, alert\n",
      "Topic 5: stock, week, session, moving, new, hit, set, industry, high, midday\n"
     ]
    },
    {
     "data": {
      "image/png": "[encoded data removed]",
      "text/plain": [
       "<Figure size 800x600 with 1 Axes>"
      ]
     },
     "metadata": {},
     "output_type": "display_data"
    },
    {
     "name": "stdout",
     "output_type": "stream",
     "text": [
      "Results saved to 'headline_topics.csv'\n"
     ]
    }
   ],
   "source": [
    "import pandas as pd\n",
    "import numpy as np\n",
    "from sklearn.feature_extraction.text import CountVectorizer\n",
    "from sklearn.decomposition import LatentDirichletAllocation\n",
    "import matplotlib.pyplot as plt\n",
    "\n",
    "# Sample data: Replace this with your actual dataset\n",
    "np.random.seed(42)\n",
    "\n",
    "\n",
    "# Step 1: Randomly sample 1000 rows\n",
    "text_data_sampled = text_data.sample(n=1000, random_state=42)\n",
    "\n",
    "# Step 2: Preprocess the 'headlineClean' Column\n",
    "text_data_sampled['headlineClean'] = text_data_sampled['headlineClean'].str.lower().str.strip()\n",
    "\n",
    "# Step 3: Vectorize the Publisher Names\n",
    "vectorizer = CountVectorizer(stop_words='english', max_features=1000)\n",
    "publisher_matrix = vectorizer.fit_transform(text_data_sampled['headlineClean'])\n",
    "\n",
    "# Step 4: Apply Topic Modeling\n",
    "lda_model = LatentDirichletAllocation(n_components=5, random_state=42)  # Adjust number of topics\n",
    "lda_model.fit(publisher_matrix)\n",
    "\n",
    "# Step 5: Extract topics\n",
    "terms = vectorizer.get_feature_names_out()\n",
    "topics = []\n",
    "for topic_idx, topic in enumerate(lda_model.components_):\n",
    "    top_terms = [terms[i] for i in topic.argsort()[:-11:-1]]  # Top 10 terms per topic\n",
    "    topics.append(top_terms)\n",
    "\n",
    "# Print identified topics\n",
    "print(\"Identified Topics:\")\n",
    "for i, topic in enumerate(topics):\n",
    "    print(f\"Topic {i+1}: {', '.join(topic)}\")\n",
    "\n",
    "# Step 6: Assign Topics to Headlines\n",
    "publisher_topic_distribution = lda_model.transform(publisher_matrix)\n",
    "text_data_sampled['dominant_topic'] = publisher_topic_distribution.argmax(axis=1)\n",
    "\n",
    "# Step 7: Visualize Topic Distribution\n",
    "topic_counts = text_data_sampled['dominant_topic'].value_counts()\n",
    "\n",
    "plt.figure(figsize=(8, 6))\n",
    "topic_counts.plot(kind='bar', color='coral')\n",
    "plt.title(\"Distribution of Topics in Headlines\")\n",
    "plt.xlabel(\"Topic\")\n",
    "plt.ylabel(\"Number of Headlines\")\n",
    "plt.xticks(rotation=0)\n",
    "plt.show()\n",
    "\n",
    "# Step 8: Save results (optional)\n",
    "text_data_sampled[['headlineClean', 'dominant_topic']].to_csv('headline_topics.csv', index=False)\n",
    "print(\"Results saved to 'headline_topics.csv'\")\n"
   ]
  },
  {
   "cell_type": "markdown",
   "metadata": {},
   "source": [
    "Get APPLE companies stock dataset"
   ]
  },
  {
   "cell_type": "code",
   "execution_count": 21,
   "metadata": {},
   "outputs": [
    {
     "data": {
      "text/html": [
       "<div>\n",
       "<style scoped>\n",
       "    .dataframe tbody tr th:only-of-type {\n",
       "        vertical-align: middle;\n",
       "    }\n",
       "\n",
       "    .dataframe tbody tr th {\n",
       "        vertical-align: top;\n",
       "    }\n",
       "\n",
       "    .dataframe thead th {\n",
       "        text-align: right;\n",
       "    }\n",
       "</style>\n",
       "<table border=\"1\" class=\"dataframe\">\n",
       "  <thead>\n",
       "    <tr style=\"text-align: right;\">\n",
       "      <th></th>\n",
       "      <th>Open</th>\n",
       "      <th>High</th>\n",
       "      <th>Low</th>\n",
       "      <th>Close</th>\n",
       "      <th>Adj Close</th>\n",
       "      <th>Volume</th>\n",
       "    </tr>\n",
       "    <tr>\n",
       "      <th>Date</th>\n",
       "      <th></th>\n",
       "      <th></th>\n",
       "      <th></th>\n",
       "      <th></th>\n",
       "      <th></th>\n",
       "      <th></th>\n",
       "    </tr>\n",
       "  </thead>\n",
       "  <tbody>\n",
       "    <tr>\n",
       "      <th>1980-12-12</th>\n",
       "      <td>0.128348</td>\n",
       "      <td>0.128906</td>\n",
       "      <td>0.128348</td>\n",
       "      <td>0.128348</td>\n",
       "      <td>0.098943</td>\n",
       "      <td>469033600</td>\n",
       "    </tr>\n",
       "    <tr>\n",
       "      <th>1980-12-15</th>\n",
       "      <td>0.122210</td>\n",
       "      <td>0.122210</td>\n",
       "      <td>0.121652</td>\n",
       "      <td>0.121652</td>\n",
       "      <td>0.093781</td>\n",
       "      <td>175884800</td>\n",
       "    </tr>\n",
       "    <tr>\n",
       "      <th>1980-12-16</th>\n",
       "      <td>0.113281</td>\n",
       "      <td>0.113281</td>\n",
       "      <td>0.112723</td>\n",
       "      <td>0.112723</td>\n",
       "      <td>0.086898</td>\n",
       "      <td>105728000</td>\n",
       "    </tr>\n",
       "    <tr>\n",
       "      <th>1980-12-17</th>\n",
       "      <td>0.115513</td>\n",
       "      <td>0.116071</td>\n",
       "      <td>0.115513</td>\n",
       "      <td>0.115513</td>\n",
       "      <td>0.089049</td>\n",
       "      <td>86441600</td>\n",
       "    </tr>\n",
       "    <tr>\n",
       "      <th>1980-12-18</th>\n",
       "      <td>0.118862</td>\n",
       "      <td>0.119420</td>\n",
       "      <td>0.118862</td>\n",
       "      <td>0.118862</td>\n",
       "      <td>0.091630</td>\n",
       "      <td>73449600</td>\n",
       "    </tr>\n",
       "  </tbody>\n",
       "</table>\n",
       "</div>"
      ],
      "text/plain": [
       "                Open      High       Low     Close  Adj Close     Volume\n",
       "Date                                                                    \n",
       "1980-12-12  0.128348  0.128906  0.128348  0.128348   0.098943  469033600\n",
       "1980-12-15  0.122210  0.122210  0.121652  0.121652   0.093781  175884800\n",
       "1980-12-16  0.113281  0.113281  0.112723  0.112723   0.086898  105728000\n",
       "1980-12-17  0.115513  0.116071  0.115513  0.115513   0.089049   86441600\n",
       "1980-12-18  0.118862  0.119420  0.118862  0.118862   0.091630   73449600"
      ]
     },
     "execution_count": 21,
     "metadata": {},
     "output_type": "execute_result"
    }
   ],
   "source": [
    "# Access the AAPL dataset\n",
    "aapl_df = processed_data[\"AAPL\"]\n",
    "\n",
    "# Display the first 5 rows of the AAPL dataset\n",
    "aapl_df.head()"
   ]
  },
  {
   "cell_type": "code",
   "execution_count": 22,
   "metadata": {},
   "outputs": [
    {
     "name": "stdout",
     "output_type": "stream",
     "text": [
      "<class 'pandas.core.frame.DataFrame'>\n",
      "DatetimeIndex: 10998 entries, 1980-12-12 to 2024-07-30\n",
      "Data columns (total 6 columns):\n",
      " #   Column     Non-Null Count  Dtype  \n",
      "---  ------     --------------  -----  \n",
      " 0   Open       10998 non-null  float64\n",
      " 1   High       10998 non-null  float64\n",
      " 2   Low        10998 non-null  float64\n",
      " 3   Close      10998 non-null  float64\n",
      " 4   Adj Close  10998 non-null  float64\n",
      " 5   Volume     10998 non-null  int64  \n",
      "dtypes: float64(5), int64(1)\n",
      "memory usage: 601.5 KB\n"
     ]
    }
   ],
   "source": [
    "aapl_df.info()"
   ]
  },
  {
   "cell_type": "code",
   "execution_count": 24,
   "metadata": {},
   "outputs": [],
   "source": [
    "aapl_df['Date'] = pd.to_datetime(aapl_df['Date'], errors='coerce')\n",
    "\n",
    "# Set 'Date' as the index\n",
    "aapl_df.set_index('Date', inplace=True)"
   ]
  },
  {
   "cell_type": "code",
   "execution_count": 25,
   "metadata": {},
   "outputs": [
    {
     "data": {
      "text/html": [
       "<div>\n",
       "<style scoped>\n",
       "    .dataframe tbody tr th:only-of-type {\n",
       "        vertical-align: middle;\n",
       "    }\n",
       "\n",
       "    .dataframe tbody tr th {\n",
       "        vertical-align: top;\n",
       "    }\n",
       "\n",
       "    .dataframe thead th {\n",
       "        text-align: right;\n",
       "    }\n",
       "</style>\n",
       "<table border=\"1\" class=\"dataframe\">\n",
       "  <thead>\n",
       "    <tr style=\"text-align: right;\">\n",
       "      <th></th>\n",
       "      <th>Open</th>\n",
       "      <th>High</th>\n",
       "      <th>Low</th>\n",
       "      <th>Close</th>\n",
       "      <th>Adj Close</th>\n",
       "      <th>Volume</th>\n",
       "    </tr>\n",
       "    <tr>\n",
       "      <th>Date</th>\n",
       "      <th></th>\n",
       "      <th></th>\n",
       "      <th></th>\n",
       "      <th></th>\n",
       "      <th></th>\n",
       "      <th></th>\n",
       "    </tr>\n",
       "  </thead>\n",
       "  <tbody>\n",
       "    <tr>\n",
       "      <th>1980-12-12</th>\n",
       "      <td>0.128348</td>\n",
       "      <td>0.128906</td>\n",
       "      <td>0.128348</td>\n",
       "      <td>0.128348</td>\n",
       "      <td>0.098943</td>\n",
       "      <td>469033600</td>\n",
       "    </tr>\n",
       "    <tr>\n",
       "      <th>1980-12-15</th>\n",
       "      <td>0.122210</td>\n",
       "      <td>0.122210</td>\n",
       "      <td>0.121652</td>\n",
       "      <td>0.121652</td>\n",
       "      <td>0.093781</td>\n",
       "      <td>175884800</td>\n",
       "    </tr>\n",
       "    <tr>\n",
       "      <th>1980-12-16</th>\n",
       "      <td>0.113281</td>\n",
       "      <td>0.113281</td>\n",
       "      <td>0.112723</td>\n",
       "      <td>0.112723</td>\n",
       "      <td>0.086898</td>\n",
       "      <td>105728000</td>\n",
       "    </tr>\n",
       "    <tr>\n",
       "      <th>1980-12-17</th>\n",
       "      <td>0.115513</td>\n",
       "      <td>0.116071</td>\n",
       "      <td>0.115513</td>\n",
       "      <td>0.115513</td>\n",
       "      <td>0.089049</td>\n",
       "      <td>86441600</td>\n",
       "    </tr>\n",
       "    <tr>\n",
       "      <th>1980-12-18</th>\n",
       "      <td>0.118862</td>\n",
       "      <td>0.119420</td>\n",
       "      <td>0.118862</td>\n",
       "      <td>0.118862</td>\n",
       "      <td>0.091630</td>\n",
       "      <td>73449600</td>\n",
       "    </tr>\n",
       "  </tbody>\n",
       "</table>\n",
       "</div>"
      ],
      "text/plain": [
       "                Open      High       Low     Close  Adj Close     Volume\n",
       "Date                                                                    \n",
       "1980-12-12  0.128348  0.128906  0.128348  0.128348   0.098943  469033600\n",
       "1980-12-15  0.122210  0.122210  0.121652  0.121652   0.093781  175884800\n",
       "1980-12-16  0.113281  0.113281  0.112723  0.112723   0.086898  105728000\n",
       "1980-12-17  0.115513  0.116071  0.115513  0.115513   0.089049   86441600\n",
       "1980-12-18  0.118862  0.119420  0.118862  0.118862   0.091630   73449600"
      ]
     },
     "execution_count": 25,
     "metadata": {},
     "output_type": "execute_result"
    }
   ],
   "source": [
    "aapl_df.head()"
   ]
  },
  {
   "cell_type": "code",
   "execution_count": 27,
   "metadata": {},
   "outputs": [],
   "source": [
    "# Ensure 'Date' column is in datetime format\n",
    "text_data['Date'] = pd.to_datetime(text_data['Date'], errors='coerce')\n",
    "\n",
    "# Set 'Date' as the index\n",
    "text_data.set_index('Date', inplace=True)"
   ]
  },
  {
   "cell_type": "code",
   "execution_count": 32,
   "metadata": {},
   "outputs": [],
   "source": [
    "text_data.drop(columns=['extracted_date', 'valid_date', 'date'], inplace=True)"
   ]
  },
  {
   "cell_type": "code",
   "execution_count": 15,
   "metadata": {},
   "outputs": [
    {
     "data": {
      "text/html": [
       "<div>\n",
       "<style scoped>\n",
       "    .dataframe tbody tr th:only-of-type {\n",
       "        vertical-align: middle;\n",
       "    }\n",
       "\n",
       "    .dataframe tbody tr th {\n",
       "        vertical-align: top;\n",
       "    }\n",
       "\n",
       "    .dataframe thead th {\n",
       "        text-align: right;\n",
       "    }\n",
       "</style>\n",
       "<table border=\"1\" class=\"dataframe\">\n",
       "  <thead>\n",
       "    <tr style=\"text-align: right;\">\n",
       "      <th></th>\n",
       "      <th>headline</th>\n",
       "      <th>headlineClean</th>\n",
       "    </tr>\n",
       "  </thead>\n",
       "  <tbody>\n",
       "    <tr>\n",
       "      <th>0</th>\n",
       "      <td>Stocks That Hit 52-Week Highs On Friday</td>\n",
       "      <td>stock hit week</td>\n",
       "    </tr>\n",
       "    <tr>\n",
       "      <th>1</th>\n",
       "      <td>Stocks That Hit 52-Week Highs On Wednesday</td>\n",
       "      <td>stock hit week</td>\n",
       "    </tr>\n",
       "    <tr>\n",
       "      <th>2</th>\n",
       "      <td>71 Biggest Movers From Friday</td>\n",
       "      <td>biggest</td>\n",
       "    </tr>\n",
       "    <tr>\n",
       "      <th>3</th>\n",
       "      <td>46 Stocks Moving In Friday's Mid-Day Session</td>\n",
       "      <td>stock moving midday session</td>\n",
       "    </tr>\n",
       "    <tr>\n",
       "      <th>4</th>\n",
       "      <td>B of A Securities Maintains Neutral on Agilent...</td>\n",
       "      <td>neutral price target</td>\n",
       "    </tr>\n",
       "    <tr>\n",
       "      <th>...</th>\n",
       "      <td>...</td>\n",
       "      <td>...</td>\n",
       "    </tr>\n",
       "    <tr>\n",
       "      <th>1407323</th>\n",
       "      <td>Top Narrow Based Indexes For August 29</td>\n",
       "      <td>top narrow based august</td>\n",
       "    </tr>\n",
       "    <tr>\n",
       "      <th>1407324</th>\n",
       "      <td>Recap: Wednesday's Top Percentage Gainers and ...</td>\n",
       "      <td>recap top percentage</td>\n",
       "    </tr>\n",
       "    <tr>\n",
       "      <th>1407325</th>\n",
       "      <td>UPDATE: Oppenheimer Color on China Zenix Auto ...</td>\n",
       "      <td>update color china auto initiation</td>\n",
       "    </tr>\n",
       "    <tr>\n",
       "      <th>1407326</th>\n",
       "      <td>Oppenheimer Initiates China Zenix At Outperfor...</td>\n",
       "      <td>china outperform</td>\n",
       "    </tr>\n",
       "    <tr>\n",
       "      <th>1407327</th>\n",
       "      <td>China Zenix Auto International Opens For Tradi...</td>\n",
       "      <td>china auto international trading price set</td>\n",
       "    </tr>\n",
       "  </tbody>\n",
       "</table>\n",
       "<p>1407328 rows × 2 columns</p>\n",
       "</div>"
      ],
      "text/plain": [
       "                                                  headline  \\\n",
       "0                  Stocks That Hit 52-Week Highs On Friday   \n",
       "1               Stocks That Hit 52-Week Highs On Wednesday   \n",
       "2                            71 Biggest Movers From Friday   \n",
       "3             46 Stocks Moving In Friday's Mid-Day Session   \n",
       "4        B of A Securities Maintains Neutral on Agilent...   \n",
       "...                                                    ...   \n",
       "1407323             Top Narrow Based Indexes For August 29   \n",
       "1407324  Recap: Wednesday's Top Percentage Gainers and ...   \n",
       "1407325  UPDATE: Oppenheimer Color on China Zenix Auto ...   \n",
       "1407326  Oppenheimer Initiates China Zenix At Outperfor...   \n",
       "1407327  China Zenix Auto International Opens For Tradi...   \n",
       "\n",
       "                                      headlineClean  \n",
       "0                                    stock hit week  \n",
       "1                                    stock hit week  \n",
       "2                                           biggest  \n",
       "3                       stock moving midday session  \n",
       "4                              neutral price target  \n",
       "...                                             ...  \n",
       "1407323                     top narrow based august  \n",
       "1407324                        recap top percentage  \n",
       "1407325          update color china auto initiation  \n",
       "1407326                            china outperform  \n",
       "1407327  china auto international trading price set  \n",
       "\n",
       "[1407328 rows x 2 columns]"
      ]
     },
     "execution_count": 15,
     "metadata": {},
     "output_type": "execute_result"
    }
   ],
   "source": [
    "text_data['headlineClean'] = text_data['headline'].apply(clean_text)\n",
    "\n",
    "text_data[['headline', 'headlineClean']]"
   ]
  },
  {
   "cell_type": "code",
   "execution_count": 37,
   "metadata": {},
   "outputs": [
    {
     "data": {
      "text/html": [
       "<div>\n",
       "<style scoped>\n",
       "    .dataframe tbody tr th:only-of-type {\n",
       "        vertical-align: middle;\n",
       "    }\n",
       "\n",
       "    .dataframe tbody tr th {\n",
       "        vertical-align: top;\n",
       "    }\n",
       "\n",
       "    .dataframe thead th {\n",
       "        text-align: right;\n",
       "    }\n",
       "</style>\n",
       "<table border=\"1\" class=\"dataframe\">\n",
       "  <thead>\n",
       "    <tr style=\"text-align: right;\">\n",
       "      <th></th>\n",
       "      <th>headline</th>\n",
       "      <th>url</th>\n",
       "      <th>publisher</th>\n",
       "      <th>stock</th>\n",
       "      <th>headlineClean</th>\n",
       "    </tr>\n",
       "    <tr>\n",
       "      <th>Date</th>\n",
       "      <th></th>\n",
       "      <th></th>\n",
       "      <th></th>\n",
       "      <th></th>\n",
       "      <th></th>\n",
       "    </tr>\n",
       "  </thead>\n",
       "  <tbody>\n",
       "    <tr>\n",
       "      <th>2020-06-05</th>\n",
       "      <td>Stocks That Hit 52-Week Highs On Friday</td>\n",
       "      <td>https://www.benzinga.com/news/20/06/16190091/s...</td>\n",
       "      <td>Benzinga Insights</td>\n",
       "      <td>A</td>\n",
       "      <td>stock hit week</td>\n",
       "    </tr>\n",
       "    <tr>\n",
       "      <th>2020-06-03</th>\n",
       "      <td>Stocks That Hit 52-Week Highs On Wednesday</td>\n",
       "      <td>https://www.benzinga.com/news/20/06/16170189/s...</td>\n",
       "      <td>Benzinga Insights</td>\n",
       "      <td>A</td>\n",
       "      <td>stock hit week</td>\n",
       "    </tr>\n",
       "    <tr>\n",
       "      <th>2020-05-26</th>\n",
       "      <td>71 Biggest Movers From Friday</td>\n",
       "      <td>https://www.benzinga.com/news/20/05/16103463/7...</td>\n",
       "      <td>Lisa Levin</td>\n",
       "      <td>A</td>\n",
       "      <td>biggest</td>\n",
       "    </tr>\n",
       "    <tr>\n",
       "      <th>2020-05-22</th>\n",
       "      <td>46 Stocks Moving In Friday's Mid-Day Session</td>\n",
       "      <td>https://www.benzinga.com/news/20/05/16095921/4...</td>\n",
       "      <td>Lisa Levin</td>\n",
       "      <td>A</td>\n",
       "      <td>stock moving midday session</td>\n",
       "    </tr>\n",
       "    <tr>\n",
       "      <th>2020-05-22</th>\n",
       "      <td>B of A Securities Maintains Neutral on Agilent...</td>\n",
       "      <td>https://www.benzinga.com/news/20/05/16095304/b...</td>\n",
       "      <td>Vick Meyer</td>\n",
       "      <td>A</td>\n",
       "      <td>neutral price target</td>\n",
       "    </tr>\n",
       "  </tbody>\n",
       "</table>\n",
       "</div>"
      ],
      "text/plain": [
       "                                                     headline  \\\n",
       "Date                                                            \n",
       "2020-06-05            Stocks That Hit 52-Week Highs On Friday   \n",
       "2020-06-03         Stocks That Hit 52-Week Highs On Wednesday   \n",
       "2020-05-26                      71 Biggest Movers From Friday   \n",
       "2020-05-22       46 Stocks Moving In Friday's Mid-Day Session   \n",
       "2020-05-22  B of A Securities Maintains Neutral on Agilent...   \n",
       "\n",
       "                                                          url  \\\n",
       "Date                                                            \n",
       "2020-06-05  https://www.benzinga.com/news/20/06/16190091/s...   \n",
       "2020-06-03  https://www.benzinga.com/news/20/06/16170189/s...   \n",
       "2020-05-26  https://www.benzinga.com/news/20/05/16103463/7...   \n",
       "2020-05-22  https://www.benzinga.com/news/20/05/16095921/4...   \n",
       "2020-05-22  https://www.benzinga.com/news/20/05/16095304/b...   \n",
       "\n",
       "                    publisher stock                headlineClean  \n",
       "Date                                                              \n",
       "2020-06-05  Benzinga Insights     A               stock hit week  \n",
       "2020-06-03  Benzinga Insights     A               stock hit week  \n",
       "2020-05-26         Lisa Levin     A                      biggest  \n",
       "2020-05-22         Lisa Levin     A  stock moving midday session  \n",
       "2020-05-22         Vick Meyer     A         neutral price target  "
      ]
     },
     "execution_count": 37,
     "metadata": {},
     "output_type": "execute_result"
    }
   ],
   "source": [
    "text_data.head()"
   ]
  },
  {
   "cell_type": "markdown",
   "metadata": {},
   "source": [
    "Merge AAPL with rating dataset"
   ]
  },
  {
   "cell_type": "code",
   "execution_count": 38,
   "metadata": {},
   "outputs": [],
   "source": [
    "aapl_merged_data = pd.merge(text_data, aapl_df, left_on='Date', right_index=True, how='inner')\n"
   ]
  },
  {
   "cell_type": "code",
   "execution_count": 39,
   "metadata": {},
   "outputs": [
    {
     "data": {
      "text/html": [
       "<div>\n",
       "<style scoped>\n",
       "    .dataframe tbody tr th:only-of-type {\n",
       "        vertical-align: middle;\n",
       "    }\n",
       "\n",
       "    .dataframe tbody tr th {\n",
       "        vertical-align: top;\n",
       "    }\n",
       "\n",
       "    .dataframe thead th {\n",
       "        text-align: right;\n",
       "    }\n",
       "</style>\n",
       "<table border=\"1\" class=\"dataframe\">\n",
       "  <thead>\n",
       "    <tr style=\"text-align: right;\">\n",
       "      <th></th>\n",
       "      <th>headline</th>\n",
       "      <th>url</th>\n",
       "      <th>publisher</th>\n",
       "      <th>stock</th>\n",
       "      <th>headlineClean</th>\n",
       "      <th>Open</th>\n",
       "      <th>High</th>\n",
       "      <th>Low</th>\n",
       "      <th>Close</th>\n",
       "      <th>Adj Close</th>\n",
       "      <th>Volume</th>\n",
       "    </tr>\n",
       "    <tr>\n",
       "      <th>Date</th>\n",
       "      <th></th>\n",
       "      <th></th>\n",
       "      <th></th>\n",
       "      <th></th>\n",
       "      <th></th>\n",
       "      <th></th>\n",
       "      <th></th>\n",
       "      <th></th>\n",
       "      <th></th>\n",
       "      <th></th>\n",
       "      <th></th>\n",
       "    </tr>\n",
       "  </thead>\n",
       "  <tbody>\n",
       "    <tr>\n",
       "      <th>2020-06-05</th>\n",
       "      <td>Stocks That Hit 52-Week Highs On Friday</td>\n",
       "      <td>https://www.benzinga.com/news/20/06/16190091/s...</td>\n",
       "      <td>Benzinga Insights</td>\n",
       "      <td>A</td>\n",
       "      <td>stock hit week</td>\n",
       "      <td>80.837502</td>\n",
       "      <td>82.937500</td>\n",
       "      <td>80.807503</td>\n",
       "      <td>82.875000</td>\n",
       "      <td>80.843407</td>\n",
       "      <td>137250400</td>\n",
       "    </tr>\n",
       "    <tr>\n",
       "      <th>2020-06-03</th>\n",
       "      <td>Stocks That Hit 52-Week Highs On Wednesday</td>\n",
       "      <td>https://www.benzinga.com/news/20/06/16170189/s...</td>\n",
       "      <td>Benzinga Insights</td>\n",
       "      <td>A</td>\n",
       "      <td>stock hit week</td>\n",
       "      <td>81.165001</td>\n",
       "      <td>81.550003</td>\n",
       "      <td>80.574997</td>\n",
       "      <td>81.279999</td>\n",
       "      <td>79.287506</td>\n",
       "      <td>104491200</td>\n",
       "    </tr>\n",
       "    <tr>\n",
       "      <th>2020-05-26</th>\n",
       "      <td>71 Biggest Movers From Friday</td>\n",
       "      <td>https://www.benzinga.com/news/20/05/16103463/7...</td>\n",
       "      <td>Lisa Levin</td>\n",
       "      <td>A</td>\n",
       "      <td>biggest</td>\n",
       "      <td>80.875000</td>\n",
       "      <td>81.059998</td>\n",
       "      <td>79.125000</td>\n",
       "      <td>79.182503</td>\n",
       "      <td>77.241432</td>\n",
       "      <td>125522000</td>\n",
       "    </tr>\n",
       "    <tr>\n",
       "      <th>2020-05-22</th>\n",
       "      <td>46 Stocks Moving In Friday's Mid-Day Session</td>\n",
       "      <td>https://www.benzinga.com/news/20/05/16095921/4...</td>\n",
       "      <td>Lisa Levin</td>\n",
       "      <td>A</td>\n",
       "      <td>stock moving midday session</td>\n",
       "      <td>78.942497</td>\n",
       "      <td>79.807503</td>\n",
       "      <td>78.837502</td>\n",
       "      <td>79.722504</td>\n",
       "      <td>77.768188</td>\n",
       "      <td>81803200</td>\n",
       "    </tr>\n",
       "    <tr>\n",
       "      <th>2020-05-22</th>\n",
       "      <td>B of A Securities Maintains Neutral on Agilent...</td>\n",
       "      <td>https://www.benzinga.com/news/20/05/16095304/b...</td>\n",
       "      <td>Vick Meyer</td>\n",
       "      <td>A</td>\n",
       "      <td>neutral price target</td>\n",
       "      <td>78.942497</td>\n",
       "      <td>79.807503</td>\n",
       "      <td>78.837502</td>\n",
       "      <td>79.722504</td>\n",
       "      <td>77.768188</td>\n",
       "      <td>81803200</td>\n",
       "    </tr>\n",
       "  </tbody>\n",
       "</table>\n",
       "</div>"
      ],
      "text/plain": [
       "                                                     headline  \\\n",
       "Date                                                            \n",
       "2020-06-05            Stocks That Hit 52-Week Highs On Friday   \n",
       "2020-06-03         Stocks That Hit 52-Week Highs On Wednesday   \n",
       "2020-05-26                      71 Biggest Movers From Friday   \n",
       "2020-05-22       46 Stocks Moving In Friday's Mid-Day Session   \n",
       "2020-05-22  B of A Securities Maintains Neutral on Agilent...   \n",
       "\n",
       "                                                          url  \\\n",
       "Date                                                            \n",
       "2020-06-05  https://www.benzinga.com/news/20/06/16190091/s...   \n",
       "2020-06-03  https://www.benzinga.com/news/20/06/16170189/s...   \n",
       "2020-05-26  https://www.benzinga.com/news/20/05/16103463/7...   \n",
       "2020-05-22  https://www.benzinga.com/news/20/05/16095921/4...   \n",
       "2020-05-22  https://www.benzinga.com/news/20/05/16095304/b...   \n",
       "\n",
       "                    publisher stock                headlineClean       Open  \\\n",
       "Date                                                                          \n",
       "2020-06-05  Benzinga Insights     A               stock hit week  80.837502   \n",
       "2020-06-03  Benzinga Insights     A               stock hit week  81.165001   \n",
       "2020-05-26         Lisa Levin     A                      biggest  80.875000   \n",
       "2020-05-22         Lisa Levin     A  stock moving midday session  78.942497   \n",
       "2020-05-22         Vick Meyer     A         neutral price target  78.942497   \n",
       "\n",
       "                 High        Low      Close  Adj Close     Volume  \n",
       "Date                                                               \n",
       "2020-06-05  82.937500  80.807503  82.875000  80.843407  137250400  \n",
       "2020-06-03  81.550003  80.574997  81.279999  79.287506  104491200  \n",
       "2020-05-26  81.059998  79.125000  79.182503  77.241432  125522000  \n",
       "2020-05-22  79.807503  78.837502  79.722504  77.768188   81803200  \n",
       "2020-05-22  79.807503  78.837502  79.722504  77.768188   81803200  "
      ]
     },
     "execution_count": 39,
     "metadata": {},
     "output_type": "execute_result"
    }
   ],
   "source": [
    "aapl_merged_data.head()"
   ]
  },
  {
   "cell_type": "code",
   "execution_count": 40,
   "metadata": {},
   "outputs": [
    {
     "data": {
      "text/html": [
       "<div>\n",
       "<style scoped>\n",
       "    .dataframe tbody tr th:only-of-type {\n",
       "        vertical-align: middle;\n",
       "    }\n",
       "\n",
       "    .dataframe tbody tr th {\n",
       "        vertical-align: top;\n",
       "    }\n",
       "\n",
       "    .dataframe thead th {\n",
       "        text-align: right;\n",
       "    }\n",
       "</style>\n",
       "<table border=\"1\" class=\"dataframe\">\n",
       "  <thead>\n",
       "    <tr style=\"text-align: right;\">\n",
       "      <th></th>\n",
       "      <th>headline</th>\n",
       "      <th>url</th>\n",
       "      <th>publisher</th>\n",
       "      <th>stock</th>\n",
       "      <th>headlineClean</th>\n",
       "      <th>Open</th>\n",
       "      <th>High</th>\n",
       "      <th>Low</th>\n",
       "      <th>Close</th>\n",
       "      <th>Adj Close</th>\n",
       "      <th>Volume</th>\n",
       "    </tr>\n",
       "    <tr>\n",
       "      <th>Date</th>\n",
       "      <th></th>\n",
       "      <th></th>\n",
       "      <th></th>\n",
       "      <th></th>\n",
       "      <th></th>\n",
       "      <th></th>\n",
       "      <th></th>\n",
       "      <th></th>\n",
       "      <th></th>\n",
       "      <th></th>\n",
       "      <th></th>\n",
       "    </tr>\n",
       "  </thead>\n",
       "  <tbody>\n",
       "    <tr>\n",
       "      <th>2009-08-27</th>\n",
       "      <td>China Unicom(CHU) to Launch Apple (AAPL) Iphone</td>\n",
       "      <td>https://www.benzinga.com/benzingastaff1/2009/8...</td>\n",
       "      <td>BenzingaStaff1</td>\n",
       "      <td>A</td>\n",
       "      <td>china launch apple</td>\n",
       "      <td>6.026786</td>\n",
       "      <td>6.056071</td>\n",
       "      <td>5.886786</td>\n",
       "      <td>6.051786</td>\n",
       "      <td>5.110583</td>\n",
       "      <td>449181600</td>\n",
       "    </tr>\n",
       "    <tr>\n",
       "      <th>2011-06-23</th>\n",
       "      <td>At Least We Still Have Apple (AAPL)</td>\n",
       "      <td>https://www.benzinga.com/11/06/1204120/at-leas...</td>\n",
       "      <td>Kevin McElroy</td>\n",
       "      <td>AA</td>\n",
       "      <td>least still apple</td>\n",
       "      <td>11.390714</td>\n",
       "      <td>11.846071</td>\n",
       "      <td>11.361429</td>\n",
       "      <td>11.829643</td>\n",
       "      <td>9.989842</td>\n",
       "      <td>559759200</td>\n",
       "    </tr>\n",
       "    <tr>\n",
       "      <th>2011-01-11</th>\n",
       "      <td>Tuesday's Mid-Day Options Volume Leaders (BAC,...</td>\n",
       "      <td>https://www.benzinga.com/options/11/01/770225/...</td>\n",
       "      <td>Michael J. Zerinskas</td>\n",
       "      <td>AA</td>\n",
       "      <td>midday volume bac</td>\n",
       "      <td>12.317143</td>\n",
       "      <td>12.320000</td>\n",
       "      <td>12.123929</td>\n",
       "      <td>12.201429</td>\n",
       "      <td>10.303806</td>\n",
       "      <td>444108000</td>\n",
       "    </tr>\n",
       "    <tr>\n",
       "      <th>2011-01-10</th>\n",
       "      <td>Monday's Mid-Day Options Volume Leaders (C, AA...</td>\n",
       "      <td>https://www.benzinga.com/options/11/01/766490/...</td>\n",
       "      <td>Michael J. Zerinskas</td>\n",
       "      <td>AA</td>\n",
       "      <td>midday volume bac</td>\n",
       "      <td>12.101071</td>\n",
       "      <td>12.258214</td>\n",
       "      <td>12.041786</td>\n",
       "      <td>12.230357</td>\n",
       "      <td>10.328234</td>\n",
       "      <td>448560000</td>\n",
       "    </tr>\n",
       "    <tr>\n",
       "      <th>2011-01-07</th>\n",
       "      <td>Earnings For The S&amp;P 500 Expected To Be Highes...</td>\n",
       "      <td>https://www.benzinga.com/news/11/01/761590/ear...</td>\n",
       "      <td>Roger Nachman</td>\n",
       "      <td>AA</td>\n",
       "      <td>earnings highest cat dow</td>\n",
       "      <td>11.928214</td>\n",
       "      <td>12.012500</td>\n",
       "      <td>11.853571</td>\n",
       "      <td>12.004286</td>\n",
       "      <td>10.137321</td>\n",
       "      <td>311931200</td>\n",
       "    </tr>\n",
       "    <tr>\n",
       "      <th>...</th>\n",
       "      <td>...</td>\n",
       "      <td>...</td>\n",
       "      <td>...</td>\n",
       "      <td>...</td>\n",
       "      <td>...</td>\n",
       "      <td>...</td>\n",
       "      <td>...</td>\n",
       "      <td>...</td>\n",
       "      <td>...</td>\n",
       "      <td>...</td>\n",
       "      <td>...</td>\n",
       "    </tr>\n",
       "    <tr>\n",
       "      <th>2010-02-03</th>\n",
       "      <td>Mad Money Lightning Round: Jim Prefers MRK, SY...</td>\n",
       "      <td>https://www.benzinga.com/media/cnbc/109830/mad...</td>\n",
       "      <td>Monica Gerson</td>\n",
       "      <td>ZMH</td>\n",
       "      <td>mad money lightning round mot</td>\n",
       "      <td>6.970357</td>\n",
       "      <td>7.150000</td>\n",
       "      <td>6.943571</td>\n",
       "      <td>7.115357</td>\n",
       "      <td>6.008742</td>\n",
       "      <td>615328000</td>\n",
       "    </tr>\n",
       "    <tr>\n",
       "      <th>2014-04-24</th>\n",
       "      <td>ETF Outlook for Thursday, April 24, 2014 (XLK,...</td>\n",
       "      <td>https://www.benzinga.com/etfs/sector-etfs/14/0...</td>\n",
       "      <td>Matthew McCall</td>\n",
       "      <td>ZNGA</td>\n",
       "      <td>outlook</td>\n",
       "      <td>20.293215</td>\n",
       "      <td>20.357143</td>\n",
       "      <td>20.026072</td>\n",
       "      <td>20.277500</td>\n",
       "      <td>17.815914</td>\n",
       "      <td>759911600</td>\n",
       "    </tr>\n",
       "    <tr>\n",
       "      <th>2012-05-29</th>\n",
       "      <td>Stocks to Watch for the All Things Digital Con...</td>\n",
       "      <td>https://www.benzinga.com/trading-ideas/long-id...</td>\n",
       "      <td>Alex Shek</td>\n",
       "      <td>ZNGA</td>\n",
       "      <td>stock watch digital conference</td>\n",
       "      <td>20.389286</td>\n",
       "      <td>20.500000</td>\n",
       "      <td>20.189644</td>\n",
       "      <td>20.438213</td>\n",
       "      <td>17.259563</td>\n",
       "      <td>380508800</td>\n",
       "    </tr>\n",
       "    <tr>\n",
       "      <th>2011-01-19</th>\n",
       "      <td>Claussen to WSJ: Apple (AAPL) Options Action A...</td>\n",
       "      <td>https://www.benzinga.com/11/01/791327/claussen...</td>\n",
       "      <td>Options House</td>\n",
       "      <td>ZQK</td>\n",
       "      <td>apple action cautiously bullish</td>\n",
       "      <td>12.441071</td>\n",
       "      <td>12.450000</td>\n",
       "      <td>12.031429</td>\n",
       "      <td>12.101429</td>\n",
       "      <td>10.219356</td>\n",
       "      <td>1135612800</td>\n",
       "    </tr>\n",
       "    <tr>\n",
       "      <th>2015-08-17</th>\n",
       "      <td>Quartz's Shelly Banjo Tweets: 'With purchase o...</td>\n",
       "      <td>https://www.benzinga.com/news/15/08/5770183/qu...</td>\n",
       "      <td>Paul Quintaro</td>\n",
       "      <td>ZU</td>\n",
       "      <td>shelly banjo purchase becomes fourth retailer ...</td>\n",
       "      <td>29.010000</td>\n",
       "      <td>29.412500</td>\n",
       "      <td>28.875000</td>\n",
       "      <td>29.290001</td>\n",
       "      <td>26.451382</td>\n",
       "      <td>163538800</td>\n",
       "    </tr>\n",
       "  </tbody>\n",
       "</table>\n",
       "<p>1466 rows × 11 columns</p>\n",
       "</div>"
      ],
      "text/plain": [
       "                                                     headline  \\\n",
       "Date                                                            \n",
       "2009-08-27    China Unicom(CHU) to Launch Apple (AAPL) Iphone   \n",
       "2011-06-23                At Least We Still Have Apple (AAPL)   \n",
       "2011-01-11  Tuesday's Mid-Day Options Volume Leaders (BAC,...   \n",
       "2011-01-10  Monday's Mid-Day Options Volume Leaders (C, AA...   \n",
       "2011-01-07  Earnings For The S&P 500 Expected To Be Highes...   \n",
       "...                                                       ...   \n",
       "2010-02-03  Mad Money Lightning Round: Jim Prefers MRK, SY...   \n",
       "2014-04-24  ETF Outlook for Thursday, April 24, 2014 (XLK,...   \n",
       "2012-05-29  Stocks to Watch for the All Things Digital Con...   \n",
       "2011-01-19  Claussen to WSJ: Apple (AAPL) Options Action A...   \n",
       "2015-08-17  Quartz's Shelly Banjo Tweets: 'With purchase o...   \n",
       "\n",
       "                                                          url  \\\n",
       "Date                                                            \n",
       "2009-08-27  https://www.benzinga.com/benzingastaff1/2009/8...   \n",
       "2011-06-23  https://www.benzinga.com/11/06/1204120/at-leas...   \n",
       "2011-01-11  https://www.benzinga.com/options/11/01/770225/...   \n",
       "2011-01-10  https://www.benzinga.com/options/11/01/766490/...   \n",
       "2011-01-07  https://www.benzinga.com/news/11/01/761590/ear...   \n",
       "...                                                       ...   \n",
       "2010-02-03  https://www.benzinga.com/media/cnbc/109830/mad...   \n",
       "2014-04-24  https://www.benzinga.com/etfs/sector-etfs/14/0...   \n",
       "2012-05-29  https://www.benzinga.com/trading-ideas/long-id...   \n",
       "2011-01-19  https://www.benzinga.com/11/01/791327/claussen...   \n",
       "2015-08-17  https://www.benzinga.com/news/15/08/5770183/qu...   \n",
       "\n",
       "                       publisher stock  \\\n",
       "Date                                     \n",
       "2009-08-27        BenzingaStaff1     A   \n",
       "2011-06-23         Kevin McElroy    AA   \n",
       "2011-01-11  Michael J. Zerinskas    AA   \n",
       "2011-01-10  Michael J. Zerinskas    AA   \n",
       "2011-01-07         Roger Nachman    AA   \n",
       "...                          ...   ...   \n",
       "2010-02-03         Monica Gerson   ZMH   \n",
       "2014-04-24        Matthew McCall  ZNGA   \n",
       "2012-05-29             Alex Shek  ZNGA   \n",
       "2011-01-19         Options House   ZQK   \n",
       "2015-08-17         Paul Quintaro    ZU   \n",
       "\n",
       "                                                headlineClean       Open  \\\n",
       "Date                                                                       \n",
       "2009-08-27                                 china launch apple   6.026786   \n",
       "2011-06-23                                  least still apple  11.390714   \n",
       "2011-01-11                                  midday volume bac  12.317143   \n",
       "2011-01-10                                  midday volume bac  12.101071   \n",
       "2011-01-07                           earnings highest cat dow  11.928214   \n",
       "...                                                       ...        ...   \n",
       "2010-02-03                      mad money lightning round mot   6.970357   \n",
       "2014-04-24                                            outlook  20.293215   \n",
       "2012-05-29                     stock watch digital conference  20.389286   \n",
       "2011-01-19                    apple action cautiously bullish  12.441071   \n",
       "2015-08-17  shelly banjo purchase becomes fourth retailer ...  29.010000   \n",
       "\n",
       "                 High        Low      Close  Adj Close      Volume  \n",
       "Date                                                                \n",
       "2009-08-27   6.056071   5.886786   6.051786   5.110583   449181600  \n",
       "2011-06-23  11.846071  11.361429  11.829643   9.989842   559759200  \n",
       "2011-01-11  12.320000  12.123929  12.201429  10.303806   444108000  \n",
       "2011-01-10  12.258214  12.041786  12.230357  10.328234   448560000  \n",
       "2011-01-07  12.012500  11.853571  12.004286  10.137321   311931200  \n",
       "...               ...        ...        ...        ...         ...  \n",
       "2010-02-03   7.150000   6.943571   7.115357   6.008742   615328000  \n",
       "2014-04-24  20.357143  20.026072  20.277500  17.815914   759911600  \n",
       "2012-05-29  20.500000  20.189644  20.438213  17.259563   380508800  \n",
       "2011-01-19  12.450000  12.031429  12.101429  10.219356  1135612800  \n",
       "2015-08-17  29.412500  28.875000  29.290001  26.451382   163538800  \n",
       "\n",
       "[1466 rows x 11 columns]"
      ]
     },
     "execution_count": 40,
     "metadata": {},
     "output_type": "execute_result"
    }
   ],
   "source": [
    "# Filter rows where 'headline' contains \"AAPL\"\n",
    "aapl_related_data = aapl_merged_data[aapl_merged_data['headline'].str.contains(\"AAPL\", case=False, na=False)]\n",
    "\n",
    "# Display the filtered DataFrame\n",
    "aapl_related_data"
   ]
  },
  {
   "cell_type": "code",
   "execution_count": null,
   "metadata": {},
   "outputs": [],
   "source": []
  }
 ],
 "metadata": {
  "kernelspec": {
   "display_name": "Python 3",
   "language": "python",
   "name": "python3"
  },
  "language_info": {
   "codemirror_mode": {
    "name": "ipython",
    "version": 3
   },
   "file_extension": ".py",
   "mimetype": "text/x-python",
   "name": "python",
   "nbconvert_exporter": "python",
   "pygments_lexer": "ipython3",
   "version": "3.9.21"
  }
 },
 "nbformat": 4,
 "nbformat_minor": 2
}
